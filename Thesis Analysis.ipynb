{
 "cells": [
  {
   "cell_type": "code",
   "execution_count": 4,
   "metadata": {},
   "outputs": [],
   "source": [
    "#importing all the libraries\n",
    "import pandas as pd\n",
    "import numpy as np\n",
    "import matplotlib.pyplot as plt\n",
    "%matplotlib inline \n",
    "from sklearn.feature_extraction.text import CountVectorizer\n",
    "from sklearn.preprocessing import LabelBinarizer\n",
    "from sklearn.model_selection import train_test_split\n",
    "from sklearn.metrics import accuracy_score\n",
    "from sklearn.metrics import classification_report\n",
    "from keras.models import Sequential\n",
    "from keras.layers import Dense, Activation, Dropout, BatchNormalization\n",
    "from keras.optimizers import Adam\n",
    "from keras import regularizers\n",
    "from keras.preprocessing.text import Tokenizer\n",
    "from keras.preprocessing.sequence import pad_sequences\n",
    "from keras.utils import to_categorical\n",
    "from sklearn.preprocessing import LabelBinarizer\n",
    "from gensim.models import KeyedVectors\n"
   ]
  },
  {
   "cell_type": "markdown",
   "metadata": {},
   "source": [
    "Loading the dataset"
   ]
  },
  {
   "cell_type": "code",
   "execution_count": 2,
   "metadata": {},
   "outputs": [],
   "source": [
    "df = pd.read_csv(\"new_complaints3.csv\") "
   ]
  },
  {
   "cell_type": "code",
   "execution_count": 5,
   "metadata": {},
   "outputs": [],
   "source": [
    "vectors = KeyedVectors.load('vectors.kv')"
   ]
  },
  {
   "cell_type": "code",
   "execution_count": 4,
   "metadata": {},
   "outputs": [],
   "source": [
    "# Load vectors directly from the fileArgue\n",
    "vectors = KeyedVectors.load_word2vec_format('GoogleNews-vectors-negative300.bin.gz', binary=True)"
   ]
  },
  {
   "cell_type": "code",
   "execution_count": 26,
   "metadata": {},
   "outputs": [],
   "source": [
    "#splitting the data into feature and label\n",
    "X_data = df['new']\n",
    "y_data = df['Product']"
   ]
  },
  {
   "cell_type": "code",
   "execution_count": 27,
   "metadata": {},
   "outputs": [
    {
     "data": {
      "text/plain": [
       "0         transworld systems inc \\nis trying to collect ...\n",
       "1         Over the past 2 weeks I have been receiving ex...\n",
       "2         Pioneer has committed several federal violatio...\n",
       "3         Previously on XX XX XXXX XX XX XXXX and XX XX ...\n",
       "4         Hello This complaint is against the three cred...\n",
       "                                ...                        \n",
       "597869    1  Mailing Address is incorrect \\n2  Date of B...\n",
       "597870    I made a purchase of ##### on XXXX XXXX #### u...\n",
       "597871    On XXXX XXXX #### I contacted XXXX XXXX who is...\n",
       "597872    I can not get from chase who services my mortg...\n",
       "597873    cfbp i would Like to file a complaint on Exper...\n",
       "Name: new, Length: 597874, dtype: object"
      ]
     },
     "execution_count": 27,
     "metadata": {},
     "output_type": "execute_result"
    }
   ],
   "source": [
    "X_data"
   ]
  },
  {
   "cell_type": "code",
   "execution_count": 28,
   "metadata": {},
   "outputs": [],
   "source": [
    "X = X_data.values\n",
    "y = y_data.values"
   ]
  },
  {
   "cell_type": "code",
   "execution_count": 29,
   "metadata": {},
   "outputs": [
    {
     "data": {
      "text/plain": [
       "array(['transworld systems inc \\nis trying to collect a debt that is not mine not owed and is inaccurate',\n",
       "       'Over the past 2 weeks I have been receiving excessive amounts of telephone calls from the company listed in this complaint The calls occur between XXXX XXXX and XXXX XXXX to my cell and at my job The company does not have the right to harass me at work and I want this to stop It is extremely distracting to be told 5 times a day that I have a call from this collection agency while at work',\n",
       "       'Pioneer has committed several federal violations against me a Private law abiding Federally Protected Consumer Each violation is a statutory cost of ##### each which does not include my personal cost and fees which shall be determined for taking time to address these issues Violations committed against me include but not limited to   1  Violated ## USC ####c  a   Communication without prior consent expressed permission  2  Violated ## USC ####d  Harass and oppressive use of intercourse about an alleged debt  3  Violated ## USC ####d  l   Attacking my reputation accusing me of owing an alleged debt to you  4  Violated ## USC ####e  9   Use distribution of communication with authorization or approval  5  Violated ## USC ####f  l   Attempting to collect a debt unauthorized by an agreement between parties',\n",
       "       ...,\n",
       "       'On XXXX XXXX #### I contacted XXXX XXXX who is a Branch Manager  XXXX  XXXX  with GATEWAY FUNDING and learned I can lower my mortgage monthly payment from approximately ##### to ##### I was ecstatic because I would have saved over ##### each month XXXX XXXX sent me via email the DETAILS OF TRANSACTION detailing I would pay that amount During the escrow process on XXXX XXXX I was instructed to wire ##### and thought my application was completed On XXXX XXXX XXXX XXXX contacted me and stated it required me to pay an additional ##### because certain expenses were overlooked by XXXX XXXX I contacted XXXX XXXX about my additional expense to which he stated GATEWAY FUNDING will refund ##### back to me after I send in the money to complete the escrow process \\n\\nI am complaining about XXXX issues  I learned my mortgage monthly payment was not ##### as promised by XXXX XXXX but instead ##### and I have not received my refund in the amount of ##### as promised by XXXX XXXX on XXXX XXXX When I contacted him via telephone on XXXX XXXX about the monthly payment he stated he made a mistake I have contacted XXXX XXXX on XXXX occasions about the refund check I contacted him via telephone on XXXX XXXX which he stated he will issue the check on XXXX XXXX the Friday after the application process was completed I contacted him on XXXX XXXX and he stated he would authorize the refund check When I last contacted him on XXXX XXXX I was told I should have already received it then later verified by XXXX XXXX that he check has not been issued or delivered \\n\\nIt is my belief XXXX XXXX is taking advantage of my lack of knowledge in the loan application process by informing me of his many years of outstanding services and a promise of lower month mortgage payment only to deceit me to benefit himself',\n",
       "       'I can not get from chase who services my mortgage who owns it and who has original loan docs and signatures',\n",
       "       'cfbp i would Like to file a complaint on Experian reporting agency On XX XX XXXX I sent in via Cerified mail this letter below asking Experian To investigate credit inquires as you Can see in my letter I asked them For details Infomation reguarding the inquires i got a letter from them On XX XX #### stating that they could nt remove any of the Inquires Number 1 They failed to send me any of the information I asked them to send me in order to verify these Fraudulent inquires I asked that Experian Please send me the Info below or please REMOVE THESE ITEMS ASAP IF YOU ARE ABLE TO VERIFY THE INFO THAT I REQUESTED \\nMOST INPORTANT EXPERIAN IS FAILING TO SEND ME UPDATED CREDIT REPORT AFTER THEY ARE DELTED AND UPDATING MY INFORMATION THAT IN VIOLATION OF THE FCRA THIS IS MY 2ND REQ FOR UPDATED CREDIT REPORTS FROM THIS COMPANY'],\n",
       "      dtype=object)"
      ]
     },
     "execution_count": 29,
     "metadata": {},
     "output_type": "execute_result"
    }
   ],
   "source": [
    "X"
   ]
  },
  {
   "cell_type": "code",
   "execution_count": 30,
   "metadata": {},
   "outputs": [],
   "source": [
    "X_train, X_val, y_train, y_val = train_test_split(X, y, test_size=0.2, random_state=666, stratify=y)"
   ]
  },
  {
   "cell_type": "code",
   "execution_count": 31,
   "metadata": {},
   "outputs": [],
   "source": [
    "#Tokenize the sentences\n",
    "tokenizer = Tokenizer()\n",
    "\n",
    "#preparing vocabulary\n",
    "tokenizer.fit_on_texts(list(X_train))"
   ]
  },
  {
   "cell_type": "code",
   "execution_count": 32,
   "metadata": {},
   "outputs": [],
   "source": [
    "#converting text into integer sequences\n",
    "x_tr_seq  = tokenizer.texts_to_sequences(X_train) \n",
    "x_val_seq = tokenizer.texts_to_sequences(X_val)"
   ]
  },
  {
   "cell_type": "code",
   "execution_count": 33,
   "metadata": {},
   "outputs": [],
   "source": [
    "#padding to prepare sequences of same length\n",
    "x_tr_seq  = pad_sequences(x_tr_seq, maxlen=250)\n",
    "x_val_seq = pad_sequences(x_val_seq, maxlen=250)"
   ]
  },
  {
   "cell_type": "code",
   "execution_count": 34,
   "metadata": {},
   "outputs": [
    {
     "name": "stdout",
     "output_type": "stream",
     "text": [
      "138413\n"
     ]
    }
   ],
   "source": [
    "size_of_vocabulary=len(tokenizer.word_index) + 1 #+1 for padding\n",
    "print(size_of_vocabulary)"
   ]
  },
  {
   "cell_type": "code",
   "execution_count": 35,
   "metadata": {},
   "outputs": [],
   "source": [
    "# create a weight matrix for words in training docs\n",
    "embedding_matrix = np.zeros((size_of_vocabulary, 300))"
   ]
  },
  {
   "cell_type": "code",
   "execution_count": 36,
   "metadata": {},
   "outputs": [
    {
     "data": {
      "text/plain": [
       "(138414, 300)"
      ]
     },
     "execution_count": 36,
     "metadata": {},
     "output_type": "execute_result"
    }
   ],
   "source": [
    "embedding_matrix.shape"
   ]
  },
  {
   "cell_type": "code",
   "execution_count": 36,
   "metadata": {},
   "outputs": [
    {
     "name": "stderr",
     "output_type": "stream",
     "text": [
      "C:\\Users\\virah\\anaconda3\\lib\\site-packages\\tqdm\\std.py:668: FutureWarning: The Panel class is removed from pandas. Accessing it from the top-level namespace will also be removed in the next version\n",
      "  from pandas import Panel\n"
     ]
    }
   ],
   "source": [
    "from tqdm import tqdm\n",
    "tqdm.pandas()"
   ]
  },
  {
   "cell_type": "markdown",
   "metadata": {},
   "source": [
    "Build the embedding matrix"
   ]
  },
  {
   "cell_type": "code",
   "execution_count": 37,
   "metadata": {},
   "outputs": [
    {
     "name": "stderr",
     "output_type": "stream",
     "text": [
      "100%|██████████| 138412/138412 [00:11<00:00, 12271.19it/s]\n"
     ]
    }
   ],
   "source": [
    "for word, i in tqdm(tokenizer.word_index.items()):\n",
    "    try:\n",
    "        embedding_vector = vectors[word]\n",
    "        embedding_matrix[i] = embedding_vector\n",
    "    except:\n",
    "        embedding_vector = vectors['UNK']\n",
    "        embedding_matrix[i] = embedding_vector"
   ]
  },
  {
   "cell_type": "code",
   "execution_count": 56,
   "metadata": {},
   "outputs": [
    {
     "data": {
      "text/plain": [
       "138412"
      ]
     },
     "execution_count": 56,
     "metadata": {},
     "output_type": "execute_result"
    }
   ],
   "source": [
    "len(tokenizer.word_index)"
   ]
  },
  {
   "cell_type": "code",
   "execution_count": 53,
   "metadata": {},
   "outputs": [
    {
     "data": {
      "text/plain": [
       "(138413, 300)"
      ]
     },
     "execution_count": 53,
     "metadata": {},
     "output_type": "execute_result"
    }
   ],
   "source": [
    "embedding_matrix.shape"
   ]
  },
  {
   "cell_type": "code",
   "execution_count": 38,
   "metadata": {},
   "outputs": [
    {
     "data": {
      "text/plain": [
       "0.9999927752450998"
      ]
     },
     "execution_count": 38,
     "metadata": {},
     "output_type": "execute_result"
    }
   ],
   "source": [
    "nonzero_elements = np.count_nonzero(np.count_nonzero(embedding_matrix, axis=1))\n",
    "nonzero_elements / size_of_vocabulary"
   ]
  },
  {
   "cell_type": "code",
   "execution_count": 60,
   "metadata": {},
   "outputs": [],
   "source": [
    "from sklearn.preprocessing import LabelBinarizer"
   ]
  },
  {
   "cell_type": "code",
   "execution_count": 61,
   "metadata": {},
   "outputs": [],
   "source": [
    "lb = LabelBinarizer()\n",
    "y_train = lb.fit_transform(y_train)\n",
    "y_val   = lb.transform(y_val)"
   ]
  },
  {
   "cell_type": "code",
   "execution_count": 93,
   "metadata": {},
   "outputs": [],
   "source": [
    "sequence_length = 250\n",
    "#max_features = size_of_vocabulary\n",
    "num_words = size_of_vocabulary"
   ]
  },
  {
   "cell_type": "code",
   "execution_count": 96,
   "metadata": {},
   "outputs": [],
   "source": [
    "from keras.layers import Input, Embedding, Reshape, Conv2D, MaxPool2D, Concatenate, Flatten"
   ]
  },
  {
   "cell_type": "code",
   "execution_count": 98,
   "metadata": {},
   "outputs": [],
   "source": [
    "from keras.initializers import Constant"
   ]
  },
  {
   "cell_type": "code",
   "execution_count": 102,
   "metadata": {},
   "outputs": [],
   "source": [
    "embedding_dim = 300 # Kim uses 300 here\n",
    "num_filters = 100\n",
    "\n",
    "inputs = Input(shape=(sequence_length,), dtype='int32')\n",
    "\n",
    "# note the `trainable=False`, later we will make this layer trainable\n",
    "embedding_layer = Embedding(num_words,\n",
    "                            embedding_dim,\n",
    "                            embeddings_initializer=Constant(embedding_matrix),\n",
    "                            input_length=sequence_length,\n",
    "                            trainable=False)(inputs)\n",
    "\n",
    "reshape = Reshape((sequence_length, embedding_dim, 1))(embedding_layer)\n",
    "\n",
    "# Note the relu activation which Kim specifically mentions\n",
    "# He also uses an l2 constraint of 3\n",
    "# Also, note that the convolution window acts on the whole 200 dimensions - that's important\n",
    "conv_0 = Conv2D(num_filters, kernel_size=(3, embedding_dim), activation='relu', kernel_regularizer=regularizers.l2(3))(reshape)\n",
    "conv_1 = Conv2D(num_filters, kernel_size=(4, embedding_dim), activation='relu', kernel_regularizer=regularizers.l2(3))(reshape)\n",
    "conv_2 = Conv2D(num_filters, kernel_size=(5, embedding_dim), activation='relu', kernel_regularizer=regularizers.l2(3))(reshape)\n",
    "\n",
    "# perform max pooling on each of the convoluations\n",
    "maxpool_0 = MaxPool2D(pool_size=(sequence_length - 3 + 1, 1), strides=(1,1), padding='valid')(conv_0)\n",
    "maxpool_1 = MaxPool2D(pool_size=(sequence_length - 4 + 1, 1), strides=(1,1), padding='valid')(conv_1)\n",
    "maxpool_2 = MaxPool2D(pool_size=(sequence_length - 5 + 1, 1), strides=(1,1), padding='valid')(conv_2)\n",
    "\n",
    "# concat and flatten\n",
    "concatenated_tensor = Concatenate(axis=1)([maxpool_0, maxpool_1, maxpool_2])\n",
    "flatten = Flatten()(concatenated_tensor)\n",
    "\n",
    "# do dropout and predict\n",
    "dropout = Dropout(0.5)(flatten)\n",
    "output = Dense(units=9, activation='softmax')(dropout)"
   ]
  },
  {
   "cell_type": "code",
   "execution_count": 84,
   "metadata": {},
   "outputs": [],
   "source": [
    "from keras import Model"
   ]
  },
  {
   "cell_type": "code",
   "execution_count": 103,
   "metadata": {},
   "outputs": [
    {
     "name": "stdout",
     "output_type": "stream",
     "text": [
      "Model: \"functional_9\"\n",
      "__________________________________________________________________________________________________\n",
      "Layer (type)                    Output Shape         Param #     Connected to                     \n",
      "==================================================================================================\n",
      "input_13 (InputLayer)           [(None, 250)]        0                                            \n",
      "__________________________________________________________________________________________________\n",
      "embedding_9 (Embedding)         (None, 250, 300)     41523900    input_13[0][0]                   \n",
      "__________________________________________________________________________________________________\n",
      "reshape_8 (Reshape)             (None, 250, 300, 1)  0           embedding_9[0][0]                \n",
      "__________________________________________________________________________________________________\n",
      "conv2d_21 (Conv2D)              (None, 248, 1, 100)  90100       reshape_8[0][0]                  \n",
      "__________________________________________________________________________________________________\n",
      "conv2d_22 (Conv2D)              (None, 247, 1, 100)  120100      reshape_8[0][0]                  \n",
      "__________________________________________________________________________________________________\n",
      "conv2d_23 (Conv2D)              (None, 246, 1, 100)  150100      reshape_8[0][0]                  \n",
      "__________________________________________________________________________________________________\n",
      "max_pooling2d_18 (MaxPooling2D) (None, 1, 1, 100)    0           conv2d_21[0][0]                  \n",
      "__________________________________________________________________________________________________\n",
      "max_pooling2d_19 (MaxPooling2D) (None, 1, 1, 100)    0           conv2d_22[0][0]                  \n",
      "__________________________________________________________________________________________________\n",
      "max_pooling2d_20 (MaxPooling2D) (None, 1, 1, 100)    0           conv2d_23[0][0]                  \n",
      "__________________________________________________________________________________________________\n",
      "concatenate_5 (Concatenate)     (None, 3, 1, 100)    0           max_pooling2d_18[0][0]           \n",
      "                                                                 max_pooling2d_19[0][0]           \n",
      "                                                                 max_pooling2d_20[0][0]           \n",
      "__________________________________________________________________________________________________\n",
      "flatten_4 (Flatten)             (None, 300)          0           concatenate_5[0][0]              \n",
      "__________________________________________________________________________________________________\n",
      "dropout_4 (Dropout)             (None, 300)          0           flatten_4[0][0]                  \n",
      "__________________________________________________________________________________________________\n",
      "dense_4 (Dense)                 (None, 9)            2709        dropout_4[0][0]                  \n",
      "==================================================================================================\n",
      "Total params: 41,886,909\n",
      "Trainable params: 363,009\n",
      "Non-trainable params: 41,523,900\n",
      "__________________________________________________________________________________________________\n",
      "None\n"
     ]
    }
   ],
   "source": [
    "model = Model(inputs=inputs, outputs=output)\n",
    "model.compile(loss='categorical_crossentropy', optimizer='adam', metrics=['accuracy'])\n",
    "print(model.summary())"
   ]
  },
  {
   "cell_type": "code",
   "execution_count": 104,
   "metadata": {},
   "outputs": [
    {
     "name": "stdout",
     "output_type": "stream",
     "text": [
      "Epoch 1/30\n",
      "319/319 [==============================] - 2811s 9s/step - loss: 1.9512 - accuracy: 0.4066 - val_loss: 1.6639 - val_accuracy: 0.4116\n",
      "Epoch 2/30\n",
      "319/319 [==============================] - 2870s 9s/step - loss: 1.6250 - accuracy: 0.4834 - val_loss: 1.5712 - val_accuracy: 0.5504\n",
      "Epoch 3/30\n",
      "319/319 [==============================] - 2851s 9s/step - loss: 1.5473 - accuracy: 0.5485 - val_loss: 1.4934 - val_accuracy: 0.5843\n",
      "Epoch 4/30\n",
      "319/319 [==============================] - 2655s 8s/step - loss: 1.4971 - accuracy: 0.5758 - val_loss: 1.4570 - val_accuracy: 0.5812\n",
      "Epoch 5/30\n",
      "319/319 [==============================] - 2652s 8s/step - loss: 1.4585 - accuracy: 0.5898 - val_loss: 1.4409 - val_accuracy: 0.5831\n",
      "Epoch 6/30\n",
      "319/319 [==============================] - 2639s 8s/step - loss: 1.4398 - accuracy: 0.5978 - val_loss: 1.3768 - val_accuracy: 0.6260\n",
      "Epoch 7/30\n",
      "319/319 [==============================] - 2633s 8s/step - loss: 1.4074 - accuracy: 0.6047 - val_loss: 1.3562 - val_accuracy: 0.6159\n",
      "Epoch 8/30\n",
      "319/319 [==============================] - 2584s 8s/step - loss: 1.3966 - accuracy: 0.6095 - val_loss: 1.3265 - val_accuracy: 0.6365\n",
      "Epoch 9/30\n",
      "319/319 [==============================] - 2619s 8s/step - loss: 1.3759 - accuracy: 0.6154 - val_loss: 1.3334 - val_accuracy: 0.6190\n",
      "Epoch 10/30\n",
      "319/319 [==============================] - 2630s 8s/step - loss: 1.3580 - accuracy: 0.6227 - val_loss: 1.2848 - val_accuracy: 0.6508\n",
      "Epoch 11/30\n",
      "319/319 [==============================] - 2641s 8s/step - loss: 1.3485 - accuracy: 0.6276 - val_loss: 1.3101 - val_accuracy: 0.6672\n",
      "Epoch 12/30\n",
      "319/319 [==============================] - 2627s 8s/step - loss: 1.3334 - accuracy: 0.6337 - val_loss: 1.2741 - val_accuracy: 0.6543\n",
      "Epoch 13/30\n",
      "319/319 [==============================] - 2599s 8s/step - loss: 1.3265 - accuracy: 0.6376 - val_loss: 1.2876 - val_accuracy: 0.6691\n",
      "Epoch 14/30\n",
      "319/319 [==============================] - 2491s 8s/step - loss: 1.3176 - accuracy: 0.6425 - val_loss: 1.2754 - val_accuracy: 0.6643\n",
      "Epoch 15/30\n",
      "319/319 [==============================] - 2463s 8s/step - loss: 1.3036 - accuracy: 0.6470 - val_loss: 1.2420 - val_accuracy: 0.6550\n",
      "Epoch 16/30\n",
      "319/319 [==============================] - 2566s 8s/step - loss: 1.2929 - accuracy: 0.6498 - val_loss: 1.2308 - val_accuracy: 0.6598\n",
      "Epoch 17/30\n",
      "319/319 [==============================] - 2645s 8s/step - loss: 1.2909 - accuracy: 0.6515 - val_loss: 1.2289 - val_accuracy: 0.6666\n",
      "Epoch 18/30\n",
      "319/319 [==============================] - 2640s 8s/step - loss: 1.2921 - accuracy: 0.6533 - val_loss: 1.2297 - val_accuracy: 0.6857\n",
      "Epoch 19/30\n",
      "319/319 [==============================] - 2650s 8s/step - loss: 1.2729 - accuracy: 0.6577 - val_loss: 1.1922 - val_accuracy: 0.6999\n",
      "Epoch 20/30\n",
      "319/319 [==============================] - 2644s 8s/step - loss: 1.2735 - accuracy: 0.6582 - val_loss: 1.1796 - val_accuracy: 0.6930\n",
      "Epoch 21/30\n",
      "319/319 [==============================] - 2623s 8s/step - loss: 1.2620 - accuracy: 0.6609 - val_loss: 1.2170 - val_accuracy: 0.7037\n",
      "Epoch 22/30\n",
      "319/319 [==============================] - 2619s 8s/step - loss: 1.2694 - accuracy: 0.6603 - val_loss: 1.1717 - val_accuracy: 0.7015\n",
      "Epoch 23/30\n",
      "319/319 [==============================] - 2674s 8s/step - loss: 1.2546 - accuracy: 0.6626 - val_loss: 1.1824 - val_accuracy: 0.6979\n",
      "Epoch 24/30\n",
      "319/319 [==============================] - 2697s 8s/step - loss: 1.2520 - accuracy: 0.6634 - val_loss: 1.1736 - val_accuracy: 0.6955\n",
      "Epoch 25/30\n",
      "319/319 [==============================] - 2655s 8s/step - loss: 1.2475 - accuracy: 0.6642 - val_loss: 1.1830 - val_accuracy: 0.6993\n",
      "Epoch 26/30\n",
      "319/319 [==============================] - 2803s 9s/step - loss: 1.2442 - accuracy: 0.6640 - val_loss: 1.1892 - val_accuracy: 0.6981\n",
      "Epoch 27/30\n",
      "319/319 [==============================] - 2905s 9s/step - loss: 1.2388 - accuracy: 0.6670 - val_loss: 1.1414 - val_accuracy: 0.6966\n",
      "Epoch 28/30\n",
      "319/319 [==============================] - 2957s 9s/step - loss: 1.2347 - accuracy: 0.6673 - val_loss: 1.1635 - val_accuracy: 0.6919\n",
      "Epoch 29/30\n",
      "319/319 [==============================] - 2852s 9s/step - loss: 1.2360 - accuracy: 0.6695 - val_loss: 1.1988 - val_accuracy: 0.7076\n",
      "Epoch 30/30\n",
      "319/319 [==============================] - 2876s 9s/step - loss: 1.2356 - accuracy: 0.6687 - val_loss: 1.1806 - val_accuracy: 0.7037\n"
     ]
    }
   ],
   "source": [
    "batch_size = 1500 # Kim uses 50 here, I have a slightly smaller sample size than num\n",
    "history = model.fit(x_tr_seq, y_train, epochs=30, batch_size=batch_size, verbose=1,  \n",
    "                    validation_data=(x_val_seq, y_val))"
   ]
  },
  {
   "cell_type": "code",
   "execution_count": 111,
   "metadata": {},
   "outputs": [],
   "source": [
    "import pickle"
   ]
  },
  {
   "cell_type": "code",
   "execution_count": 109,
   "metadata": {},
   "outputs": [],
   "source": [
    "with open('trainHistoryDict_we_cnn', 'wb') as file_pi:\n",
    "        pickle.dump(history.history, file_pi)"
   ]
  },
  {
   "cell_type": "code",
   "execution_count": 112,
   "metadata": {},
   "outputs": [
    {
     "name": "stdout",
     "output_type": "stream",
     "text": [
      "Saved model to disk\n"
     ]
    }
   ],
   "source": [
    "# serialize model to JSON\n",
    "we_cnn = model.to_json()\n",
    "with open(\"we_cnn.json\", \"w\") as json_file:\n",
    "    json_file.write(we_cnn)\n",
    "# serialize weights to HDF5\n",
    "model.save_weights(\"we_cnn.h5\")\n",
    "print(\"Saved model to disk\")"
   ]
  },
  {
   "cell_type": "code",
   "execution_count": 114,
   "metadata": {},
   "outputs": [
    {
     "name": "stdout",
     "output_type": "stream",
     "text": [
      "Loaded model from disk\n",
      "accuracy: 70.37%\n"
     ]
    }
   ],
   "source": [
    "from keras.models import model_from_json\n",
    "\n",
    "# load json and create model\n",
    "json_file = open('we_cnn.json', 'r')\n",
    "loaded_model_json = json_file.read()\n",
    "json_file.close()\n",
    "loaded_model = model_from_json(loaded_model_json)\n",
    "# load weights into new model\n",
    "loaded_model.load_weights(\"we_cnn.h5\")\n",
    "print(\"Loaded model from disk\")\n",
    " \n",
    "# evaluate loaded model on test data\n",
    "loaded_model.compile(loss='categorical_crossentropy', optimizer='adam', metrics=['accuracy'])\n",
    "score = loaded_model.evaluate(x_val_seq, y_val, verbose=0)\n",
    "print(\"%s: %.2f%%\" % (loaded_model.metrics_names[1], score[1]*100))"
   ]
  },
  {
   "cell_type": "code",
   "execution_count": null,
   "metadata": {},
   "outputs": [],
   "source": [
    "# load the whole embedding into memory\n",
    "embeddings_index = dict()\n",
    "f = open('glove.6B.300d.txt',  encoding=\"utf8\")\n",
    "\n",
    "for line in f:\n",
    "    values = line.split()\n",
    "    word = values[0]\n",
    "    coefs = np.asarray(values[1:], dtype='float32')\n",
    "    embeddings_index[word] = coefs\n",
    "\n",
    "f.close()\n",
    "print('Loaded %s word vectors.' % len(embeddings_index))"
   ]
  },
  {
   "cell_type": "code",
   "execution_count": 25,
   "metadata": {},
   "outputs": [],
   "source": [
    "# create a weight matrix for words in training docs\n",
    "embedding_matrix = np.zeros((size_of_vocabulary, 300))\n",
    "\n",
    "for word, i in tokenizer.word_index.items():\n",
    "    embedding_vector = model['word']\n",
    "    if embedding_vector is not None:\n",
    "        embedding_matrix[i] = embedding_vector"
   ]
  },
  {
   "cell_type": "code",
   "execution_count": 79,
   "metadata": {},
   "outputs": [
    {
     "data": {
      "text/plain": [
       "(138414, 300)"
      ]
     },
     "execution_count": 79,
     "metadata": {},
     "output_type": "execute_result"
    }
   ],
   "source": [
    "embedding_matrix.shape"
   ]
  },
  {
   "cell_type": "code",
   "execution_count": 120,
   "metadata": {},
   "outputs": [
    {
     "name": "stdout",
     "output_type": "stream",
     "text": [
      "Model: \"sequential_7\"\n",
      "_________________________________________________________________\n",
      "Layer (type)                 Output Shape              Param #   \n",
      "=================================================================\n",
      "embedding_6 (Embedding)      (None, 250, 300)          41524200  \n",
      "_________________________________________________________________\n",
      "global_max_pooling1d_6 (Glob (None, 300)               0         \n",
      "_________________________________________________________________\n",
      "dense_12 (Dense)             (None, 64)                19264     \n",
      "_________________________________________________________________\n",
      "dense_13 (Dense)             (None, 9)                 585       \n",
      "=================================================================\n",
      "Total params: 41,544,049\n",
      "Trainable params: 19,849\n",
      "Non-trainable params: 41,524,200\n",
      "_________________________________________________________________\n"
     ]
    }
   ],
   "source": [
    "model = Sequential()\n",
    "model.add(Embedding(size_of_vocabulary, 300, \n",
    "                           weights=[embedding_matrix], \n",
    "                           input_length=250, \n",
    "                           trainable=False))\n",
    "model.add(GlobalMaxPool1D())\n",
    "model.add(Dense(64, activation='relu'))\n",
    "model.add(Dense(9, activation='softmax'))\n",
    "model.compile(optimizer='adam',\n",
    "              loss='categorical_crossentropy',\n",
    "              metrics=['acc'])\n",
    "model.summary()"
   ]
  },
  {
   "cell_type": "code",
   "execution_count": 121,
   "metadata": {},
   "outputs": [
    {
     "name": "stdout",
     "output_type": "stream",
     "text": [
      "Epoch 1/25\n",
      "467/467 [==============================] - 91s 196ms/step - loss: 1.3450 - acc: 0.5519 - val_loss: 1.0538 - val_acc: 0.6597\n",
      "Epoch 2/25\n",
      "467/467 [==============================] - 84s 180ms/step - loss: 0.9789 - acc: 0.6767 - val_loss: 0.9331 - val_acc: 0.6936\n",
      "Epoch 3/25\n",
      "467/467 [==============================] - 84s 180ms/step - loss: 0.9064 - acc: 0.6971 - val_loss: 0.8885 - val_acc: 0.7043\n",
      "Epoch 4/25\n",
      "467/467 [==============================] - 85s 183ms/step - loss: 0.8764 - acc: 0.7061 - val_loss: 0.8615 - val_acc: 0.7110\n",
      "Epoch 5/25\n",
      "467/467 [==============================] - 86s 185ms/step - loss: 0.8577 - acc: 0.7115 - val_loss: 0.8516 - val_acc: 0.7135\n",
      "Epoch 6/25\n",
      "467/467 [==============================] - 85s 182ms/step - loss: 0.8452 - acc: 0.7151 - val_loss: 0.8400 - val_acc: 0.7167\n",
      "Epoch 7/25\n",
      "467/467 [==============================] - 88s 189ms/step - loss: 0.8370 - acc: 0.7175 - val_loss: 0.8369 - val_acc: 0.7153\n",
      "Epoch 8/25\n",
      "467/467 [==============================] - 85s 181ms/step - loss: 0.8299 - acc: 0.7195 - val_loss: 0.8273 - val_acc: 0.7205\n",
      "Epoch 9/25\n",
      "467/467 [==============================] - 82s 176ms/step - loss: 0.8261 - acc: 0.7211 - val_loss: 0.8264 - val_acc: 0.7206\n",
      "Epoch 10/25\n",
      "467/467 [==============================] - 83s 177ms/step - loss: 0.8211 - acc: 0.7224 - val_loss: 0.8216 - val_acc: 0.7232\n",
      "Epoch 11/25\n",
      "467/467 [==============================] - 82s 175ms/step - loss: 0.8184 - acc: 0.7232 - val_loss: 0.8192 - val_acc: 0.7232\n",
      "Epoch 12/25\n",
      "467/467 [==============================] - 83s 179ms/step - loss: 0.8159 - acc: 0.7240 - val_loss: 0.8138 - val_acc: 0.7261\n",
      "Epoch 13/25\n",
      "467/467 [==============================] - 85s 182ms/step - loss: 0.8142 - acc: 0.7245 - val_loss: 0.8114 - val_acc: 0.7268\n",
      "Epoch 14/25\n",
      "467/467 [==============================] - 88s 188ms/step - loss: 0.8113 - acc: 0.7253 - val_loss: 0.8116 - val_acc: 0.7261\n",
      "Epoch 15/25\n",
      "467/467 [==============================] - 83s 179ms/step - loss: 0.8102 - acc: 0.7258 - val_loss: 0.8093 - val_acc: 0.7268\n",
      "Epoch 16/25\n",
      "467/467 [==============================] - 84s 179ms/step - loss: 0.8086 - acc: 0.7266 - val_loss: 0.8118 - val_acc: 0.7250\n",
      "Epoch 17/25\n",
      "467/467 [==============================] - 89s 190ms/step - loss: 0.8063 - acc: 0.7273 - val_loss: 0.8039 - val_acc: 0.7292\n",
      "Epoch 18/25\n",
      "467/467 [==============================] - 82s 175ms/step - loss: 0.8058 - acc: 0.7274 - val_loss: 0.8067 - val_acc: 0.7283\n",
      "Epoch 19/25\n",
      "467/467 [==============================] - 84s 181ms/step - loss: 0.8041 - acc: 0.7275 - val_loss: 0.8029 - val_acc: 0.7281\n",
      "Epoch 20/25\n",
      "467/467 [==============================] - 83s 178ms/step - loss: 0.8027 - acc: 0.7279 - val_loss: 0.8043 - val_acc: 0.7269\n",
      "Epoch 21/25\n",
      "467/467 [==============================] - 86s 185ms/step - loss: 0.8015 - acc: 0.7282 - val_loss: 0.8009 - val_acc: 0.7282\n",
      "Epoch 22/25\n",
      "467/467 [==============================] - 83s 177ms/step - loss: 0.8002 - acc: 0.7287 - val_loss: 0.8020 - val_acc: 0.7279\n",
      "Epoch 23/25\n",
      "467/467 [==============================] - 83s 178ms/step - loss: 0.7987 - acc: 0.7292 - val_loss: 0.8019 - val_acc: 0.7287\n",
      "Epoch 24/25\n",
      "467/467 [==============================] - 82s 175ms/step - loss: 0.7974 - acc: 0.7295 - val_loss: 0.8027 - val_acc: 0.7268\n",
      "Epoch 25/25\n",
      "467/467 [==============================] - 81s 173ms/step - loss: 0.7967 - acc: 0.7297 - val_loss: 0.8045 - val_acc: 0.7288\n"
     ]
    }
   ],
   "source": [
    "history = model.fit(x_tr_seq, y_train, epochs=25, validation_data=(x_val_seq, y_val), batch_size=1025)"
   ]
  },
  {
   "cell_type": "code",
   "execution_count": 80,
   "metadata": {},
   "outputs": [],
   "source": [
    "from keras.models import *\n",
    "from keras.layers import *\n",
    "from keras.callbacks import *"
   ]
  },
  {
   "cell_type": "code",
   "execution_count": 85,
   "metadata": {},
   "outputs": [
    {
     "name": "stdout",
     "output_type": "stream",
     "text": [
      "Model: \"sequential_1\"\n",
      "_________________________________________________________________\n",
      "Layer (type)                 Output Shape              Param #   \n",
      "=================================================================\n",
      "embedding_1 (Embedding)      (None, 250, 300)          41524200  \n",
      "_________________________________________________________________\n",
      "lstm_1 (LSTM)                (None, 250, 128)          219648    \n",
      "_________________________________________________________________\n",
      "global_max_pooling1d_1 (Glob (None, 128)               0         \n",
      "_________________________________________________________________\n",
      "dense_2 (Dense)              (None, 64)                8256      \n",
      "_________________________________________________________________\n",
      "dense_3 (Dense)              (None, 9)                 585       \n",
      "=================================================================\n",
      "Total params: 41,752,689\n",
      "Trainable params: 228,489\n",
      "Non-trainable params: 41,524,200\n",
      "_________________________________________________________________\n",
      "None\n"
     ]
    }
   ],
   "source": [
    "model=Sequential()\n",
    "\n",
    "#embedding layer\n",
    "model.add(Embedding(size_of_vocabulary,300,weights=[embedding_matrix],input_length=250,trainable=False)) \n",
    "\n",
    "#lstm layer\n",
    "model.add(LSTM(128,return_sequences=True,dropout=0.2))\n",
    "\n",
    "#Global Maxpooling\n",
    "model.add(GlobalMaxPooling1D())\n",
    "\n",
    "#Dense Layer\n",
    "model.add(Dense(64,activation='relu')) \n",
    "model.add(Dense(9,activation='softmax')) \n",
    "\n",
    "#Add loss function, metrics, optimizer\n",
    "model.compile(optimizer='adam', loss='categorical_crossentropy',metrics=['acc']) \n",
    "\n",
    "#Adding callbacks\n",
    "es = EarlyStopping(monitor='val_loss', mode='min', verbose=1,patience=3)  \n",
    "mc=ModelCheckpoint('best_model.h5', monitor='val_acc', mode='max', save_best_only=True,verbose=1)  \n",
    "\n",
    "#Print summary of model\n",
    "print(model.summary())"
   ]
  },
  {
   "cell_type": "code",
   "execution_count": 86,
   "metadata": {},
   "outputs": [
    {
     "name": "stdout",
     "output_type": "stream",
     "text": [
      "Epoch 1/10\n",
      "467/467 [==============================] - 4323s 9s/step - loss: 0.8615 - acc: 0.7115 - val_loss: 0.6122 - val_acc: 0.7921\n",
      "Epoch 2/10\n",
      "467/467 [==============================] - 4308s 9s/step - loss: 0.5873 - acc: 0.7995 - val_loss: 0.5511 - val_acc: 0.8123\n",
      "Epoch 3/10\n",
      "467/467 [==============================] - 6148s 13s/step - loss: 0.5415 - acc: 0.8153 - val_loss: 0.5170 - val_acc: 0.8240\n",
      "Epoch 4/10\n",
      "467/467 [==============================] - 5154s 11s/step - loss: 0.5177 - acc: 0.8230 - val_loss: 0.4987 - val_acc: 0.8291\n",
      "Epoch 5/10\n",
      "467/467 [==============================] - 3986s 9s/step - loss: 0.4996 - acc: 0.8287 - val_loss: 0.4851 - val_acc: 0.8326\n",
      "Epoch 6/10\n",
      "467/467 [==============================] - 4827s 10s/step - loss: 0.4855 - acc: 0.8330 - val_loss: 0.4773 - val_acc: 0.8358\n",
      "Epoch 7/10\n",
      "467/467 [==============================] - 5377s 12s/step - loss: 0.4739 - acc: 0.8370 - val_loss: 0.4712 - val_acc: 0.8375\n",
      "Epoch 8/10\n",
      "467/467 [==============================] - 4478s 10s/step - loss: 0.4635 - acc: 0.8404 - val_loss: 0.4754 - val_acc: 0.8366\n",
      "Epoch 9/10\n",
      "467/467 [==============================] - 3828s 8s/step - loss: 0.4554 - acc: 0.8432 - val_loss: 0.4599 - val_acc: 0.8415\n",
      "Epoch 10/10\n",
      "467/467 [==============================] - 3821s 8s/step - loss: 0.4481 - acc: 0.8459 - val_loss: 0.4647 - val_acc: 0.8397\n"
     ]
    }
   ],
   "source": [
    "history = model.fit(np.array(x_tr_seq),np.array(y_train),batch_size=1025,epochs=10,\n",
    "                    validation_data=(np.array(x_val_seq),np.array(y_val)))"
   ]
  },
  {
   "cell_type": "code",
   "execution_count": null,
   "metadata": {},
   "outputs": [],
   "source": [
    "print(\"Accuracy %s\" % accuracy_score(pred_model, np.argmax(y_val, axis=-1)))\n",
    "print(classification_report(np.argmax(y_val, axis=-1),pred_model))"
   ]
  },
  {
   "cell_type": "code",
   "execution_count": 98,
   "metadata": {},
   "outputs": [
    {
     "name": "stdout",
     "output_type": "stream",
     "text": [
      "Accuracy 0.8396571189629939\n",
      "              precision    recall  f1-score   support\n",
      "\n",
      "           0       0.76      0.81      0.78      5172\n",
      "           1       0.80      0.81      0.81     12941\n",
      "           2       0.86      0.92      0.89     48487\n",
      "           3       0.86      0.77      0.81     24883\n",
      "           4       0.81      0.69      0.74      2563\n",
      "           5       0.90      0.92      0.91     14084\n",
      "           6       0.60      0.47      0.53      3873\n",
      "           7       0.82      0.82      0.82      5407\n",
      "           8       0.58      0.50      0.54      2165\n",
      "\n",
      "    accuracy                           0.84    119575\n",
      "   macro avg       0.78      0.75      0.76    119575\n",
      "weighted avg       0.84      0.84      0.84    119575\n",
      "\n"
     ]
    }
   ],
   "source": [
    "pred_model = np.argmax(model.predict(x_val_seq), axis=-1)\n",
    "print(\"Accuracy %s\" % accuracy_score(pred_model, np.argmax(y_val, axis=-1)))\n",
    "print(classification_report(np.argmax(y_val, axis=-1),pred_model))"
   ]
  },
  {
   "cell_type": "code",
   "execution_count": 4,
   "metadata": {},
   "outputs": [],
   "source": [
    "#load the dataset(X_data) and the label (y_data) \n",
    "X_data = df['new']\n",
    "y_data = df['Product']"
   ]
  },
  {
   "cell_type": "code",
   "execution_count": 5,
   "metadata": {},
   "outputs": [],
   "source": [
    "X = X_data.values\n",
    "y = y_data.values\n",
    "\n",
    "X_train, X_val, y_train, y_val = train_test_split(X, y, test_size=0.2, random_state=666, stratify=y)"
   ]
  },
  {
   "cell_type": "code",
   "execution_count": 6,
   "metadata": {},
   "outputs": [],
   "source": [
    "lb = LabelBinarizer()\n",
    "y_train = lb.fit_transform(y_train)\n",
    "y_val   = lb.transform(y_val)"
   ]
  },
  {
   "cell_type": "code",
   "execution_count": 7,
   "metadata": {},
   "outputs": [
    {
     "data": {
      "text/plain": [
       "CountVectorizer(lowercase=False, min_df=0)"
      ]
     },
     "execution_count": 7,
     "metadata": {},
     "output_type": "execute_result"
    }
   ],
   "source": [
    "vectorizer = CountVectorizer(min_df=0, lowercase=False)\n",
    "vectorizer.fit(X_train)"
   ]
  },
  {
   "cell_type": "code",
   "execution_count": 8,
   "metadata": {},
   "outputs": [],
   "source": [
    "X_train = vectorizer.transform(X_train)\n",
    "X_val  = vectorizer.transform(X_val)"
   ]
  },
  {
   "cell_type": "code",
   "execution_count": 63,
   "metadata": {},
   "outputs": [
    {
     "name": "stdout",
     "output_type": "stream",
     "text": [
      "Model: \"sequential\"\n",
      "_________________________________________________________________\n",
      "Layer (type)                 Output Shape              Param #   \n",
      "=================================================================\n",
      "dense (Dense)                (None, 128)               20261248  \n",
      "_________________________________________________________________\n",
      "dropout (Dropout)            (None, 128)               0         \n",
      "_________________________________________________________________\n",
      "dense_1 (Dense)              (None, 64)                8256      \n",
      "_________________________________________________________________\n",
      "dropout_1 (Dropout)          (None, 64)                0         \n",
      "_________________________________________________________________\n",
      "dense_2 (Dense)              (None, 10)                650       \n",
      "_________________________________________________________________\n",
      "dense_3 (Dense)              (None, 9)                 99        \n",
      "=================================================================\n",
      "Total params: 20,270,253\n",
      "Trainable params: 20,270,253\n",
      "Non-trainable params: 0\n",
      "_________________________________________________________________\n"
     ]
    }
   ],
   "source": [
    "input_dim = X_train.shape[1]  # Number of features\n",
    "\n",
    "model = Sequential()\n",
    "model.add(Dense(128, input_dim=input_dim, activation='relu', kernel_initializer='glorot_normal'))\n",
    "model.add(Dropout(0.5))\n",
    "model.add(Dense(64, activation='relu', kernel_initializer='glorot_normal'))\n",
    "model.add(Dropout(0.5))\n",
    "model.add(Dense(10, activation='relu', kernel_regularizer=regularizers.l2(0.01), kernel_initializer='glorot_normal'))\n",
    "model.add(Dense(9, activation='softmax', kernel_regularizer=regularizers.l2(0.01), kernel_initializer='glorot_uniform'))\n",
    "optimizer = Adam(lr=0.001)\n",
    "model.compile(loss='categorical_crossentropy', optimizer=optimizer, metrics=['acc'])\n",
    "model.summary()"
   ]
  },
  {
   "cell_type": "code",
   "execution_count": 9,
   "metadata": {},
   "outputs": [
    {
     "name": "stdout",
     "output_type": "stream",
     "text": [
      "Model: \"sequential\"\n",
      "_________________________________________________________________\n",
      "Layer (type)                 Output Shape              Param #   \n",
      "=================================================================\n",
      "dense (Dense)                (None, 64)                8843264   \n",
      "_________________________________________________________________\n",
      "dense_1 (Dense)              (None, 10)                650       \n",
      "_________________________________________________________________\n",
      "dense_2 (Dense)              (None, 9)                 99        \n",
      "=================================================================\n",
      "Total params: 8,844,013\n",
      "Trainable params: 8,844,013\n",
      "Non-trainable params: 0\n",
      "_________________________________________________________________\n"
     ]
    }
   ],
   "source": [
    "input_dim = X_train.shape[1]  # Number of features\n",
    "\n",
    "model = Sequential()\n",
    "model.add(Dense(64, input_dim=input_dim, activation='relu'))\n",
    "model.add(Dense(10, activation='relu'))\n",
    "model.add(Dense(9, activation='softmax'))\n",
    "optimizer = Adam(lr=0.001)\n",
    "model.compile(loss='categorical_crossentropy', optimizer=optimizer, metrics=['acc'])\n",
    "model.summary()"
   ]
  },
  {
   "cell_type": "code",
   "execution_count": 10,
   "metadata": {},
   "outputs": [
    {
     "name": "stdout",
     "output_type": "stream",
     "text": [
      "Epoch 1/5\n",
      "467/467 [==============================] - 29s 61ms/step - loss: 0.7395 - acc: 0.7966 - val_loss: 0.5425 - val_acc: 0.8374\n",
      "Epoch 2/5\n",
      "467/467 [==============================] - 28s 61ms/step - loss: 0.4547 - acc: 0.8566 - val_loss: 0.4918 - val_acc: 0.8453\n",
      "Epoch 3/5\n",
      "467/467 [==============================] - 30s 65ms/step - loss: 0.3707 - acc: 0.8787 - val_loss: 0.4752 - val_acc: 0.8501\n",
      "Epoch 4/5\n",
      "467/467 [==============================] - 33s 70ms/step - loss: 0.3153 - acc: 0.8958 - val_loss: 0.4856 - val_acc: 0.8507\n",
      "Epoch 5/5\n",
      "467/467 [==============================] - 32s 69ms/step - loss: 0.2723 - acc: 0.9098 - val_loss: 0.4937 - val_acc: 0.8518\n"
     ]
    }
   ],
   "source": [
    "history = model.fit(X_train, y_train, epochs=5, validation_data=(X_val, y_val), batch_size=1025)"
   ]
  },
  {
   "cell_type": "code",
   "execution_count": 11,
   "metadata": {},
   "outputs": [
    {
     "name": "stdout",
     "output_type": "stream",
     "text": [
      "Accuracy 0.8517666736357934\n",
      "              precision    recall  f1-score   support\n",
      "\n",
      "           0       0.78      0.79      0.78      5172\n",
      "           1       0.82      0.80      0.81     12941\n",
      "           2       0.89      0.91      0.90     48487\n",
      "           3       0.82      0.84      0.83     24883\n",
      "           4       0.79      0.73      0.76      2563\n",
      "           5       0.91      0.93      0.92     14084\n",
      "           6       0.58      0.48      0.52      3873\n",
      "           7       0.87      0.87      0.87      5407\n",
      "           8       0.60      0.37      0.46      2165\n",
      "\n",
      "    accuracy                           0.85    119575\n",
      "   macro avg       0.78      0.75      0.76    119575\n",
      "weighted avg       0.85      0.85      0.85    119575\n",
      "\n"
     ]
    }
   ],
   "source": [
    "pred_model = np.argmax(model.predict(X_val), axis=-1)\n",
    "print(\"Accuracy %s\" % accuracy_score(pred_model, np.argmax(y_val, axis=-1)))\n",
    "print(classification_report(np.argmax(y_val, axis=-1),pred_model))"
   ]
  },
  {
   "cell_type": "code",
   "execution_count": 79,
   "metadata": {},
   "outputs": [],
   "source": [
    " from keras.preprocessing.text import Tokenizer"
   ]
  },
  {
   "cell_type": "code",
   "execution_count": 81,
   "metadata": {},
   "outputs": [
    {
     "name": "stdout",
     "output_type": "stream",
     "text": [
      "Found 179260 unique tokens.\n"
     ]
    }
   ],
   "source": [
    "# The maximum number of words to be used. (most frequent)\n",
    "MAX_NB_WORDS = 50000\n",
    "# Max number of words in each complaint.\n",
    "MAX_SEQUENCE_LENGTH = 250\n",
    "# This is fixed.\n",
    "EMBEDDING_DIM = 100\n",
    "tokenizer = Tokenizer(num_words=MAX_NB_WORDS, filters='!\"#$%&()*+,-./:;<=>?@[\\]^_`{|}~', lower=True)\n",
    "tokenizer.fit_on_texts(df['narrative'].values)\n",
    "word_index = tokenizer.word_index\n",
    "print('Found %s unique tokens.' % len(word_index))"
   ]
  },
  {
   "cell_type": "code",
   "execution_count": 85,
   "metadata": {},
   "outputs": [
    {
     "ename": "NameError",
     "evalue": "name 'pad_sequences' is not defined",
     "output_type": "error",
     "traceback": [
      "\u001b[1;31m---------------------------------------------------------------------------\u001b[0m",
      "\u001b[1;31mNameError\u001b[0m                                 Traceback (most recent call last)",
      "\u001b[1;32m<ipython-input-85-6ca0645d986c>\u001b[0m in \u001b[0;36m<module>\u001b[1;34m\u001b[0m\n\u001b[0;32m      1\u001b[0m \u001b[0mX\u001b[0m \u001b[1;33m=\u001b[0m \u001b[0mtokenizer\u001b[0m\u001b[1;33m.\u001b[0m\u001b[0mtexts_to_sequences\u001b[0m\u001b[1;33m(\u001b[0m\u001b[0mdf\u001b[0m\u001b[1;33m[\u001b[0m\u001b[1;34m'narrative'\u001b[0m\u001b[1;33m]\u001b[0m\u001b[1;33m.\u001b[0m\u001b[0mvalues\u001b[0m\u001b[1;33m)\u001b[0m\u001b[1;33m\u001b[0m\u001b[1;33m\u001b[0m\u001b[0m\n\u001b[1;32m----> 2\u001b[1;33m \u001b[0mX\u001b[0m \u001b[1;33m=\u001b[0m \u001b[0mpad_sequences\u001b[0m\u001b[1;33m(\u001b[0m\u001b[0mX\u001b[0m\u001b[1;33m,\u001b[0m \u001b[0mmaxlen\u001b[0m\u001b[1;33m=\u001b[0m\u001b[0mMAX_SEQUENCE_LENGTH\u001b[0m\u001b[1;33m)\u001b[0m\u001b[1;33m\u001b[0m\u001b[1;33m\u001b[0m\u001b[0m\n\u001b[0m\u001b[0;32m      3\u001b[0m \u001b[0mprint\u001b[0m\u001b[1;33m(\u001b[0m\u001b[1;34m'Shape of data tensor:'\u001b[0m\u001b[1;33m,\u001b[0m \u001b[0mX\u001b[0m\u001b[1;33m.\u001b[0m\u001b[0mshape\u001b[0m\u001b[1;33m)\u001b[0m\u001b[1;33m\u001b[0m\u001b[1;33m\u001b[0m\u001b[0m\n",
      "\u001b[1;31mNameError\u001b[0m: name 'pad_sequences' is not defined"
     ]
    }
   ],
   "source": [
    "X = tokenizer.texts_to_sequences(df['narrative'].values)\n",
    "X = pad_sequences(X, maxlen=MAX_SEQUENCE_LENGTH)\n",
    "print('Shape of data tensor:', X.shape)"
   ]
  },
  {
   "cell_type": "code",
   "execution_count": null,
   "metadata": {},
   "outputs": [],
   "source": [
    "Y = pd.get_dummies(df['Product']).values\n",
    "print('Shape of label tensor:', Y.shape)"
   ]
  },
  {
   "cell_type": "code",
   "execution_count": null,
   "metadata": {},
   "outputs": [],
   "source": [
    "X_train, X_test, Y_train, Y_test = train_test_split(X,Y, test_size = 0.10, random_state = 42)\n",
    "print(X_train.shape,Y_train.shape)\n",
    "print(X_test.shape,Y_test.shape)"
   ]
  },
  {
   "cell_type": "code",
   "execution_count": 83,
   "metadata": {},
   "outputs": [],
   "source": [
    "from keras.layers import Embedding\n"
   ]
  },
  {
   "cell_type": "code",
   "execution_count": null,
   "metadata": {},
   "outputs": [],
   "source": [
    "model2 = Sequential()\n",
    "model2.add(Embedding(MAX_NB_WORDS, EMBEDDING_DIM, input_length=X.shape[1]))\n",
    "model2.add(SpatialDropout1D(0.2))\n",
    "model2.add(LSTM(100, dropout=0.2, recurrent_dropout=0.2))\n",
    "model2.add(Dense(13, activation='softmax'))\n",
    "model2.compile(loss='categorical_crossentropy', optimizer='adam', metrics=['accuracy'])\n",
    "\n",
    "epochs = 5\n",
    "batch_size = 64\n",
    "\n",
    "history = model.fit(X_train, Y_train, epochs=epochs, batch_size=batch_size,validation_split=0.1,callbacks=[EarlyStopping(monitor='val_loss', patience=3, min_delta=0.0001)])\n"
   ]
  },
  {
   "cell_type": "code",
   "execution_count": 162,
   "metadata": {},
   "outputs": [
    {
     "data": {
      "text/plain": [
       "<119575x85471 sparse matrix of type '<class 'numpy.int64'>'\n",
       "\twith 6529261 stored elements in Compressed Sparse Row format>"
      ]
     },
     "execution_count": 162,
     "metadata": {},
     "output_type": "execute_result"
    }
   ],
   "source": [
    "X_val"
   ]
  },
  {
   "cell_type": "code",
   "execution_count": 149,
   "metadata": {},
   "outputs": [
    {
     "data": {
      "text/plain": [
       "array([[2.1068112e-04, 6.5074964e-05, 1.1395631e-01, ..., 3.2094610e-03,\n",
       "        2.7522133e-04, 9.6498424e-04],\n",
       "       [3.6948888e-05, 9.3445033e-06, 1.9738725e-03, ..., 1.3473543e-03,\n",
       "        6.9955429e-05, 6.3340244e-04],\n",
       "       [9.5675557e-07, 5.4205211e-05, 9.9896431e-01, ..., 9.0579044e-07,\n",
       "        7.1399825e-07, 5.1870991e-08],\n",
       "       ...,\n",
       "       [1.4687306e-05, 6.4322440e-04, 6.2166578e-03, ..., 1.3471496e-03,\n",
       "        1.4947487e-04, 9.1205431e-05],\n",
       "       [1.0232003e-08, 7.6825409e-06, 9.9998629e-01, ..., 9.0880432e-09,\n",
       "        7.1876329e-08, 3.2951439e-10],\n",
       "       [1.9863099e-04, 3.4326483e-03, 1.7260011e-01, ..., 2.5184050e-03,\n",
       "        7.0130843e-04, 3.0174191e-04]], dtype=float32)"
      ]
     },
     "execution_count": 149,
     "metadata": {},
     "output_type": "execute_result"
    }
   ],
   "source": [
    "pred_model"
   ]
  },
  {
   "cell_type": "code",
   "execution_count": 32,
   "metadata": {},
   "outputs": [
    {
     "data": {
      "text/html": [
       "<div>\n",
       "<style scoped>\n",
       "    .dataframe tbody tr th:only-of-type {\n",
       "        vertical-align: middle;\n",
       "    }\n",
       "\n",
       "    .dataframe tbody tr th {\n",
       "        vertical-align: top;\n",
       "    }\n",
       "\n",
       "    .dataframe thead th {\n",
       "        text-align: right;\n",
       "    }\n",
       "</style>\n",
       "<table border=\"1\" class=\"dataframe\">\n",
       "  <thead>\n",
       "    <tr style=\"text-align: right;\">\n",
       "      <th></th>\n",
       "      <th>narrative</th>\n",
       "      <th>Product</th>\n",
       "      <th>word_count</th>\n",
       "    </tr>\n",
       "  </thead>\n",
       "  <tbody>\n",
       "    <tr>\n",
       "      <th>1</th>\n",
       "      <td>transworld systems inc. \\nis trying to collect...</td>\n",
       "      <td>Debt collection</td>\n",
       "      <td>18</td>\n",
       "    </tr>\n",
       "    <tr>\n",
       "      <th>3</th>\n",
       "      <td>Over the past 2 weeks, I have been receiving e...</td>\n",
       "      <td>Debt collection</td>\n",
       "      <td>78</td>\n",
       "    </tr>\n",
       "    <tr>\n",
       "      <th>6</th>\n",
       "      <td>Pioneer has committed several federal violatio...</td>\n",
       "      <td>Debt collection</td>\n",
       "      <td>152</td>\n",
       "    </tr>\n",
       "    <tr>\n",
       "      <th>8</th>\n",
       "      <td>Previously, on XX/XX/XXXX, XX/XX/XXXX, and XX/...</td>\n",
       "      <td>Credit or consumer reporting, credit repair se...</td>\n",
       "      <td>171</td>\n",
       "    </tr>\n",
       "    <tr>\n",
       "      <th>9</th>\n",
       "      <td>Hello This complaint is against the three cred...</td>\n",
       "      <td>Credit or consumer reporting, credit repair se...</td>\n",
       "      <td>428</td>\n",
       "    </tr>\n",
       "    <tr>\n",
       "      <th>...</th>\n",
       "      <td>...</td>\n",
       "      <td>...</td>\n",
       "      <td>...</td>\n",
       "    </tr>\n",
       "    <tr>\n",
       "      <th>1823677</th>\n",
       "      <td>I made a purchase of {$500.00} on XXXX XXXX, 2...</td>\n",
       "      <td>Credit card or prepaid card</td>\n",
       "      <td>44</td>\n",
       "    </tr>\n",
       "    <tr>\n",
       "      <th>1823679</th>\n",
       "      <td>I have been a victim if inquiry issue,</td>\n",
       "      <td>Credit or consumer reporting, credit repair se...</td>\n",
       "      <td>8</td>\n",
       "    </tr>\n",
       "    <tr>\n",
       "      <th>1823680</th>\n",
       "      <td>On XXXX XXXX, 2015, I contacted XXXX XXXX, who...</td>\n",
       "      <td>Mortgage</td>\n",
       "      <td>331</td>\n",
       "    </tr>\n",
       "    <tr>\n",
       "      <th>1823681</th>\n",
       "      <td>I can not get from chase who services my mortg...</td>\n",
       "      <td>Mortgage</td>\n",
       "      <td>21</td>\n",
       "    </tr>\n",
       "    <tr>\n",
       "      <th>1823682</th>\n",
       "      <td>cfbp i would Like to file a complaint on Exper...</td>\n",
       "      <td>Credit or consumer reporting, credit repair se...</td>\n",
       "      <td>150</td>\n",
       "    </tr>\n",
       "  </tbody>\n",
       "</table>\n",
       "<p>605163 rows × 3 columns</p>\n",
       "</div>"
      ],
      "text/plain": [
       "                                                 narrative  \\\n",
       "1        transworld systems inc. \\nis trying to collect...   \n",
       "3        Over the past 2 weeks, I have been receiving e...   \n",
       "6        Pioneer has committed several federal violatio...   \n",
       "8        Previously, on XX/XX/XXXX, XX/XX/XXXX, and XX/...   \n",
       "9        Hello This complaint is against the three cred...   \n",
       "...                                                    ...   \n",
       "1823677  I made a purchase of {$500.00} on XXXX XXXX, 2...   \n",
       "1823679             I have been a victim if inquiry issue,   \n",
       "1823680  On XXXX XXXX, 2015, I contacted XXXX XXXX, who...   \n",
       "1823681  I can not get from chase who services my mortg...   \n",
       "1823682  cfbp i would Like to file a complaint on Exper...   \n",
       "\n",
       "                                                   Product  word_count  \n",
       "1                                          Debt collection          18  \n",
       "3                                          Debt collection          78  \n",
       "6                                          Debt collection         152  \n",
       "8        Credit or consumer reporting, credit repair se...         171  \n",
       "9        Credit or consumer reporting, credit repair se...         428  \n",
       "...                                                    ...         ...  \n",
       "1823677                        Credit card or prepaid card          44  \n",
       "1823679  Credit or consumer reporting, credit repair se...           8  \n",
       "1823680                                           Mortgage         331  \n",
       "1823681                                           Mortgage          21  \n",
       "1823682  Credit or consumer reporting, credit repair se...         150  \n",
       "\n",
       "[605163 rows x 3 columns]"
      ]
     },
     "execution_count": 32,
     "metadata": {},
     "output_type": "execute_result"
    }
   ],
   "source": [
    "df"
   ]
  },
  {
   "cell_type": "code",
   "execution_count": 96,
   "metadata": {},
   "outputs": [],
   "source": [
    "import matplotlib.pyplot as plt\n",
    "plt.style.use('ggplot')\n",
    "\n",
    "def plot_history(history):\n",
    "    acc = history.history['acc']\n",
    "    val_acc = history.history['val_acc']\n",
    "    loss = history.history['loss']\n",
    "    val_loss = history.history['val_loss']\n",
    "    x = range(1, len(acc) + 1)\n",
    "\n",
    "    plt.figure(figsize=(12, 5))\n",
    "    plt.subplot(1, 2, 1)\n",
    "    plt.plot(x, acc, 'b', label='Training acc')\n",
    "    plt.plot(x, val_acc, 'r', label='Validation acc')\n",
    "    plt.title('Training and validation accuracy')\n",
    "    plt.legend()\n",
    "    plt.subplot(1, 2, 2)\n",
    "    plt.plot(x, loss, 'b', label='Training loss')\n",
    "    plt.plot(x, val_loss, 'r', label='Validation loss')\n",
    "    plt.title('Training and validation loss')\n",
    "    plt.legend()\n",
    "    #plt.savefig(\"plot.png\")"
   ]
  },
  {
   "cell_type": "code",
   "execution_count": 116,
   "metadata": {},
   "outputs": [
    {
     "data": {
      "image/png": "[encoded data removed]",
      "text/plain": [
       "<Figure size 864x360 with 2 Axes>"
      ]
     },
     "metadata": {},
     "output_type": "display_data"
    }
   ],
   "source": [
    "plot_history(history)"
   ]
  },
  {
   "cell_type": "code",
   "execution_count": 128,
   "metadata": {},
   "outputs": [],
   "source": [
    "import re\n",
    "import nltk\n",
    "from nltk.corpus import stopwords\n",
    "from nltk.stem import PorterStemmer"
   ]
  },
  {
   "cell_type": "code",
   "execution_count": 129,
   "metadata": {},
   "outputs": [],
   "source": [
    "stop_words = set(stopwords.words('english'))\n",
    "stemer = PorterStemmer()\n",
    "\n",
    "def remove_SW_Stem(text):\n",
    "    text=[stemer.stem(words) for words in text.split(\" \") if words not in stop_words]\n",
    "    return \" \".join(text)\n",
    "\n",
    "special_chars = re.compile('[^-9a-z#+_]')\n",
    "add_space = re.compile('[/(){}\\[\\]\\\\@;]')\n",
    "\n",
    "def clean_text(text):\n",
    "    text=text.lower()\n",
    "    text = add_space.sub(\" \",text)\n",
    "    text = special_chars.sub(\" \",text)\n",
    "    text = remove_SW_Stem(text)\n",
    "    return text"
   ]
  },
  {
   "cell_type": "code",
   "execution_count": 130,
   "metadata": {},
   "outputs": [],
   "source": [
    "df['narrative'] = df['narrative'].apply(lambda text:clean_text(text))"
   ]
  },
  {
   "cell_type": "code",
   "execution_count": 131,
   "metadata": {},
   "outputs": [
    {
     "data": {
      "text/html": [
       "<div>\n",
       "<style scoped>\n",
       "    .dataframe tbody tr th:only-of-type {\n",
       "        vertical-align: middle;\n",
       "    }\n",
       "\n",
       "    .dataframe tbody tr th {\n",
       "        vertical-align: top;\n",
       "    }\n",
       "\n",
       "    .dataframe thead th {\n",
       "        text-align: right;\n",
       "    }\n",
       "</style>\n",
       "<table border=\"1\" class=\"dataframe\">\n",
       "  <thead>\n",
       "    <tr style=\"text-align: right;\">\n",
       "      <th></th>\n",
       "      <th>narrative</th>\n",
       "      <th>Product</th>\n",
       "      <th>word_count</th>\n",
       "    </tr>\n",
       "  </thead>\n",
       "  <tbody>\n",
       "    <tr>\n",
       "      <th>1</th>\n",
       "      <td>transworld system inc   tri collect debt mine ...</td>\n",
       "      <td>Debt collection</td>\n",
       "      <td>18</td>\n",
       "    </tr>\n",
       "    <tr>\n",
       "      <th>3</th>\n",
       "      <td>past   week  receiv excess amount telephon cal...</td>\n",
       "      <td>Debt collection</td>\n",
       "      <td>78</td>\n",
       "    </tr>\n",
       "    <tr>\n",
       "      <th>6</th>\n",
       "      <td>pioneer commit sever feder violat  privat law ...</td>\n",
       "      <td>Debt collection</td>\n",
       "      <td>152</td>\n",
       "    </tr>\n",
       "    <tr>\n",
       "      <th>8</th>\n",
       "      <td>previous  xx xx xxxx  xx xx xxxx  xx xx xxxx r...</td>\n",
       "      <td>Credit or consumer reporting, credit repair se...</td>\n",
       "      <td>171</td>\n",
       "    </tr>\n",
       "    <tr>\n",
       "      <th>9</th>\n",
       "      <td>hello complaint three credit report compani  x...</td>\n",
       "      <td>Credit or consumer reporting, credit repair se...</td>\n",
       "      <td>428</td>\n",
       "    </tr>\n",
       "    <tr>\n",
       "      <th>...</th>\n",
       "      <td>...</td>\n",
       "      <td>...</td>\n",
       "      <td>...</td>\n",
       "    </tr>\n",
       "    <tr>\n",
       "      <th>1823676</th>\n",
       "      <td>mail address incorrect       date birth  i...</td>\n",
       "      <td>Personal loan</td>\n",
       "      <td>19</td>\n",
       "    </tr>\n",
       "    <tr>\n",
       "      <th>1823677</th>\n",
       "      <td>made purchas           xxxx xxxx       use dis...</td>\n",
       "      <td>Credit card or prepaid card</td>\n",
       "      <td>44</td>\n",
       "    </tr>\n",
       "    <tr>\n",
       "      <th>1823680</th>\n",
       "      <td>xxxx xxxx        contact xxxx xxxx  branch man...</td>\n",
       "      <td>Mortgage</td>\n",
       "      <td>331</td>\n",
       "    </tr>\n",
       "    <tr>\n",
       "      <th>1823681</th>\n",
       "      <td>get chase servic mortgag  own origin loan doc ...</td>\n",
       "      <td>Mortgage</td>\n",
       "      <td>21</td>\n",
       "    </tr>\n",
       "    <tr>\n",
       "      <th>1823682</th>\n",
       "      <td>cfbp would like file complaint experian report...</td>\n",
       "      <td>Credit or consumer reporting, credit repair se...</td>\n",
       "      <td>150</td>\n",
       "    </tr>\n",
       "  </tbody>\n",
       "</table>\n",
       "<p>597874 rows × 3 columns</p>\n",
       "</div>"
      ],
      "text/plain": [
       "                                                 narrative  \\\n",
       "1        transworld system inc   tri collect debt mine ...   \n",
       "3        past   week  receiv excess amount telephon cal...   \n",
       "6        pioneer commit sever feder violat  privat law ...   \n",
       "8        previous  xx xx xxxx  xx xx xxxx  xx xx xxxx r...   \n",
       "9        hello complaint three credit report compani  x...   \n",
       "...                                                    ...   \n",
       "1823676      mail address incorrect       date birth  i...   \n",
       "1823677  made purchas           xxxx xxxx       use dis...   \n",
       "1823680  xxxx xxxx        contact xxxx xxxx  branch man...   \n",
       "1823681  get chase servic mortgag  own origin loan doc ...   \n",
       "1823682  cfbp would like file complaint experian report...   \n",
       "\n",
       "                                                   Product  word_count  \n",
       "1                                          Debt collection          18  \n",
       "3                                          Debt collection          78  \n",
       "6                                          Debt collection         152  \n",
       "8        Credit or consumer reporting, credit repair se...         171  \n",
       "9        Credit or consumer reporting, credit repair se...         428  \n",
       "...                                                    ...         ...  \n",
       "1823676                                      Personal loan          19  \n",
       "1823677                        Credit card or prepaid card          44  \n",
       "1823680                                           Mortgage         331  \n",
       "1823681                                           Mortgage          21  \n",
       "1823682  Credit or consumer reporting, credit repair se...         150  \n",
       "\n",
       "[597874 rows x 3 columns]"
      ]
     },
     "execution_count": 131,
     "metadata": {},
     "output_type": "execute_result"
    }
   ],
   "source": [
    "df"
   ]
  },
  {
   "cell_type": "code",
   "execution_count": 134,
   "metadata": {},
   "outputs": [
    {
     "data": {
      "text/plain": [
       "'credit bureau investig disput xxxxxxxx xxxx xxxx account number xxxx  would known never payment made xx xx xxxx-xx xx xxxx  could verif never payment made account  updat credit report show   last payment   xx xx xxxx    payment histori show account current xx xx xxxx  account charg xx xx xxxx  significantli affect credit score process purchas first home  delet immedi  forc file lawsuit  purchas hous affect inaccuraci  file lawsuit immedi '"
      ]
     },
     "execution_count": 134,
     "metadata": {},
     "output_type": "execute_result"
    }
   ],
   "source": [
    "df['narrative'][1748416]"
   ]
  },
  {
   "cell_type": "code",
   "execution_count": 132,
   "metadata": {},
   "outputs": [],
   "source": [
    "from sklearn.compose import ColumnTransformer\n",
    "from sklearn.preprocessing import OneHotEncoder\n",
    "from sklearn.feature_extraction.text import TfidfVectorizer\n"
   ]
  },
  {
   "cell_type": "code",
   "execution_count": 135,
   "metadata": {},
   "outputs": [],
   "source": [
    "before_vect = df[['narrative']]\n",
    "columnTransformer = ColumnTransformer( [('tfidf',TfidfVectorizer(stop_words=None, max_features=100000),'narrative')],\n",
    "remainder='drop')\n",
    "vector_transformer = columnTransformer.fit(before_vect)\n",
    "vectorized_df = vector_transformer.transform(before_vect)"
   ]
  },
  {
   "cell_type": "code",
   "execution_count": 79,
   "metadata": {},
   "outputs": [
    {
     "data": {
      "text/plain": [
       "<592935x99272 sparse matrix of type '<class 'numpy.float64'>'\n",
       "\twith 32223236 stored elements in Compressed Sparse Row format>"
      ]
     },
     "execution_count": 79,
     "metadata": {},
     "output_type": "execute_result"
    }
   ],
   "source": [
    "vectorized_df"
   ]
  },
  {
   "cell_type": "code",
   "execution_count": 137,
   "metadata": {},
   "outputs": [],
   "source": [
    "targetTransformer = ColumnTransformer( [('E',OneHotEncoder(dtype='int'))])"
   ]
  },
  {
   "cell_type": "code",
   "execution_count": 144,
   "metadata": {},
   "outputs": [],
   "source": [
    "y=df['Product'].to_frame()"
   ]
  },
  {
   "cell_type": "code",
   "execution_count": 42,
   "metadata": {},
   "outputs": [
    {
     "data": {
      "text/html": [
       "<div>\n",
       "<style scoped>\n",
       "    .dataframe tbody tr th:only-of-type {\n",
       "        vertical-align: middle;\n",
       "    }\n",
       "\n",
       "    .dataframe tbody tr th {\n",
       "        vertical-align: top;\n",
       "    }\n",
       "\n",
       "    .dataframe thead th {\n",
       "        text-align: right;\n",
       "    }\n",
       "</style>\n",
       "<table border=\"1\" class=\"dataframe\">\n",
       "  <thead>\n",
       "    <tr style=\"text-align: right;\">\n",
       "      <th></th>\n",
       "      <th>Product</th>\n",
       "    </tr>\n",
       "  </thead>\n",
       "  <tbody>\n",
       "    <tr>\n",
       "      <th>0</th>\n",
       "      <td>Credit reporting, credit repair services, or o...</td>\n",
       "    </tr>\n",
       "    <tr>\n",
       "      <th>1</th>\n",
       "      <td>Debt collection</td>\n",
       "    </tr>\n",
       "    <tr>\n",
       "      <th>2</th>\n",
       "      <td>Credit reporting, credit repair services, or o...</td>\n",
       "    </tr>\n",
       "    <tr>\n",
       "      <th>3</th>\n",
       "      <td>Debt collection</td>\n",
       "    </tr>\n",
       "    <tr>\n",
       "      <th>4</th>\n",
       "      <td>Credit reporting, credit repair services, or o...</td>\n",
       "    </tr>\n",
       "    <tr>\n",
       "      <th>...</th>\n",
       "      <td>...</td>\n",
       "    </tr>\n",
       "    <tr>\n",
       "      <th>1823678</th>\n",
       "      <td>Bank account or service</td>\n",
       "    </tr>\n",
       "    <tr>\n",
       "      <th>1823679</th>\n",
       "      <td>Credit reporting</td>\n",
       "    </tr>\n",
       "    <tr>\n",
       "      <th>1823680</th>\n",
       "      <td>Mortgage</td>\n",
       "    </tr>\n",
       "    <tr>\n",
       "      <th>1823681</th>\n",
       "      <td>Mortgage</td>\n",
       "    </tr>\n",
       "    <tr>\n",
       "      <th>1823682</th>\n",
       "      <td>Credit reporting</td>\n",
       "    </tr>\n",
       "  </tbody>\n",
       "</table>\n",
       "<p>1823683 rows × 1 columns</p>\n",
       "</div>"
      ],
      "text/plain": [
       "                                                   Product\n",
       "0        Credit reporting, credit repair services, or o...\n",
       "1                                          Debt collection\n",
       "2        Credit reporting, credit repair services, or o...\n",
       "3                                          Debt collection\n",
       "4        Credit reporting, credit repair services, or o...\n",
       "...                                                    ...\n",
       "1823678                            Bank account or service\n",
       "1823679                                   Credit reporting\n",
       "1823680                                           Mortgage\n",
       "1823681                                           Mortgage\n",
       "1823682                                   Credit reporting\n",
       "\n",
       "[1823683 rows x 1 columns]"
      ]
     },
     "execution_count": 42,
     "metadata": {},
     "output_type": "execute_result"
    }
   ],
   "source": [
    "y"
   ]
  },
  {
   "cell_type": "code",
   "execution_count": 141,
   "metadata": {},
   "outputs": [],
   "source": [
    "from imblearn.over_sampling import RandomOverSampler\n",
    "from sklearn.model_selection import train_test_split\n",
    "from sklearn.linear_model import SGDClassifier\n",
    "from sklearn.metrics import accuracy_score\n",
    "from sklearn.metrics import classification_report"
   ]
  },
  {
   "cell_type": "code",
   "execution_count": 142,
   "metadata": {},
   "outputs": [
    {
     "name": "stdout",
     "output_type": "stream",
     "text": [
      "Accuracy 0.7989275484092732\n",
      "                                                      precision    recall  f1-score   support\n",
      "\n",
      "                         Checking or savings account       0.78      0.82      0.80     72885\n",
      "                         Credit card or prepaid card       0.78      0.82      0.80     73008\n",
      "Credit or consumer reporting, credit repair services       0.76      0.76      0.76     72446\n",
      "                                     Debt collection       0.75      0.79      0.77     72432\n",
      "         Money transfer or service, virtual currency       0.85      0.84      0.84     73035\n",
      "                                            Mortgage       0.89      0.95      0.92     72579\n",
      "                                       Personal loan       0.81      0.42      0.56     72688\n",
      "                                        Student loan       0.91      0.93      0.92     72801\n",
      "                               Vehicle loan or lease       0.69      0.85      0.76     72701\n",
      "\n",
      "                                            accuracy                           0.80    654575\n",
      "                                           macro avg       0.80      0.80      0.79    654575\n",
      "                                        weighted avg       0.80      0.80      0.79    654575\n",
      "\n"
     ]
    }
   ],
   "source": [
    "ros = RandomOverSampler(random_state=777)\n",
    "X_ROS, y_ROS = ros.fit_sample(vectorized_df, y)\n",
    "X_train, x_test, Y_train, y_test = train_test_split(X_ROS,y_ROS,test_size=0.3,random_state=42)\n",
    "sgd = SGDClassifier(max_iter=1000, tol=1e-3)\n",
    "sgd.fit(X_train, Y_train)\n",
    "pred_sgd = sgd.predict(x_test)\n",
    "print(\"Accuracy %s\" % accuracy_score(pred_sgd,y_test))\n",
    "print(classification_report(y_test,pred_sgd))"
   ]
  },
  {
   "cell_type": "code",
   "execution_count": 139,
   "metadata": {},
   "outputs": [],
   "source": [
    "from imblearn.over_sampling import SMOTE\n",
    "from sklearn.feature_extraction.text import TfidfVectorizer\n",
    "from sklearn.model_selection import train_test_split\n",
    "from sklearn.linear_model import SGDClassifier\n",
    "from sklearn.metrics import accuracy_score\n",
    "from sklearn.metrics import classification_report"
   ]
  },
  {
   "cell_type": "code",
   "execution_count": 140,
   "metadata": {},
   "outputs": [
    {
     "name": "stderr",
     "output_type": "stream",
     "text": [
      "C:\\Users\\virah\\anaconda3\\lib\\site-packages\\sklearn\\utils\\validation.py:73: DataConversionWarning: A column-vector y was passed when a 1d array was expected. Please change the shape of y to (n_samples, ), for example using ravel().\n",
      "  return f(**kwargs)\n"
     ]
    },
    {
     "name": "stdout",
     "output_type": "stream",
     "text": [
      "Accuracy 0.8304777909330482\n",
      "                                                      precision    recall  f1-score   support\n",
      "\n",
      "                         Checking or savings account       0.83      0.86      0.84     72885\n",
      "                         Credit card or prepaid card       0.82      0.86      0.84     73008\n",
      "Credit or consumer reporting, credit repair services       0.78      0.76      0.77     72446\n",
      "                                     Debt collection       0.79      0.82      0.80     72432\n",
      "         Money transfer or service, virtual currency       0.88      0.88      0.88     73035\n",
      "                                            Mortgage       0.92      0.96      0.94     72579\n",
      "                                       Personal loan       0.84      0.50      0.62     72688\n",
      "                                        Student loan       0.94      0.95      0.94     72801\n",
      "                               Vehicle loan or lease       0.71      0.89      0.79     72701\n",
      "\n",
      "                                            accuracy                           0.83    654575\n",
      "                                           macro avg       0.83      0.83      0.83    654575\n",
      "                                        weighted avg       0.83      0.83      0.83    654575\n",
      "\n"
     ]
    }
   ],
   "source": [
    "smote = SMOTE(random_state=777,k_neighbors=18)\n",
    "X_smote,y_smote = smote.fit_sample(vectorized_df,y)\n",
    "X_train, x_test, Y_train, y_test = train_test_split(X_smote,y_smote,test_size=0.3,random_state=42)\n",
    "sgd = SGDClassifier(max_iter=1000, tol=1e-3)\n",
    "sgd.fit(X_train, Y_train)\n",
    "pred_sgd = sgd.predict(x_test)\n",
    "print(\"Accuracy %s\" % accuracy_score(pred_sgd,y_test))\n",
    "print(classification_report(y_test,pred_sgd))"
   ]
  }
 ],
 "metadata": {
  "kernelspec": {
   "display_name": "Python 3",
   "language": "python",
   "name": "python3"
  },
  "language_info": {
   "codemirror_mode": {
    "name": "ipython",
    "version": 3
   },
   "file_extension": ".py",
   "mimetype": "text/x-python",
   "name": "python",
   "nbconvert_exporter": "python",
   "pygments_lexer": "ipython3",
   "version": "3.8.3"
  }
 },
 "nbformat": 4,
 "nbformat_minor": 4
}
