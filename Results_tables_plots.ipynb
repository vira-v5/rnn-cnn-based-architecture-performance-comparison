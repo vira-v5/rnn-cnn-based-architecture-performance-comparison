{
 "cells": [
  {
   "cell_type": "code",
   "execution_count": 1,
   "metadata": {},
   "outputs": [],
   "source": [
    "#importing all the libraries\n",
    "import pandas as pd\n",
    "import numpy as np\n",
    "import matplotlib.pyplot as plt\n",
    "%matplotlib inline \n",
    "from sklearn.feature_extraction.text import CountVectorizer\n",
    "from sklearn.preprocessing import LabelBinarizer\n",
    "from sklearn.model_selection import train_test_split\n",
    "from keras.preprocessing.text import Tokenizer\n",
    "from keras.preprocessing.sequence import pad_sequences\n",
    "from keras.utils import to_categorical\n",
    "from sklearn.preprocessing import LabelBinarizer\n",
    "from gensim.models import KeyedVectors\n",
    "from sklearn.preprocessing import LabelEncoder\n",
    "import pickle\n",
    "import random\n",
    "from keras.models import model_from_json\n",
    "import seaborn as sns"
   ]
  },
  {
   "cell_type": "code",
   "execution_count": 2,
   "metadata": {},
   "outputs": [],
   "source": [
    "random.seed(666)"
   ]
  },
  {
   "cell_type": "markdown",
   "metadata": {},
   "source": [
    "Loading the dataset"
   ]
  },
  {
   "cell_type": "code",
   "execution_count": 3,
   "metadata": {},
   "outputs": [],
   "source": [
    "df = pd.read_csv(\"new_complaints3.csv\") "
   ]
  },
  {
   "cell_type": "code",
   "execution_count": 4,
   "metadata": {},
   "outputs": [
    {
     "data": {
      "image/png": "[encoded data removed]",
      "text/plain": [
       "<Figure size 432x288 with 1 Axes>"
      ]
     },
     "metadata": {
      "needs_background": "light"
     },
     "output_type": "display_data"
    }
   ],
   "source": [
    "ax = sns.countplot(y=\"Product\", data=df, palette=(\"Blues_d\"), order=df['Product'].value_counts().index)\n",
    "\n",
    "plt.savefig(\"catcount.pgf\",dpi=150, bbox_inches = \"tight\")\n",
    "plt.savefig(\"catcount.png\",dpi=150, bbox_inches = \"tight\")\n",
    "plt.show()"
   ]
  },
  {
   "cell_type": "markdown",
   "metadata": {},
   "source": [
    "The data splited into feature and target."
   ]
  },
  {
   "cell_type": "code",
   "execution_count": 5,
   "metadata": {},
   "outputs": [],
   "source": [
    "X_data = df['new']\n",
    "y_data = df['Product']"
   ]
  },
  {
   "cell_type": "code",
   "execution_count": 6,
   "metadata": {},
   "outputs": [
    {
     "data": {
      "text/plain": [
       "0         transworld systems inc \\nis trying to collect ...\n",
       "1         Over the past 2 weeks I have been receiving ex...\n",
       "2         Pioneer has committed several federal violatio...\n",
       "3         Previously on XX XX XXXX XX XX XXXX and XX XX ...\n",
       "4         Hello This complaint is against the three cred...\n",
       "                                ...                        \n",
       "597869    1  Mailing Address is incorrect \\n2  Date of B...\n",
       "597870    I made a purchase of ##### on XXXX XXXX #### u...\n",
       "597871    On XXXX XXXX #### I contacted XXXX XXXX who is...\n",
       "597872    I can not get from chase who services my mortg...\n",
       "597873    cfbp i would Like to file a complaint on Exper...\n",
       "Name: new, Length: 597874, dtype: object"
      ]
     },
     "execution_count": 6,
     "metadata": {},
     "output_type": "execute_result"
    }
   ],
   "source": [
    "X_data"
   ]
  },
  {
   "cell_type": "markdown",
   "metadata": {},
   "source": [
    "The DataFrame converted to a NumPy array."
   ]
  },
  {
   "cell_type": "code",
   "execution_count": 7,
   "metadata": {},
   "outputs": [],
   "source": [
    "X = X_data.values\n",
    "y = y_data.values"
   ]
  },
  {
   "cell_type": "markdown",
   "metadata": {},
   "source": [
    "The data splitted into train and test set, the train set is 80 percent of the data, and the test set is 20 percent. The data is stratified based on the label."
   ]
  },
  {
   "cell_type": "code",
   "execution_count": 8,
   "metadata": {},
   "outputs": [],
   "source": [
    "X_train_value, X_val_value, y_train_value, y_val_value = train_test_split(X, y, \n",
    "                                                                          test_size=0.4, \n",
    "                                                                          random_state=666, \n",
    "                                                                          stratify=y)"
   ]
  },
  {
   "cell_type": "markdown",
   "metadata": {},
   "source": [
    "Vocabulary was built based on the unique words from the train set."
   ]
  },
  {
   "cell_type": "code",
   "execution_count": 9,
   "metadata": {},
   "outputs": [],
   "source": [
    "tokenizer = Tokenizer(lower=False)\n",
    "tokenizer.fit_on_texts(X_train_value)"
   ]
  },
  {
   "cell_type": "code",
   "execution_count": 10,
   "metadata": {},
   "outputs": [],
   "source": [
    "vocab = tokenizer.word_index"
   ]
  },
  {
   "cell_type": "code",
   "execution_count": 11,
   "metadata": {},
   "outputs": [],
   "source": [
    "vocab_size = len(vocab)"
   ]
  },
  {
   "cell_type": "code",
   "execution_count": 12,
   "metadata": {},
   "outputs": [
    {
     "data": {
      "text/plain": [
       "159487"
      ]
     },
     "execution_count": 12,
     "metadata": {},
     "output_type": "execute_result"
    }
   ],
   "source": [
    "vocab_size"
   ]
  },
  {
   "cell_type": "markdown",
   "metadata": {},
   "source": [
    "Creating an empty weight matrix for words in document vocabulary, +1 because the word index dictionary value starting from 1"
   ]
  },
  {
   "cell_type": "code",
   "execution_count": null,
   "metadata": {},
   "outputs": [],
   "source": [
    "embedding_matrix = np.zeros((vocab_size+1, 300))"
   ]
  },
  {
   "cell_type": "markdown",
   "metadata": {},
   "source": [
    "Fill in the embedding matrix"
   ]
  },
  {
   "cell_type": "code",
   "execution_count": null,
   "metadata": {},
   "outputs": [],
   "source": [
    "vectors = KeyedVectors.load('vectors.kv')"
   ]
  },
  {
   "cell_type": "code",
   "execution_count": null,
   "metadata": {},
   "outputs": [],
   "source": [
    "for word, i in tokenizer.word_index.items():\n",
    "    try:\n",
    "        embedding_vector = vectors[word]\n",
    "        embedding_matrix[i] = embedding_vector\n",
    "    except:\n",
    "        embedding_vector = vectors['UNK']\n",
    "        embedding_matrix[i] = embedding_vector"
   ]
  },
  {
   "cell_type": "code",
   "execution_count": 13,
   "metadata": {},
   "outputs": [],
   "source": [
    "X_train = tokenizer.texts_to_sequences(X_train_value)\n",
    "X_val = tokenizer.texts_to_sequences(X_val_value)"
   ]
  },
  {
   "cell_type": "markdown",
   "metadata": {},
   "source": [
    "Sanity check"
   ]
  },
  {
   "cell_type": "code",
   "execution_count": 14,
   "metadata": {},
   "outputs": [
    {
     "data": {
      "text/plain": [
       "106"
      ]
     },
     "execution_count": 14,
     "metadata": {},
     "output_type": "execute_result"
    }
   ],
   "source": [
    "len(X_val_value[1].split())"
   ]
  },
  {
   "cell_type": "code",
   "execution_count": 15,
   "metadata": {},
   "outputs": [
    {
     "data": {
      "text/plain": [
       "'I previously tried to settle this matter with experian about unauthorized inquiries on my consumer report i sent them a letter explaining the problem trying to get experian to resolve the issue but they never did On XX XX #### i sent out another letter certified about the unauthorized inquiries on my consumer report and i still have not got a response I requested there method of verification about these inquires and i never received anything from experian i will send a copy of the certified letter that i sent to experian on XX XX ####'"
      ]
     },
     "execution_count": 15,
     "metadata": {},
     "output_type": "execute_result"
    }
   ],
   "source": [
    "X_val_value[7]"
   ]
  },
  {
   "cell_type": "code",
   "execution_count": 16,
   "metadata": {},
   "outputs": [
    {
     "data": {
      "text/plain": [
       "106"
      ]
     },
     "execution_count": 16,
     "metadata": {},
     "output_type": "execute_result"
    }
   ],
   "source": [
    "len(X_val[1])"
   ]
  },
  {
   "cell_type": "markdown",
   "metadata": {},
   "source": [
    "The sequences of words padded and limited to 200 sequences per instances."
   ]
  },
  {
   "cell_type": "code",
   "execution_count": 17,
   "metadata": {},
   "outputs": [],
   "source": [
    "X_train = pad_sequences(X_train, maxlen=200, truncating='post', padding='post')\n",
    "X_val = pad_sequences(X_val, maxlen=200, truncating='post', padding='post')"
   ]
  },
  {
   "cell_type": "markdown",
   "metadata": {},
   "source": [
    "The label converted to one-hot encoding"
   ]
  },
  {
   "cell_type": "code",
   "execution_count": 18,
   "metadata": {},
   "outputs": [],
   "source": [
    "enc = LabelEncoder()\n",
    "y_train_label = enc.fit_transform(y_train_value)\n",
    "y_val_label = enc.transform(y_val_value)"
   ]
  },
  {
   "cell_type": "code",
   "execution_count": 19,
   "metadata": {},
   "outputs": [
    {
     "name": "stdout",
     "output_type": "stream",
     "text": [
      "['Checking or savings account' 'Credit card or prepaid card'\n",
      " 'Credit or consumer reporting, credit repair services' 'Debt collection'\n",
      " 'Money transfer or service, virtual currency' 'Mortgage' 'Personal loan'\n",
      " 'Student loan' 'Vehicle loan or lease']\n",
      "(array([0, 1, 2, 3, 4, 5, 6, 7, 8]), array([ 15516,  38824, 145461,  74649,   7690,  42251,  11619,  16220,\n",
      "         6494], dtype=int64))\n",
      "(array([0, 1, 2, 3, 4, 5, 6, 7, 8]), array([10344, 25882, 96974, 49767,  5126, 28168,  7746, 10813,  4330],\n",
      "      dtype=int64))\n"
     ]
    }
   ],
   "source": [
    "print(enc.classes_)\n",
    "print(np.unique(y_train_label, return_counts=True))\n",
    "print(np.unique(y_val_label, return_counts=True))"
   ]
  },
  {
   "cell_type": "code",
   "execution_count": 20,
   "metadata": {},
   "outputs": [
    {
     "name": "stdout",
     "output_type": "stream",
     "text": [
      "Shape of data: (358724, 200)\n",
      "Shape of label: (358724, 9)\n",
      "Shape of label: (239150, 9)\n"
     ]
    }
   ],
   "source": [
    "y_train = to_categorical(np.asarray(y_train_label))\n",
    "y_val = to_categorical(np.asarray(y_val_label))\n",
    "print('Shape of data:', X_train.shape)\n",
    "print('Shape of label:', y_train.shape)\n",
    "print('Shape of label:', y_val.shape)"
   ]
  },
  {
   "cell_type": "markdown",
   "metadata": {},
   "source": [
    "Split the data further for validation and test"
   ]
  },
  {
   "cell_type": "code",
   "execution_count": 22,
   "metadata": {},
   "outputs": [],
   "source": [
    "X_val, X_test, y_val, y_test = train_test_split(X_val, y_val, test_size=0.5, random_state=666, stratify=y_val)"
   ]
  },
  {
   "cell_type": "code",
   "execution_count": 23,
   "metadata": {},
   "outputs": [
    {
     "name": "stdout",
     "output_type": "stream",
     "text": [
      "training/validation/test\n",
      "358724/119575/119575\n"
     ]
    }
   ],
   "source": [
    "print('training/validation/test')\n",
    "print(str(X_train.shape[0]) + '/' + str(X_val.shape[0]) + '/' + str(X_test.shape[0]))\n"
   ]
  },
  {
   "cell_type": "markdown",
   "metadata": {},
   "source": [
    "Function to evaluate the test set"
   ]
  },
  {
   "cell_type": "code",
   "execution_count": 30,
   "metadata": {},
   "outputs": [],
   "source": [
    "from keras.models import model_from_json\n",
    "\n",
    "def evaluate_model(model_json, weight_h5):\n",
    "    json_file = open(model_json, 'r')\n",
    "    loaded_model_json = json_file.read()\n",
    "    json_file.close()\n",
    "    loaded_model = model_from_json(loaded_model_json)\n",
    "    # load weights into new model\n",
    "    loaded_model.load_weights(weight_h5)\n",
    "    print(\"Model loaded\")\n",
    "\n",
    "    # evaluate loaded model on test data\n",
    "    loaded_model.compile(loss='categorical_crossentropy', optimizer='adam', metrics=['accuracy'])\n",
    "    score = loaded_model.evaluate(X_test, y_test, verbose=1)\n",
    "    print(\"%s: %.2f%%\" % (loaded_model.metrics_names[1], score[1]*100))\n",
    "    \n",
    "    return score[1]*100\n"
   ]
  },
  {
   "cell_type": "code",
   "execution_count": 31,
   "metadata": {},
   "outputs": [
    {
     "name": "stdout",
     "output_type": "stream",
     "text": [
      "Model loaded\n",
      "3737/3737 [==============================] - 252s 67ms/step - loss: 0.4407 - accuracy: 0.8487\n",
      "accuracy: 84.87%\n",
      "Model loaded\n",
      "3737/3737 [==============================] - 92s 25ms/step - loss: 0.5246 - accuracy: 0.8341\n",
      "accuracy: 83.41%\n",
      "Model loaded\n",
      "3737/3737 [==============================] - 260s 69ms/step - loss: 0.4516 - accuracy: 0.8471s - loss: 0.4516 - ac\n",
      "accuracy: 84.71%\n",
      "Model loaded\n",
      "3737/3737 [==============================] - 85s 23ms/step - loss: 0.5599 - accuracy: 0.8221\n",
      "accuracy: 82.21%\n"
     ]
    }
   ],
   "source": [
    "lstm = evaluate_model('model_1_rnn.json', 'model_1_rnn.h5')\n",
    "cnn = evaluate_model('model_2_cnn2.json', 'model_2_cnn2.h5')\n",
    "lstm_w2v = evaluate_model('model_3_rnn_w2v.json', 'model_3_rnn_w2v.h5')\n",
    "cnn_w2v = evaluate_model('model_4_cnn_w2v2.json', 'model_4_cnn_w2v2.h5')"
   ]
  },
  {
   "cell_type": "code",
   "execution_count": 32,
   "metadata": {},
   "outputs": [
    {
     "name": "stdout",
     "output_type": "stream",
     "text": [
      "\\begin{tabular}{ll}\n",
      "\\toprule\n",
      "         Model & Accuracy \\\\\n",
      "\\midrule\n",
      "          LSTM &    84.87 \\\\\n",
      " LSTM Word2Vec &    84.71 \\\\\n",
      "           CNN &    83.41 \\\\\n",
      "  CNN Word2Vec &    82.21 \\\\\n",
      "\\bottomrule\n",
      "\\end{tabular}\n",
      "\n"
     ]
    }
   ],
   "source": [
    "results = pd.DataFrame({'Model': ['LSTM', 'LSTM Word2Vec', 'CNN', 'CNN Word2Vec' ],\n",
    "                   'Accuracy': [str(round(lstm,2)), str(round(lstm_w2v,2)), \n",
    "                                str(round(cnn,2)), str(round(cnn_w2v,2))],\n",
    "                   })\n",
    "print(results.to_latex(index=False)) "
   ]
  },
  {
   "cell_type": "markdown",
   "metadata": {},
   "source": [
    "Function to create classification report dataframe"
   ]
  },
  {
   "cell_type": "code",
   "execution_count": 33,
   "metadata": {},
   "outputs": [],
   "source": [
    "def df_classification_report(pred_model, classifier):\n",
    "    report = classification_report(np.argmax(y_test, axis=-1),pred_model, \n",
    "                                   target_names=df['Product'].unique(), output_dict=True)\n",
    "    report = pd.DataFrame(report).transpose()\n",
    "    report['classifier'] = classifier\n",
    "    report.reset_index(inplace=True)\n",
    "    report = report.rename(columns = {'index':'categories'})\n",
    "    return report"
   ]
  },
  {
   "cell_type": "code",
   "execution_count": 37,
   "metadata": {},
   "outputs": [],
   "source": [
    "lstm_report = df_classification_report(lstm_pred, 'LSTM')\n",
    "lstm_w2v_report = df_classification_report(lstm_w2v_pred, 'LSTM W2V')\n",
    "cnn_report = df_classification_report(cnn_pred, 'CNN')\n",
    "cnn_w2v_report = df_classification_report(cnn_w2v_pred, 'CNN W2V')"
   ]
  },
  {
   "cell_type": "code",
   "execution_count": 38,
   "metadata": {},
   "outputs": [
    {
     "data": {
      "text/html": [
       "<div>\n",
       "<style scoped>\n",
       "    .dataframe tbody tr th:only-of-type {\n",
       "        vertical-align: middle;\n",
       "    }\n",
       "\n",
       "    .dataframe tbody tr th {\n",
       "        vertical-align: top;\n",
       "    }\n",
       "\n",
       "    .dataframe thead th {\n",
       "        text-align: right;\n",
       "    }\n",
       "</style>\n",
       "<table border=\"1\" class=\"dataframe\">\n",
       "  <thead>\n",
       "    <tr style=\"text-align: right;\">\n",
       "      <th></th>\n",
       "      <th>categories</th>\n",
       "      <th>precision</th>\n",
       "      <th>recall</th>\n",
       "      <th>f1-score</th>\n",
       "      <th>support</th>\n",
       "      <th>classifier</th>\n",
       "    </tr>\n",
       "  </thead>\n",
       "  <tbody>\n",
       "    <tr>\n",
       "      <th>0</th>\n",
       "      <td>Debt collection</td>\n",
       "      <td>0.759079</td>\n",
       "      <td>0.816319</td>\n",
       "      <td>0.786659</td>\n",
       "      <td>5172.000000</td>\n",
       "      <td>LSTM</td>\n",
       "    </tr>\n",
       "    <tr>\n",
       "      <th>1</th>\n",
       "      <td>Credit or consumer reporting, credit repair se...</td>\n",
       "      <td>0.811710</td>\n",
       "      <td>0.823816</td>\n",
       "      <td>0.817718</td>\n",
       "      <td>12941.000000</td>\n",
       "      <td>LSTM</td>\n",
       "    </tr>\n",
       "    <tr>\n",
       "      <th>2</th>\n",
       "      <td>Money transfer or service, virtual currency</td>\n",
       "      <td>0.895154</td>\n",
       "      <td>0.892920</td>\n",
       "      <td>0.894035</td>\n",
       "      <td>48487.000000</td>\n",
       "      <td>LSTM</td>\n",
       "    </tr>\n",
       "    <tr>\n",
       "      <th>3</th>\n",
       "      <td>Mortgage</td>\n",
       "      <td>0.819396</td>\n",
       "      <td>0.841096</td>\n",
       "      <td>0.830104</td>\n",
       "      <td>24883.000000</td>\n",
       "      <td>LSTM</td>\n",
       "    </tr>\n",
       "    <tr>\n",
       "      <th>4</th>\n",
       "      <td>Vehicle loan or lease</td>\n",
       "      <td>0.834035</td>\n",
       "      <td>0.696059</td>\n",
       "      <td>0.758826</td>\n",
       "      <td>2563.000000</td>\n",
       "      <td>LSTM</td>\n",
       "    </tr>\n",
       "    <tr>\n",
       "      <th>5</th>\n",
       "      <td>Student loan</td>\n",
       "      <td>0.920728</td>\n",
       "      <td>0.922820</td>\n",
       "      <td>0.921773</td>\n",
       "      <td>14084.000000</td>\n",
       "      <td>LSTM</td>\n",
       "    </tr>\n",
       "    <tr>\n",
       "      <th>6</th>\n",
       "      <td>Credit card or prepaid card</td>\n",
       "      <td>0.541820</td>\n",
       "      <td>0.531887</td>\n",
       "      <td>0.536808</td>\n",
       "      <td>3873.000000</td>\n",
       "      <td>LSTM</td>\n",
       "    </tr>\n",
       "    <tr>\n",
       "      <th>7</th>\n",
       "      <td>Checking or savings account</td>\n",
       "      <td>0.846058</td>\n",
       "      <td>0.877196</td>\n",
       "      <td>0.861346</td>\n",
       "      <td>5407.000000</td>\n",
       "      <td>LSTM</td>\n",
       "    </tr>\n",
       "    <tr>\n",
       "      <th>8</th>\n",
       "      <td>Personal loan</td>\n",
       "      <td>0.603211</td>\n",
       "      <td>0.364434</td>\n",
       "      <td>0.454362</td>\n",
       "      <td>2165.000000</td>\n",
       "      <td>LSTM</td>\n",
       "    </tr>\n",
       "    <tr>\n",
       "      <th>9</th>\n",
       "      <td>accuracy</td>\n",
       "      <td>0.848672</td>\n",
       "      <td>0.848672</td>\n",
       "      <td>0.848672</td>\n",
       "      <td>0.848672</td>\n",
       "      <td>LSTM</td>\n",
       "    </tr>\n",
       "    <tr>\n",
       "      <th>10</th>\n",
       "      <td>macro avg</td>\n",
       "      <td>0.781243</td>\n",
       "      <td>0.751839</td>\n",
       "      <td>0.762404</td>\n",
       "      <td>119575.000000</td>\n",
       "      <td>LSTM</td>\n",
       "    </tr>\n",
       "    <tr>\n",
       "      <th>11</th>\n",
       "      <td>weighted avg</td>\n",
       "      <td>0.847224</td>\n",
       "      <td>0.848672</td>\n",
       "      <td>0.847187</td>\n",
       "      <td>119575.000000</td>\n",
       "      <td>LSTM</td>\n",
       "    </tr>\n",
       "  </tbody>\n",
       "</table>\n",
       "</div>"
      ],
      "text/plain": [
       "                                           categories  precision    recall  \\\n",
       "0                                     Debt collection   0.759079  0.816319   \n",
       "1   Credit or consumer reporting, credit repair se...   0.811710  0.823816   \n",
       "2         Money transfer or service, virtual currency   0.895154  0.892920   \n",
       "3                                            Mortgage   0.819396  0.841096   \n",
       "4                               Vehicle loan or lease   0.834035  0.696059   \n",
       "5                                        Student loan   0.920728  0.922820   \n",
       "6                         Credit card or prepaid card   0.541820  0.531887   \n",
       "7                         Checking or savings account   0.846058  0.877196   \n",
       "8                                       Personal loan   0.603211  0.364434   \n",
       "9                                            accuracy   0.848672  0.848672   \n",
       "10                                          macro avg   0.781243  0.751839   \n",
       "11                                       weighted avg   0.847224  0.848672   \n",
       "\n",
       "    f1-score        support classifier  \n",
       "0   0.786659    5172.000000       LSTM  \n",
       "1   0.817718   12941.000000       LSTM  \n",
       "2   0.894035   48487.000000       LSTM  \n",
       "3   0.830104   24883.000000       LSTM  \n",
       "4   0.758826    2563.000000       LSTM  \n",
       "5   0.921773   14084.000000       LSTM  \n",
       "6   0.536808    3873.000000       LSTM  \n",
       "7   0.861346    5407.000000       LSTM  \n",
       "8   0.454362    2165.000000       LSTM  \n",
       "9   0.848672       0.848672       LSTM  \n",
       "10  0.762404  119575.000000       LSTM  \n",
       "11  0.847187  119575.000000       LSTM  "
      ]
     },
     "execution_count": 38,
     "metadata": {},
     "output_type": "execute_result"
    }
   ],
   "source": [
    "lstm_report"
   ]
  },
  {
   "cell_type": "code",
   "execution_count": 52,
   "metadata": {},
   "outputs": [],
   "source": [
    "frames = [lstm_report, lstm_w2v_report, cnn_report, cnn_w2v_report]"
   ]
  },
  {
   "cell_type": "code",
   "execution_count": 53,
   "metadata": {},
   "outputs": [],
   "source": [
    "merged_report = pd.concat(frames, axis=0)\n",
    "merged_report = merged_report[~merged_report['categories'].isin(['accuracy', 'macro avg', 'weighted avg'])]\n",
    "merged_report = merged_report.reset_index(inplace=False)\n",
    "merged_report = merged_report.drop(['index'], axis=1)"
   ]
  },
  {
   "cell_type": "code",
   "execution_count": 54,
   "metadata": {},
   "outputs": [],
   "source": [
    "merged_report[['precision','recall']] = merged_report[['precision','recall']].mul(100)"
   ]
  },
  {
   "cell_type": "code",
   "execution_count": 56,
   "metadata": {},
   "outputs": [],
   "source": [
    "merged_report.to_csv(r'merged_report.csv', index = False)"
   ]
  },
  {
   "cell_type": "code",
   "execution_count": 182,
   "metadata": {},
   "outputs": [],
   "source": [
    "merged_report = pd.read_csv('merged_report.csv')"
   ]
  },
  {
   "cell_type": "code",
   "execution_count": 195,
   "metadata": {},
   "outputs": [
    {
     "data": {
      "text/html": [
       "<div>\n",
       "<style scoped>\n",
       "    .dataframe tbody tr th:only-of-type {\n",
       "        vertical-align: middle;\n",
       "    }\n",
       "\n",
       "    .dataframe tbody tr th {\n",
       "        vertical-align: top;\n",
       "    }\n",
       "\n",
       "    .dataframe thead th {\n",
       "        text-align: right;\n",
       "    }\n",
       "</style>\n",
       "<table border=\"1\" class=\"dataframe\">\n",
       "  <thead>\n",
       "    <tr style=\"text-align: right;\">\n",
       "      <th></th>\n",
       "      <th>categories</th>\n",
       "      <th>precision</th>\n",
       "      <th>recall</th>\n",
       "      <th>f1-score</th>\n",
       "      <th>support</th>\n",
       "      <th>classifier</th>\n",
       "    </tr>\n",
       "  </thead>\n",
       "  <tbody>\n",
       "    <tr>\n",
       "      <th>0</th>\n",
       "      <td>Debt collection</td>\n",
       "      <td>75.907947</td>\n",
       "      <td>81.631864</td>\n",
       "      <td>0.786659</td>\n",
       "      <td>5172.0</td>\n",
       "      <td>LSTM</td>\n",
       "    </tr>\n",
       "    <tr>\n",
       "      <th>1</th>\n",
       "      <td>Credit or consumer reporting, credit repair se...</td>\n",
       "      <td>81.171007</td>\n",
       "      <td>82.381578</td>\n",
       "      <td>0.817718</td>\n",
       "      <td>12941.0</td>\n",
       "      <td>LSTM</td>\n",
       "    </tr>\n",
       "    <tr>\n",
       "      <th>2</th>\n",
       "      <td>Money transfer or service, virtual currency</td>\n",
       "      <td>89.515362</td>\n",
       "      <td>89.291975</td>\n",
       "      <td>0.894035</td>\n",
       "      <td>48487.0</td>\n",
       "      <td>LSTM</td>\n",
       "    </tr>\n",
       "    <tr>\n",
       "      <th>3</th>\n",
       "      <td>Mortgage</td>\n",
       "      <td>81.939551</td>\n",
       "      <td>84.109633</td>\n",
       "      <td>0.830104</td>\n",
       "      <td>24883.0</td>\n",
       "      <td>LSTM</td>\n",
       "    </tr>\n",
       "    <tr>\n",
       "      <th>4</th>\n",
       "      <td>Vehicle loan or lease</td>\n",
       "      <td>83.403460</td>\n",
       "      <td>69.605931</td>\n",
       "      <td>0.758826</td>\n",
       "      <td>2563.0</td>\n",
       "      <td>LSTM</td>\n",
       "    </tr>\n",
       "    <tr>\n",
       "      <th>5</th>\n",
       "      <td>Student loan</td>\n",
       "      <td>92.072825</td>\n",
       "      <td>92.282022</td>\n",
       "      <td>0.921773</td>\n",
       "      <td>14084.0</td>\n",
       "      <td>LSTM</td>\n",
       "    </tr>\n",
       "    <tr>\n",
       "      <th>6</th>\n",
       "      <td>Credit card or prepaid card</td>\n",
       "      <td>54.182009</td>\n",
       "      <td>53.188743</td>\n",
       "      <td>0.536808</td>\n",
       "      <td>3873.0</td>\n",
       "      <td>LSTM</td>\n",
       "    </tr>\n",
       "    <tr>\n",
       "      <th>7</th>\n",
       "      <td>Checking or savings account</td>\n",
       "      <td>84.605780</td>\n",
       "      <td>87.719623</td>\n",
       "      <td>0.861346</td>\n",
       "      <td>5407.0</td>\n",
       "      <td>LSTM</td>\n",
       "    </tr>\n",
       "    <tr>\n",
       "      <th>8</th>\n",
       "      <td>Personal loan</td>\n",
       "      <td>60.321101</td>\n",
       "      <td>36.443418</td>\n",
       "      <td>0.454362</td>\n",
       "      <td>2165.0</td>\n",
       "      <td>LSTM</td>\n",
       "    </tr>\n",
       "    <tr>\n",
       "      <th>9</th>\n",
       "      <td>Debt collection</td>\n",
       "      <td>79.281603</td>\n",
       "      <td>77.242846</td>\n",
       "      <td>0.782489</td>\n",
       "      <td>5172.0</td>\n",
       "      <td>LSTM W2V</td>\n",
       "    </tr>\n",
       "    <tr>\n",
       "      <th>10</th>\n",
       "      <td>Credit or consumer reporting, credit repair se...</td>\n",
       "      <td>81.224363</td>\n",
       "      <td>81.098833</td>\n",
       "      <td>0.811615</td>\n",
       "      <td>12941.0</td>\n",
       "      <td>LSTM W2V</td>\n",
       "    </tr>\n",
       "    <tr>\n",
       "      <th>11</th>\n",
       "      <td>Money transfer or service, virtual currency</td>\n",
       "      <td>88.509592</td>\n",
       "      <td>90.585105</td>\n",
       "      <td>0.895353</td>\n",
       "      <td>48487.0</td>\n",
       "      <td>LSTM W2V</td>\n",
       "    </tr>\n",
       "    <tr>\n",
       "      <th>12</th>\n",
       "      <td>Mortgage</td>\n",
       "      <td>83.221805</td>\n",
       "      <td>81.967608</td>\n",
       "      <td>0.825899</td>\n",
       "      <td>24883.0</td>\n",
       "      <td>LSTM W2V</td>\n",
       "    </tr>\n",
       "    <tr>\n",
       "      <th>13</th>\n",
       "      <td>Vehicle loan or lease</td>\n",
       "      <td>74.980695</td>\n",
       "      <td>75.770581</td>\n",
       "      <td>0.753736</td>\n",
       "      <td>2563.0</td>\n",
       "      <td>LSTM W2V</td>\n",
       "    </tr>\n",
       "    <tr>\n",
       "      <th>14</th>\n",
       "      <td>Student loan</td>\n",
       "      <td>90.815546</td>\n",
       "      <td>92.743539</td>\n",
       "      <td>0.917694</td>\n",
       "      <td>14084.0</td>\n",
       "      <td>LSTM W2V</td>\n",
       "    </tr>\n",
       "    <tr>\n",
       "      <th>15</th>\n",
       "      <td>Credit card or prepaid card</td>\n",
       "      <td>63.423691</td>\n",
       "      <td>44.100181</td>\n",
       "      <td>0.520256</td>\n",
       "      <td>3873.0</td>\n",
       "      <td>LSTM W2V</td>\n",
       "    </tr>\n",
       "    <tr>\n",
       "      <th>16</th>\n",
       "      <td>Checking or savings account</td>\n",
       "      <td>79.872039</td>\n",
       "      <td>85.426299</td>\n",
       "      <td>0.825559</td>\n",
       "      <td>5407.0</td>\n",
       "      <td>LSTM W2V</td>\n",
       "    </tr>\n",
       "    <tr>\n",
       "      <th>17</th>\n",
       "      <td>Personal loan</td>\n",
       "      <td>56.833825</td>\n",
       "      <td>53.394919</td>\n",
       "      <td>0.550607</td>\n",
       "      <td>2165.0</td>\n",
       "      <td>LSTM W2V</td>\n",
       "    </tr>\n",
       "    <tr>\n",
       "      <th>18</th>\n",
       "      <td>Debt collection</td>\n",
       "      <td>75.929475</td>\n",
       "      <td>76.604795</td>\n",
       "      <td>0.762656</td>\n",
       "      <td>5172.0</td>\n",
       "      <td>CNN</td>\n",
       "    </tr>\n",
       "    <tr>\n",
       "      <th>19</th>\n",
       "      <td>Credit or consumer reporting, credit repair se...</td>\n",
       "      <td>73.807470</td>\n",
       "      <td>85.967081</td>\n",
       "      <td>0.794246</td>\n",
       "      <td>12941.0</td>\n",
       "      <td>CNN</td>\n",
       "    </tr>\n",
       "    <tr>\n",
       "      <th>20</th>\n",
       "      <td>Money transfer or service, virtual currency</td>\n",
       "      <td>89.735522</td>\n",
       "      <td>87.050137</td>\n",
       "      <td>0.883724</td>\n",
       "      <td>48487.0</td>\n",
       "      <td>CNN</td>\n",
       "    </tr>\n",
       "    <tr>\n",
       "      <th>21</th>\n",
       "      <td>Mortgage</td>\n",
       "      <td>80.565551</td>\n",
       "      <td>82.783426</td>\n",
       "      <td>0.816594</td>\n",
       "      <td>24883.0</td>\n",
       "      <td>CNN</td>\n",
       "    </tr>\n",
       "    <tr>\n",
       "      <th>22</th>\n",
       "      <td>Vehicle loan or lease</td>\n",
       "      <td>81.523904</td>\n",
       "      <td>63.870464</td>\n",
       "      <td>0.716255</td>\n",
       "      <td>2563.0</td>\n",
       "      <td>CNN</td>\n",
       "    </tr>\n",
       "    <tr>\n",
       "      <th>23</th>\n",
       "      <td>Student loan</td>\n",
       "      <td>89.448163</td>\n",
       "      <td>92.992048</td>\n",
       "      <td>0.911857</td>\n",
       "      <td>14084.0</td>\n",
       "      <td>CNN</td>\n",
       "    </tr>\n",
       "    <tr>\n",
       "      <th>24</th>\n",
       "      <td>Credit card or prepaid card</td>\n",
       "      <td>55.664421</td>\n",
       "      <td>46.940356</td>\n",
       "      <td>0.509315</td>\n",
       "      <td>3873.0</td>\n",
       "      <td>CNN</td>\n",
       "    </tr>\n",
       "    <tr>\n",
       "      <th>25</th>\n",
       "      <td>Checking or savings account</td>\n",
       "      <td>85.589187</td>\n",
       "      <td>83.151470</td>\n",
       "      <td>0.843527</td>\n",
       "      <td>5407.0</td>\n",
       "      <td>CNN</td>\n",
       "    </tr>\n",
       "    <tr>\n",
       "      <th>26</th>\n",
       "      <td>Personal loan</td>\n",
       "      <td>52.481800</td>\n",
       "      <td>36.628176</td>\n",
       "      <td>0.431447</td>\n",
       "      <td>2165.0</td>\n",
       "      <td>CNN</td>\n",
       "    </tr>\n",
       "    <tr>\n",
       "      <th>27</th>\n",
       "      <td>Debt collection</td>\n",
       "      <td>82.690927</td>\n",
       "      <td>66.782676</td>\n",
       "      <td>0.738903</td>\n",
       "      <td>5172.0</td>\n",
       "      <td>CNN W2V</td>\n",
       "    </tr>\n",
       "    <tr>\n",
       "      <th>28</th>\n",
       "      <td>Credit or consumer reporting, credit repair se...</td>\n",
       "      <td>79.102131</td>\n",
       "      <td>77.745151</td>\n",
       "      <td>0.784178</td>\n",
       "      <td>12941.0</td>\n",
       "      <td>CNN W2V</td>\n",
       "    </tr>\n",
       "    <tr>\n",
       "      <th>29</th>\n",
       "      <td>Money transfer or service, virtual currency</td>\n",
       "      <td>85.591933</td>\n",
       "      <td>89.450781</td>\n",
       "      <td>0.874788</td>\n",
       "      <td>48487.0</td>\n",
       "      <td>CNN W2V</td>\n",
       "    </tr>\n",
       "    <tr>\n",
       "      <th>30</th>\n",
       "      <td>Mortgage</td>\n",
       "      <td>79.544820</td>\n",
       "      <td>80.203352</td>\n",
       "      <td>0.798727</td>\n",
       "      <td>24883.0</td>\n",
       "      <td>CNN W2V</td>\n",
       "    </tr>\n",
       "    <tr>\n",
       "      <th>31</th>\n",
       "      <td>Vehicle loan or lease</td>\n",
       "      <td>70.655488</td>\n",
       "      <td>72.337105</td>\n",
       "      <td>0.714864</td>\n",
       "      <td>2563.0</td>\n",
       "      <td>CNN W2V</td>\n",
       "    </tr>\n",
       "    <tr>\n",
       "      <th>32</th>\n",
       "      <td>Student loan</td>\n",
       "      <td>88.010918</td>\n",
       "      <td>91.579097</td>\n",
       "      <td>0.897596</td>\n",
       "      <td>14084.0</td>\n",
       "      <td>CNN W2V</td>\n",
       "    </tr>\n",
       "    <tr>\n",
       "      <th>33</th>\n",
       "      <td>Credit card or prepaid card</td>\n",
       "      <td>58.247210</td>\n",
       "      <td>36.380067</td>\n",
       "      <td>0.447870</td>\n",
       "      <td>3873.0</td>\n",
       "      <td>CNN W2V</td>\n",
       "    </tr>\n",
       "    <tr>\n",
       "      <th>34</th>\n",
       "      <td>Checking or savings account</td>\n",
       "      <td>81.498127</td>\n",
       "      <td>80.488256</td>\n",
       "      <td>0.809900</td>\n",
       "      <td>5407.0</td>\n",
       "      <td>CNN W2V</td>\n",
       "    </tr>\n",
       "    <tr>\n",
       "      <th>35</th>\n",
       "      <td>Personal loan</td>\n",
       "      <td>50.186269</td>\n",
       "      <td>43.556582</td>\n",
       "      <td>0.466370</td>\n",
       "      <td>2165.0</td>\n",
       "      <td>CNN W2V</td>\n",
       "    </tr>\n",
       "  </tbody>\n",
       "</table>\n",
       "</div>"
      ],
      "text/plain": [
       "                                           categories  precision     recall  \\\n",
       "0                                     Debt collection  75.907947  81.631864   \n",
       "1   Credit or consumer reporting, credit repair se...  81.171007  82.381578   \n",
       "2         Money transfer or service, virtual currency  89.515362  89.291975   \n",
       "3                                            Mortgage  81.939551  84.109633   \n",
       "4                               Vehicle loan or lease  83.403460  69.605931   \n",
       "5                                        Student loan  92.072825  92.282022   \n",
       "6                         Credit card or prepaid card  54.182009  53.188743   \n",
       "7                         Checking or savings account  84.605780  87.719623   \n",
       "8                                       Personal loan  60.321101  36.443418   \n",
       "9                                     Debt collection  79.281603  77.242846   \n",
       "10  Credit or consumer reporting, credit repair se...  81.224363  81.098833   \n",
       "11        Money transfer or service, virtual currency  88.509592  90.585105   \n",
       "12                                           Mortgage  83.221805  81.967608   \n",
       "13                              Vehicle loan or lease  74.980695  75.770581   \n",
       "14                                       Student loan  90.815546  92.743539   \n",
       "15                        Credit card or prepaid card  63.423691  44.100181   \n",
       "16                        Checking or savings account  79.872039  85.426299   \n",
       "17                                      Personal loan  56.833825  53.394919   \n",
       "18                                    Debt collection  75.929475  76.604795   \n",
       "19  Credit or consumer reporting, credit repair se...  73.807470  85.967081   \n",
       "20        Money transfer or service, virtual currency  89.735522  87.050137   \n",
       "21                                           Mortgage  80.565551  82.783426   \n",
       "22                              Vehicle loan or lease  81.523904  63.870464   \n",
       "23                                       Student loan  89.448163  92.992048   \n",
       "24                        Credit card or prepaid card  55.664421  46.940356   \n",
       "25                        Checking or savings account  85.589187  83.151470   \n",
       "26                                      Personal loan  52.481800  36.628176   \n",
       "27                                    Debt collection  82.690927  66.782676   \n",
       "28  Credit or consumer reporting, credit repair se...  79.102131  77.745151   \n",
       "29        Money transfer or service, virtual currency  85.591933  89.450781   \n",
       "30                                           Mortgage  79.544820  80.203352   \n",
       "31                              Vehicle loan or lease  70.655488  72.337105   \n",
       "32                                       Student loan  88.010918  91.579097   \n",
       "33                        Credit card or prepaid card  58.247210  36.380067   \n",
       "34                        Checking or savings account  81.498127  80.488256   \n",
       "35                                      Personal loan  50.186269  43.556582   \n",
       "\n",
       "    f1-score  support classifier  \n",
       "0   0.786659   5172.0       LSTM  \n",
       "1   0.817718  12941.0       LSTM  \n",
       "2   0.894035  48487.0       LSTM  \n",
       "3   0.830104  24883.0       LSTM  \n",
       "4   0.758826   2563.0       LSTM  \n",
       "5   0.921773  14084.0       LSTM  \n",
       "6   0.536808   3873.0       LSTM  \n",
       "7   0.861346   5407.0       LSTM  \n",
       "8   0.454362   2165.0       LSTM  \n",
       "9   0.782489   5172.0   LSTM W2V  \n",
       "10  0.811615  12941.0   LSTM W2V  \n",
       "11  0.895353  48487.0   LSTM W2V  \n",
       "12  0.825899  24883.0   LSTM W2V  \n",
       "13  0.753736   2563.0   LSTM W2V  \n",
       "14  0.917694  14084.0   LSTM W2V  \n",
       "15  0.520256   3873.0   LSTM W2V  \n",
       "16  0.825559   5407.0   LSTM W2V  \n",
       "17  0.550607   2165.0   LSTM W2V  \n",
       "18  0.762656   5172.0        CNN  \n",
       "19  0.794246  12941.0        CNN  \n",
       "20  0.883724  48487.0        CNN  \n",
       "21  0.816594  24883.0        CNN  \n",
       "22  0.716255   2563.0        CNN  \n",
       "23  0.911857  14084.0        CNN  \n",
       "24  0.509315   3873.0        CNN  \n",
       "25  0.843527   5407.0        CNN  \n",
       "26  0.431447   2165.0        CNN  \n",
       "27  0.738903   5172.0    CNN W2V  \n",
       "28  0.784178  12941.0    CNN W2V  \n",
       "29  0.874788  48487.0    CNN W2V  \n",
       "30  0.798727  24883.0    CNN W2V  \n",
       "31  0.714864   2563.0    CNN W2V  \n",
       "32  0.897596  14084.0    CNN W2V  \n",
       "33  0.447870   3873.0    CNN W2V  \n",
       "34  0.809900   5407.0    CNN W2V  \n",
       "35  0.466370   2165.0    CNN W2V  "
      ]
     },
     "execution_count": 195,
     "metadata": {},
     "output_type": "execute_result"
    }
   ],
   "source": [
    "merged.drop(['pop'], axis=1)"
   ]
  },
  {
   "cell_type": "code",
   "execution_count": 61,
   "metadata": {},
   "outputs": [],
   "source": [
    "import seaborn as sns\n",
    "%matplotlib inline\n",
    "import matplotlib.pyplot as plt"
   ]
  },
  {
   "cell_type": "code",
   "execution_count": 190,
   "metadata": {},
   "outputs": [],
   "source": [
    "def result_plot(evaluation):\n",
    "    g = sns.catplot(x=\"classifier\", y=evaluation, col=\"categories\",\n",
    "                    col_wrap=3, hue=\"classifier\", dodge=False,\n",
    "                    data=merged_report, saturation=.9,\n",
    "                    kind=\"bar\", ci=None, aspect=.9)\n",
    "    (g.set_axis_labels(\"\", \"Score\")\n",
    "      .set_titles(\"{col_name}\", size=14)\n",
    "      .set(ylim=(0, 1), xticklabels=[])\n",
    "      .despine(left=True)  \n",
    "      .add_legend())\n",
    "    sns.color_palette(\"colorblind\")\n",
    "    #plt.show()\n",
    "    #g.savefig(\"precision.png\",dpi=300, bbox_inches = \"tight\")\n",
    "    g.savefig(\"f1.pgf\",dpi=150, bbox_inches = \"tight\")"
   ]
  },
  {
   "cell_type": "code",
   "execution_count": 191,
   "metadata": {},
   "outputs": [
    {
     "data": {
      "image/png": "[encoded data removed]",
      "text/plain": [
       "<Figure size 1067.41x1080 with 9 Axes>"
      ]
     },
     "metadata": {},
     "output_type": "display_data"
    }
   ],
   "source": [
    "result_plot('f1-score')"
   ]
  },
  {
   "cell_type": "code",
   "execution_count": 165,
   "metadata": {},
   "outputs": [],
   "source": [
    "import matplotlib\n",
    "\n",
    "matplotlib.use(\"pgf\")\n",
    "matplotlib.rcParams.update({\n",
    "    \"pgf.texsystem\": \"pdflatex\",\n",
    "    'font.family': 'serif',\n",
    "    'text.usetex': True,\n",
    "    'pgf.rcfonts': False,\n",
    "})"
   ]
  },
  {
   "cell_type": "code",
   "execution_count": 166,
   "metadata": {},
   "outputs": [],
   "source": [
    "# Use tex for all labels globally in the plot\n",
    "sns.set(rc={'text.usetex': True}, style='white')"
   ]
  },
  {
   "cell_type": "code",
   "execution_count": 167,
   "metadata": {},
   "outputs": [
    {
     "data": {
      "image/png": "[encoded data removed]",
      "text/plain": [
       "<Figure size 432x288 with 1 Axes>"
      ]
     },
     "metadata": {},
     "output_type": "display_data"
    }
   ],
   "source": [
    "ax = sns.countplot(y=\"Product\", data=df,palette=(\"Blues_d\"), order=df['Product'].value_counts().index)\n",
    "plt.savefig(\"catcount.pgf\",dpi=150, bbox_inches = \"tight\")\n",
    "plt.savefig(\"catcount.png\",dpi=150, bbox_inches = \"tight\")\n",
    "#plt.show()"
   ]
  },
  {
   "cell_type": "code",
   "execution_count": 5,
   "metadata": {},
   "outputs": [],
   "source": [
    "def return_prediction(model_json, weight_h5):\n",
    "    json_file = open(model_json, 'r')\n",
    "    loaded_model_json = json_file.read()\n",
    "    json_file.close()\n",
    "    loaded_model = model_from_json(loaded_model_json)\n",
    "    # load weights into new model\n",
    "    loaded_model.load_weights(weight_h5)\n",
    "    print(\"Model loaded\")\n",
    "    pred_model = np.argmax(loaded_model.predict(X_test), axis=-1)\n",
    "    return pred_model"
   ]
  },
  {
   "cell_type": "code",
   "execution_count": 29,
   "metadata": {},
   "outputs": [
    {
     "name": "stdout",
     "output_type": "stream",
     "text": [
      "Model loaded\n",
      "Model loaded\n",
      "Model loaded\n",
      "Model loaded\n"
     ]
    }
   ],
   "source": [
    "lstm_pred = return_prediction('model_1_rnn.json', 'model_1_rnn.h5')\n",
    "cnn_pred = return_prediction('model_2_cnn2.json', 'model_2_cnn2.h5')\n",
    "lstm_w2v_pred = return_prediction('model_3_rnn_w2v.json', 'model_3_rnn_w2v.h5')\n",
    "cnn_w2v_pred = return_prediction('model_4_cnn_w2v2.json', 'model_4_cnn_w2v2.h5')"
   ]
  },
  {
   "cell_type": "code",
   "execution_count": 173,
   "metadata": {},
   "outputs": [],
   "source": [
    "plt.rcParams[\"axes.grid\"] = False"
   ]
  },
  {
   "cell_type": "code",
   "execution_count": 181,
   "metadata": {},
   "outputs": [
    {
     "data": {
      "image/png": "[encoded data removed]",
      "text/plain": [
       "<Figure size 432x288 with 1 Axes>"
      ]
     },
     "metadata": {},
     "output_type": "display_data"
    }
   ],
   "source": [
    "df['word_count'].hist(bins = 100, range=[0,1500])\n",
    "plt.xlim(xmin = 0)\n",
    "plt.xlabel(\"Word Count\")\n",
    "plt.ylabel(\"Count\")\n",
    "plt.grid(None) \n",
    "plt.savefig(\"wordcount.pgf\",dpi=150, bbox_inches = \"tight\")\n",
    "plt.savefig(\"wordcount.png\",dpi=150, bbox_inches = \"tight\")"
   ]
  },
  {
   "cell_type": "code",
   "execution_count": 204,
   "metadata": {},
   "outputs": [],
   "source": [
    "from sklearn.metrics import confusion_matrix\n",
    "import seaborn as sns\n",
    "\n",
    "def print_confusion_matrix(pred, true):\n",
    "    conf_mat = confusion_matrix((np.argmax(true, axis=-1)), pred)\n",
    "    fig, ax = plt.subplots(figsize=(5,3))\n",
    "    fig.set_size_inches(w=5, h=3)\n",
    "    sns.heatmap(conf_mat, annot=True, fmt=\"d\", cmap='Reds',xticklabels=df['Product'].unique(),\n",
    "                yticklabels=df['Product'].unique())\n",
    "    plt.ylabel('Actual')\n",
    "    plt.xlabel('Predicted')\n",
    "    #plt.show()\n",
    "    plt.savefig('cm_lstm_w2v.pgf',dpi=100, bbox_inches = \"tight\")\n",
    "    plt.savefig(\"cm_lstm_w2v.png\",dpi=100, bbox_inches = \"tight\")"
   ]
  },
  {
   "cell_type": "code",
   "execution_count": 205,
   "metadata": {},
   "outputs": [
    {
     "data": {
      "image/png": "[encoded data removed]",
      "text/plain": [
       "<Figure size 360x216 with 2 Axes>"
      ]
     },
     "metadata": {},
     "output_type": "display_data"
    }
   ],
   "source": [
    "print_confusion_matrix(lstm_w2v_pred, y_test)"
   ]
  },
  {
   "cell_type": "markdown",
   "metadata": {},
   "source": [
    "Function to return the trained model"
   ]
  },
  {
   "cell_type": "code",
   "execution_count": 31,
   "metadata": {},
   "outputs": [],
   "source": [
    "from keras.models import model_from_json\n",
    "\n",
    "def load_model(model_json, weight_h5):\n",
    "    json_file = open(model_json, 'r')\n",
    "    loaded_model_json = json_file.read()\n",
    "    json_file.close()\n",
    "    loaded_model = model_from_json(loaded_model_json)\n",
    "    # load weights into new model\n",
    "    loaded_model.load_weights(weight_h5)\n",
    "    print(\"Model loaded\")\n",
    "    return loaded_model"
   ]
  },
  {
   "cell_type": "code",
   "execution_count": 32,
   "metadata": {},
   "outputs": [
    {
     "name": "stdout",
     "output_type": "stream",
     "text": [
      "Model loaded\n",
      "Model loaded\n",
      "Model loaded\n",
      "Model loaded\n"
     ]
    }
   ],
   "source": [
    "lstm_model = load_model('model_1_rnn.json', 'model_1_rnn.h5') \n",
    "cnn_model = load_model('model_2_cnn2.json', 'model_2_cnn2.h5')\n",
    "lstm_w2v_model = load_model('model_3_rnn_w2v.json', 'model_3_rnn_w2v.h5')\n",
    "cnn_w2v_model = load_model('model_4_cnn_w2v2.json', 'model_4_cnn_w2v2.h5')"
   ]
  }
 ],
 "metadata": {
  "kernelspec": {
   "display_name": "Python 3",
   "language": "python",
   "name": "python3"
  },
  "language_info": {
   "codemirror_mode": {
    "name": "ipython",
    "version": 3
   },
   "file_extension": ".py",
   "mimetype": "text/x-python",
   "name": "python",
   "nbconvert_exporter": "python",
   "pygments_lexer": "ipython3",
   "version": "3.8.3"
  }
 },
 "nbformat": 4,
 "nbformat_minor": 4
}
