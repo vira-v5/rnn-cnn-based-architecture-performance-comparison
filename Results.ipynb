{
 "cells": [
  {
   "cell_type": "code",
   "execution_count": 1,
   "metadata": {},
   "outputs": [],
   "source": [
    "#importing all the libraries\n",
    "import pandas as pd\n",
    "import numpy as np\n",
    "import matplotlib.pyplot as plt\n",
    "%matplotlib inline \n",
    "from sklearn.feature_extraction.text import CountVectorizer\n",
    "from sklearn.preprocessing import LabelBinarizer\n",
    "from sklearn.model_selection import train_test_split\n",
    "from sklearn.metrics import accuracy_score\n",
    "from sklearn.metrics import classification_report\n",
    "from keras.models import Sequential\n",
    "from keras.layers import Dense, Activation, Dropout, BatchNormalization\n",
    "from keras.optimizers import Adam, Adagrad\n",
    "from keras import regularizers\n",
    "from keras.preprocessing.text import Tokenizer\n",
    "from keras.preprocessing.sequence import pad_sequences\n",
    "from keras.utils import to_categorical\n",
    "from sklearn.preprocessing import LabelBinarizer\n",
    "from gensim.models import KeyedVectors\n",
    "from sklearn.preprocessing import LabelEncoder\n",
    "import pickle\n",
    "import random"
   ]
  },
  {
   "cell_type": "code",
   "execution_count": 2,
   "metadata": {},
   "outputs": [],
   "source": [
    "random.seed(666)"
   ]
  },
  {
   "cell_type": "markdown",
   "metadata": {},
   "source": [
    "Loading the dataset"
   ]
  },
  {
   "cell_type": "code",
   "execution_count": 3,
   "metadata": {},
   "outputs": [],
   "source": [
    "df = pd.read_csv(\"new_complaints3.csv\") "
   ]
  },
  {
   "cell_type": "code",
   "execution_count": 4,
   "metadata": {},
   "outputs": [
    {
     "data": {
      "text/plain": [
       "<matplotlib.axes._subplots.AxesSubplot at 0x1c18d8759a0>"
      ]
     },
     "execution_count": 4,
     "metadata": {},
     "output_type": "execute_result"
    },
    {
     "data": {
      "image/png": "[encoded data removed]",
      "text/plain": [
       "<Figure size 432x288 with 1 Axes>"
      ]
     },
     "metadata": {
      "needs_background": "light"
     },
     "output_type": "display_data"
    }
   ],
   "source": [
    "target = df['Product'].value_counts().sort_values(ascending=False)\n",
    "target.plot.bar()"
   ]
  },
  {
   "cell_type": "markdown",
   "metadata": {},
   "source": [
    "The data splited into feature and target."
   ]
  },
  {
   "cell_type": "code",
   "execution_count": 5,
   "metadata": {},
   "outputs": [],
   "source": [
    "X_data = df['new']\n",
    "y_data = df['Product']"
   ]
  },
  {
   "cell_type": "code",
   "execution_count": 6,
   "metadata": {},
   "outputs": [
    {
     "data": {
      "text/plain": [
       "0         transworld systems inc \\nis trying to collect ...\n",
       "1         Over the past 2 weeks I have been receiving ex...\n",
       "2         Pioneer has committed several federal violatio...\n",
       "3         Previously on XX XX XXXX XX XX XXXX and XX XX ...\n",
       "4         Hello This complaint is against the three cred...\n",
       "                                ...                        \n",
       "597869    1  Mailing Address is incorrect \\n2  Date of B...\n",
       "597870    I made a purchase of ##### on XXXX XXXX #### u...\n",
       "597871    On XXXX XXXX #### I contacted XXXX XXXX who is...\n",
       "597872    I can not get from chase who services my mortg...\n",
       "597873    cfbp i would Like to file a complaint on Exper...\n",
       "Name: new, Length: 597874, dtype: object"
      ]
     },
     "execution_count": 6,
     "metadata": {},
     "output_type": "execute_result"
    }
   ],
   "source": [
    "X_data"
   ]
  },
  {
   "cell_type": "markdown",
   "metadata": {},
   "source": [
    "The DataFrame converted to a NumPy array."
   ]
  },
  {
   "cell_type": "code",
   "execution_count": 7,
   "metadata": {},
   "outputs": [],
   "source": [
    "X = X_data.values\n",
    "y = y_data.values"
   ]
  },
  {
   "cell_type": "markdown",
   "metadata": {},
   "source": [
    "The data splitted into train and test set, the train set is 80 percent of the data, and the test set is 20 percent. The data is stratified based on the label."
   ]
  },
  {
   "cell_type": "code",
   "execution_count": 8,
   "metadata": {},
   "outputs": [],
   "source": [
    "X_train_value, X_val_value, y_train_value, y_val_value = train_test_split(X, y, \n",
    "                                                                          test_size=0.4, \n",
    "                                                                          random_state=666, \n",
    "                                                                          stratify=y)"
   ]
  },
  {
   "cell_type": "markdown",
   "metadata": {},
   "source": [
    "Vocabulary was built based on the unique words from the train set."
   ]
  },
  {
   "cell_type": "code",
   "execution_count": 9,
   "metadata": {},
   "outputs": [],
   "source": [
    "tokenizer = Tokenizer(lower=False)\n",
    "tokenizer.fit_on_texts(X_train_value)"
   ]
  },
  {
   "cell_type": "code",
   "execution_count": 10,
   "metadata": {},
   "outputs": [],
   "source": [
    "vocab = tokenizer.word_index"
   ]
  },
  {
   "cell_type": "code",
   "execution_count": 11,
   "metadata": {},
   "outputs": [],
   "source": [
    "vocab_size = len(vocab)"
   ]
  },
  {
   "cell_type": "code",
   "execution_count": 12,
   "metadata": {},
   "outputs": [
    {
     "data": {
      "text/plain": [
       "159487"
      ]
     },
     "execution_count": 12,
     "metadata": {},
     "output_type": "execute_result"
    }
   ],
   "source": [
    "vocab_size"
   ]
  },
  {
   "cell_type": "markdown",
   "metadata": {},
   "source": [
    "Creating an empty weight matrix for words in document vocabulary, +1 because the word index dictionary value starting from 1"
   ]
  },
  {
   "cell_type": "code",
   "execution_count": 13,
   "metadata": {},
   "outputs": [],
   "source": [
    "embedding_matrix = np.zeros((vocab_size+1, 300))"
   ]
  },
  {
   "cell_type": "markdown",
   "metadata": {},
   "source": [
    "Fill in the embedding matrix"
   ]
  },
  {
   "cell_type": "code",
   "execution_count": 13,
   "metadata": {},
   "outputs": [],
   "source": [
    "vectors = KeyedVectors.load('vectors.kv')"
   ]
  },
  {
   "cell_type": "code",
   "execution_count": 14,
   "metadata": {},
   "outputs": [],
   "source": [
    "for word, i in tokenizer.word_index.items():\n",
    "    try:\n",
    "        embedding_vector = vectors[word]\n",
    "        embedding_matrix[i] = embedding_vector\n",
    "    except:\n",
    "        embedding_vector = vectors['UNK']\n",
    "        embedding_matrix[i] = embedding_vector"
   ]
  },
  {
   "cell_type": "code",
   "execution_count": null,
   "metadata": {},
   "outputs": [],
   "source": [
    "X_train = tokenizer.texts_to_sequences(X_train_value)\n",
    "X_val = tokenizer.texts_to_sequences(X_val_value)"
   ]
  },
  {
   "cell_type": "markdown",
   "metadata": {},
   "source": [
    "Sanity check"
   ]
  },
  {
   "cell_type": "code",
   "execution_count": null,
   "metadata": {},
   "outputs": [],
   "source": [
    "len(X_val_value[1].split())"
   ]
  },
  {
   "cell_type": "code",
   "execution_count": null,
   "metadata": {},
   "outputs": [],
   "source": [
    "X_val_value[7]"
   ]
  },
  {
   "cell_type": "code",
   "execution_count": null,
   "metadata": {},
   "outputs": [],
   "source": [
    "len(X_val[1])"
   ]
  },
  {
   "cell_type": "markdown",
   "metadata": {},
   "source": [
    "The sequences of words padded and limited to 200 sequences per instances."
   ]
  },
  {
   "cell_type": "code",
   "execution_count": null,
   "metadata": {},
   "outputs": [],
   "source": [
    "X_train = pad_sequences(X_train, maxlen=200, truncating='post', padding='post')\n",
    "X_val = pad_sequences(X_val, maxlen=200, truncating='post', padding='post')"
   ]
  },
  {
   "cell_type": "markdown",
   "metadata": {},
   "source": [
    "The label converted to one-hot encoding"
   ]
  },
  {
   "cell_type": "code",
   "execution_count": null,
   "metadata": {},
   "outputs": [],
   "source": [
    "enc = LabelEncoder()\n",
    "y_train_label = enc.fit_transform(y_train_value)\n",
    "y_val_label = enc.transform(y_val_value)"
   ]
  },
  {
   "cell_type": "code",
   "execution_count": null,
   "metadata": {},
   "outputs": [],
   "source": [
    "print(enc.classes_)\n",
    "print(np.unique(y_train_label, return_counts=True))\n",
    "print(np.unique(y_val_label, return_counts=True))"
   ]
  },
  {
   "cell_type": "code",
   "execution_count": null,
   "metadata": {},
   "outputs": [],
   "source": [
    "y_train = to_categorical(np.asarray(y_train_label))\n",
    "y_val = to_categorical(np.asarray(y_val_label))\n",
    "print('Shape of data tensor:', X_train.shape)\n",
    "print('Shape of label tensor:', y_train.shape)\n",
    "print('Shape of label tensor:', y_val.shape)"
   ]
  },
  {
   "cell_type": "markdown",
   "metadata": {},
   "source": [
    "Split the data further for validation and test"
   ]
  },
  {
   "cell_type": "code",
   "execution_count": null,
   "metadata": {},
   "outputs": [],
   "source": [
    "X_val, X_test, y_val, y_test = train_test_split(X_val, y_val, test_size=0.5, random_state=666, stratify=y_val)"
   ]
  },
  {
   "cell_type": "code",
   "execution_count": null,
   "metadata": {},
   "outputs": [],
   "source": [
    "print('training/validation/test')\n",
    "print(str(X_train.shape[0]) + '/' + str(X_val.shape[0]) + '/' + str(X_test.shape[0]))\n"
   ]
  },
  {
   "cell_type": "code",
   "execution_count": null,
   "metadata": {},
   "outputs": [],
   "source": [
    "y_test.shape"
   ]
  },
  {
   "cell_type": "code",
   "execution_count": 85,
   "metadata": {},
   "outputs": [
    {
     "name": "stdout",
     "output_type": "stream",
     "text": [
      "Epoch 1/50\n",
      "7175/7175 [==============================] - 2251s 314ms/step - loss: 0.9046 - acc: 0.6932 - val_loss: 0.5397 - val_acc: 0.8189\n",
      "Epoch 2/50\n",
      "7175/7175 [==============================] - 2133s 297ms/step - loss: 0.5215 - acc: 0.8248 - val_loss: 0.4964 - val_acc: 0.8298\n",
      "Epoch 3/50\n",
      "7175/7175 [==============================] - 2327s 324ms/step - loss: 0.4759 - acc: 0.8384 - val_loss: 0.4780 - val_acc: 0.8369\n",
      "Epoch 4/50\n",
      "7175/7175 [==============================] - 2350s 328ms/step - loss: 0.4448 - acc: 0.8485 - val_loss: 0.4709 - val_acc: 0.8398\n",
      "Epoch 5/50\n",
      "7175/7175 [==============================] - 2245s 313ms/step - loss: 0.4199 - acc: 0.8558 - val_loss: 0.4559 - val_acc: 0.8449\n",
      "Epoch 6/50\n",
      "7175/7175 [==============================] - 2137s 298ms/step - loss: 0.3979 - acc: 0.8638 - val_loss: 0.4521 - val_acc: 0.8468\n",
      "Epoch 7/50\n",
      "7175/7175 [==============================] - 2095s 292ms/step - loss: 0.3774 - acc: 0.8706 - val_loss: 0.4552 - val_acc: 0.8477\n",
      "Epoch 8/50\n",
      "7175/7175 [==============================] - 2600s 362ms/step - loss: 0.3588 - acc: 0.8770 - val_loss: 0.4561 - val_acc: 0.8485\n",
      "Epoch 9/50\n",
      "7175/7175 [==============================] - 2300s 321ms/step - loss: 0.3403 - acc: 0.8835 - val_loss: 0.4705 - val_acc: 0.8474\n",
      "Epoch 10/50\n",
      "7175/7175 [==============================] - 2125s 296ms/step - loss: 0.3228 - acc: 0.8902 - val_loss: 0.4755 - val_acc: 0.8481\n",
      "Epoch 11/50\n",
      "7175/7175 [==============================] - 2188s 305ms/step - loss: 0.3069 - acc: 0.8955 - val_loss: 0.4844 - val_acc: 0.8467\n"
     ]
    }
   ],
   "source": [
    "batch_size = 50\n",
    "history8 = rnn_w2v.fit(X_train, y_train, epochs=50, batch_size=batch_size, verbose=1,  \n",
    "                    validation_data=(X_val, y_val),callbacks =[earlystopping4])"
   ]
  },
  {
   "cell_type": "code",
   "execution_count": 91,
   "metadata": {},
   "outputs": [],
   "source": [
    "earlystopping5 = EarlyStopping(monitor=\"val_loss\",\n",
    "                              mode=\"min\", patience=5,\n",
    "                              restore_best_weights=True) "
   ]
  },
  {
   "cell_type": "code",
   "execution_count": 92,
   "metadata": {},
   "outputs": [],
   "source": [
    "#input_length=200\n",
    "cnn_w2v = Sequential()\n",
    "cnn_w2v.add(Embedding(input_dim=input_dim,\n",
    "                      output_dim=output_dim,\n",
    "                      weights=[embedding_matrix],\n",
    "                      input_length=input_length,\n",
    "                      trainable=False))\n",
    "cnn_w2v.add(Conv1D(128, 5, activation='relu'))\n",
    "cnn_w2v.add(Dropout(0.2))\n",
    "#cnn.add(MaxPool1D(5))\n",
    "cnn_w2v.add(Flatten())\n",
    "cnn_w2v.add(Dense(9,activation='softmax'))\n",
    "optimizer = Adam(lr=0.001)\n",
    "cnn_w2v.compile(loss='categorical_crossentropy',\n",
    "                  optimizer=optimizer,\n",
    "                  metrics=['acc'])"
   ]
  },
  {
   "cell_type": "code",
   "execution_count": 93,
   "metadata": {},
   "outputs": [
    {
     "name": "stdout",
     "output_type": "stream",
     "text": [
      "Model: \"sequential_9\"\n",
      "_________________________________________________________________\n",
      "Layer (type)                 Output Shape              Param #   \n",
      "=================================================================\n",
      "embedding_9 (Embedding)      (None, 200, 300)          47846400  \n",
      "_________________________________________________________________\n",
      "conv1d_7 (Conv1D)            (None, 196, 128)          192128    \n",
      "_________________________________________________________________\n",
      "dropout_9 (Dropout)          (None, 196, 128)          0         \n",
      "_________________________________________________________________\n",
      "flatten_3 (Flatten)          (None, 25088)             0         \n",
      "_________________________________________________________________\n",
      "dense_7 (Dense)              (None, 9)                 225801    \n",
      "=================================================================\n",
      "Total params: 48,264,329\n",
      "Trainable params: 417,929\n",
      "Non-trainable params: 47,846,400\n",
      "_________________________________________________________________\n"
     ]
    }
   ],
   "source": [
    "cnn_w2v.summary()"
   ]
  },
  {
   "cell_type": "code",
   "execution_count": 94,
   "metadata": {},
   "outputs": [
    {
     "name": "stdout",
     "output_type": "stream",
     "text": [
      "Epoch 1/50\n",
      "7175/7175 [==============================] - 941s 131ms/step - loss: 0.6715 - acc: 0.7846 - val_loss: 0.6089 - val_acc: 0.8118\n",
      "Epoch 2/50\n",
      "7175/7175 [==============================] - 929s 129ms/step - loss: 0.5635 - acc: 0.8185 - val_loss: 0.5842 - val_acc: 0.8147\n",
      "Epoch 3/50\n",
      "7175/7175 [==============================] - 886s 123ms/step - loss: 0.5100 - acc: 0.8343 - val_loss: 0.5947 - val_acc: 0.8150\n",
      "Epoch 4/50\n",
      "7175/7175 [==============================] - 862s 120ms/step - loss: 0.4655 - acc: 0.8472 - val_loss: 0.6178 - val_acc: 0.8133\n",
      "Epoch 5/50\n",
      "7175/7175 [==============================] - 847s 118ms/step - loss: 0.4272 - acc: 0.8589 - val_loss: 0.6342 - val_acc: 0.8100\n",
      "Epoch 6/50\n",
      "7175/7175 [==============================] - 853s 119ms/step - loss: 0.3957 - acc: 0.8681 - val_loss: 0.6762 - val_acc: 0.8102\n",
      "Epoch 7/50\n",
      "7175/7175 [==============================] - 859s 120ms/step - loss: 0.3702 - acc: 0.8757 - val_loss: 0.6950 - val_acc: 0.8074\n"
     ]
    }
   ],
   "source": [
    "batch_size = 50\n",
    "history9 = cnn_w2v.fit(X_train, y_train, epochs=50, batch_size=batch_size, verbose=1,  \n",
    "                    validation_data=(X_val, y_val),callbacks =[earlystopping5])"
   ]
  },
  {
   "cell_type": "code",
   "execution_count": 27,
   "metadata": {},
   "outputs": [],
   "source": [
    "earlystopping6 = EarlyStopping(monitor=\"val_loss\",\n",
    "                              mode=\"min\", patience=5,\n",
    "                              restore_best_weights=True) "
   ]
  },
  {
   "cell_type": "code",
   "execution_count": 28,
   "metadata": {},
   "outputs": [],
   "source": [
    "#input_length=200\n",
    "rnn_w2v2 = Sequential()\n",
    "rnn_w2v2.add(Embedding(input_dim=input_dim,\n",
    "                      output_dim=output_dim,\n",
    "                      weights=[embedding_matrix],\n",
    "                      input_length=input_length,\n",
    "                      trainable=True))\n",
    "rnn_w2v2.add(LSTM(128))\n",
    "rnn_w2v2.add(Dropout(0.2))\n",
    "rnn_w2v2.add(Dense(9,activation='softmax'))\n",
    "optimizer = Adam(lr=0.001)\n",
    "rnn_w2v2.compile(loss='categorical_crossentropy',\n",
    "                  optimizer=optimizer,\n",
    "                  metrics=['acc'])"
   ]
  },
  {
   "cell_type": "code",
   "execution_count": 29,
   "metadata": {},
   "outputs": [
    {
     "name": "stdout",
     "output_type": "stream",
     "text": [
      "Model: \"sequential\"\n",
      "_________________________________________________________________\n",
      "Layer (type)                 Output Shape              Param #   \n",
      "=================================================================\n",
      "embedding (Embedding)        (None, 200, 300)          47846400  \n",
      "_________________________________________________________________\n",
      "lstm (LSTM)                  (None, 128)               219648    \n",
      "_________________________________________________________________\n",
      "dropout (Dropout)            (None, 128)               0         \n",
      "_________________________________________________________________\n",
      "dense (Dense)                (None, 9)                 1161      \n",
      "=================================================================\n",
      "Total params: 48,067,209\n",
      "Trainable params: 48,067,209\n",
      "Non-trainable params: 0\n",
      "_________________________________________________________________\n"
     ]
    }
   ],
   "source": [
    "rnn_w2v2.summary()"
   ]
  },
  {
   "cell_type": "code",
   "execution_count": null,
   "metadata": {},
   "outputs": [
    {
     "name": "stdout",
     "output_type": "stream",
     "text": [
      "Epoch 1/50\n",
      "3289/7175 [============>.................] - ETA: 59:45 - loss: 1.1877 - acc: 0.5956"
     ]
    }
   ],
   "source": [
    "batch_size = 50\n",
    "history10 = rnn_w2v2.fit(X_train, y_train, epochs=50, batch_size=batch_size, verbose=1,  \n",
    "                    validation_data=(X_val, y_val),callbacks =[earlystopping6])"
   ]
  },
  {
   "cell_type": "code",
   "execution_count": 137,
   "metadata": {},
   "outputs": [
    {
     "name": "stdout",
     "output_type": "stream",
     "text": [
      "WARNING:tensorflow:Model was constructed with shape (None, 200) for input Tensor(\"embedding_8_input_1:0\", shape=(None, 200), dtype=float32), but it was called on an input with incompatible shape (None, 1).\n"
     ]
    }
   ],
   "source": [
    "xtest9 = loaded_model.predict(X_test[9])"
   ]
  },
  {
   "cell_type": "code",
   "execution_count": null,
   "metadata": {},
   "outputs": [],
   "source": []
  },
  {
   "cell_type": "code",
   "execution_count": 149,
   "metadata": {},
   "outputs": [
    {
     "data": {
      "text/plain": [
       "array([7, 7, 2, 1, 2, 4, 4, 2, 7, 5, 2, 3, 1, 1, 5, 3, 2, 5, 5, 7, 1, 4,\n",
       "       2, 7, 3, 2, 1, 3, 7, 3, 5, 3, 5, 2, 2, 3, 7, 7, 1, 7, 1, 5, 2, 3,\n",
       "       1, 1, 7, 3, 3, 0, 3, 3, 3, 3, 3, 3, 3, 3, 3, 3, 3, 3, 3, 3, 3, 3,\n",
       "       3, 3, 3, 3, 3, 3, 3, 3, 3, 3, 3, 3, 3, 3, 3, 3, 3, 3, 3, 3, 3, 3,\n",
       "       3, 3, 3, 3, 3, 3, 3, 3, 3, 3, 3, 3, 3, 3, 3, 3, 3, 3, 3, 3, 3, 3,\n",
       "       3, 3, 3, 3, 3, 3, 3, 3, 3, 3, 3, 3, 3, 3, 3, 3, 3, 3, 3, 3, 3, 3,\n",
       "       3, 3, 3, 3, 3, 3, 3, 3, 3, 3, 3, 3, 3, 3, 3, 3, 3, 3, 3, 3, 3, 3,\n",
       "       3, 3, 3, 3, 3, 3, 3, 3, 3, 3, 3, 3, 3, 3, 3, 3, 3, 3, 3, 3, 3, 3,\n",
       "       3, 3, 3, 3, 3, 3, 3, 3, 3, 3, 3, 3, 3, 3, 3, 3, 3, 3, 3, 3, 3, 3,\n",
       "       3, 3], dtype=int64)"
      ]
     },
     "execution_count": 149,
     "metadata": {},
     "output_type": "execute_result"
    }
   ],
   "source": [
    "np.argmax(loaded_model.predict(X_test[9]), axis=-1)"
   ]
  },
  {
   "cell_type": "code",
   "execution_count": 136,
   "metadata": {},
   "outputs": [
    {
     "name": "stdout",
     "output_type": "stream",
     "text": [
      "Accuracy 0.8471252352080284\n",
      "                                                      precision    recall  f1-score   support\n",
      "\n",
      "                                     Debt collection       0.79      0.77      0.78      5172\n",
      "Credit or consumer reporting, credit repair services       0.81      0.81      0.81     12941\n",
      "         Money transfer or service, virtual currency       0.89      0.91      0.90     48487\n",
      "                                            Mortgage       0.83      0.82      0.83     24883\n",
      "                               Vehicle loan or lease       0.75      0.76      0.75      2563\n",
      "                                        Student loan       0.91      0.93      0.92     14084\n",
      "                         Credit card or prepaid card       0.63      0.44      0.52      3873\n",
      "                         Checking or savings account       0.80      0.85      0.83      5407\n",
      "                                       Personal loan       0.57      0.53      0.55      2165\n",
      "\n",
      "                                            accuracy                           0.85    119575\n",
      "                                           macro avg       0.78      0.76      0.76    119575\n",
      "                                        weighted avg       0.84      0.85      0.85    119575\n",
      "\n"
     ]
    }
   ],
   "source": [
    "pred_model = np.argmax(loaded_model.predict(X_test), axis=-1)\n",
    "print(\"Accuracy %s\" % accuracy_score(pred_model, np.argmax(y_test, axis=-1)))\n",
    "print(classification_report(np.argmax(y_test, axis=-1),pred_model, target_names=df['Product'].unique()))"
   ]
  },
  {
   "cell_type": "code",
   "execution_count": 68,
   "metadata": {},
   "outputs": [],
   "source": [
    "vectors = KeyedVectors.load('vectors.kv')"
   ]
  },
  {
   "cell_type": "code",
   "execution_count": null,
   "metadata": {},
   "outputs": [],
   "source": [
    "embedding_dim = 300 # Kim uses 300 here\n",
    "num_filters = 100\n",
    "\n",
    "inputs = Input(shape=(sequence_length,), dtype='int32')\n",
    "\n",
    "# note the `trainable=False`, later we will make this layer trainable\n",
    "embedding_layer = Embedding(num_words,\n",
    "                            embedding_dim,\n",
    "                            embeddings_initializer=Constant(embedding_matrix),\n",
    "                            input_length=sequence_length,\n",
    "                            trainable=False)(inputs)\n",
    "\n",
    "reshape = Reshape((sequence_length, embedding_dim, 1))(embedding_layer)\n",
    "\n",
    "# Note the relu activation which Kim specifically mentions\n",
    "# He also uses an l2 constraint of 3\n",
    "# Also, note that the convolution window acts on the whole 200 dimensions - that's important\n",
    "conv_0 = Conv2D(num_filters, kernel_size=(3, embedding_dim), activation='relu', kernel_regularizer=regularizers.l2(3))(reshape)\n",
    "conv_1 = Conv2D(num_filters, kernel_size=(4, embedding_dim), activation='relu', kernel_regularizer=regularizers.l2(3))(reshape)\n",
    "conv_2 = Conv2D(num_filters, kernel_size=(5, embedding_dim), activation='relu', kernel_regularizer=regularizers.l2(3))(reshape)\n",
    "\n",
    "# perform max pooling on each of the convoluations\n",
    "maxpool_0 = MaxPool2D(pool_size=(sequence_length - 3 + 1, 1), strides=(1,1), padding='valid')(conv_0)\n",
    "maxpool_1 = MaxPool2D(pool_size=(sequence_length - 4 + 1, 1), strides=(1,1), padding='valid')(conv_1)\n",
    "maxpool_2 = MaxPool2D(pool_size=(sequence_length - 5 + 1, 1), strides=(1,1), padding='valid')(conv_2)\n",
    "\n",
    "# concat and flatten\n",
    "concatenated_tensor = Concatenate(axis=1)([maxpool_0, maxpool_1, maxpool_2])\n",
    "flatten = Flatten()(concatenated_tensor)\n",
    "\n",
    "# do dropout and predict\n",
    "dropout = Dropout(0.5)(flatten)\n",
    "output = Dense(units=9, activation='softmax')(dropout)"
   ]
  },
  {
   "cell_type": "code",
   "execution_count": 102,
   "metadata": {},
   "outputs": [],
   "source": [
    "embedding_dim = 300 # Kim uses 300 here\n",
    "num_filters = 100\n",
    "\n",
    "inputs = Input(shape=(sequence_length,), dtype='int32')\n",
    "\n",
    "# note the `trainable=False`, later we will make this layer trainable\n",
    "embedding_layer = Embedding(num_words,\n",
    "                            embedding_dim,\n",
    "                            embeddings_initializer=Constant(embedding_matrix),\n",
    "                            input_length=sequence_length,\n",
    "                            trainable=False)(inputs)\n",
    "\n",
    "reshape = Reshape((sequence_length, embedding_dim, 1))(embedding_layer)\n",
    "\n",
    "# Note the relu activation which Kim specifically mentions\n",
    "# He also uses an l2 constraint of 3\n",
    "# Also, note that the convolution window acts on the whole 200 dimensions - that's important\n",
    "conv_0 = Conv2D(num_filters, kernel_size=(3, embedding_dim), activation='relu', kernel_regularizer=regularizers.l2(3))(reshape)\n",
    "conv_1 = Conv2D(num_filters, kernel_size=(4, embedding_dim), activation='relu', kernel_regularizer=regularizers.l2(3))(reshape)\n",
    "conv_2 = Conv2D(num_filters, kernel_size=(5, embedding_dim), activation='relu', kernel_regularizer=regularizers.l2(3))(reshape)\n",
    "\n",
    "# perform max pooling on each of the convoluations\n",
    "maxpool_0 = MaxPool2D(pool_size=(sequence_length - 3 + 1, 1), strides=(1,1), padding='valid')(conv_0)\n",
    "maxpool_1 = MaxPool2D(pool_size=(sequence_length - 4 + 1, 1), strides=(1,1), padding='valid')(conv_1)\n",
    "maxpool_2 = MaxPool2D(pool_size=(sequence_length - 5 + 1, 1), strides=(1,1), padding='valid')(conv_2)\n",
    "\n",
    "# concat and flatten\n",
    "concatenated_tensor = Concatenate(axis=1)([maxpool_0, maxpool_1, maxpool_2])\n",
    "flatten = Flatten()(concatenated_tensor)\n",
    "\n",
    "# do dropout and predict\n",
    "dropout = Dropout(0.5)(flatten)\n",
    "output = Dense(units=9, activation='softmax')(dropout)"
   ]
  },
  {
   "cell_type": "code",
   "execution_count": 84,
   "metadata": {},
   "outputs": [],
   "source": [
    "from keras import Model"
   ]
  },
  {
   "cell_type": "code",
   "execution_count": 103,
   "metadata": {},
   "outputs": [
    {
     "name": "stdout",
     "output_type": "stream",
     "text": [
      "Model: \"functional_9\"\n",
      "__________________________________________________________________________________________________\n",
      "Layer (type)                    Output Shape         Param #     Connected to                     \n",
      "==================================================================================================\n",
      "input_13 (InputLayer)           [(None, 250)]        0                                            \n",
      "__________________________________________________________________________________________________\n",
      "embedding_9 (Embedding)         (None, 250, 300)     41523900    input_13[0][0]                   \n",
      "__________________________________________________________________________________________________\n",
      "reshape_8 (Reshape)             (None, 250, 300, 1)  0           embedding_9[0][0]                \n",
      "__________________________________________________________________________________________________\n",
      "conv2d_21 (Conv2D)              (None, 248, 1, 100)  90100       reshape_8[0][0]                  \n",
      "__________________________________________________________________________________________________\n",
      "conv2d_22 (Conv2D)              (None, 247, 1, 100)  120100      reshape_8[0][0]                  \n",
      "__________________________________________________________________________________________________\n",
      "conv2d_23 (Conv2D)              (None, 246, 1, 100)  150100      reshape_8[0][0]                  \n",
      "__________________________________________________________________________________________________\n",
      "max_pooling2d_18 (MaxPooling2D) (None, 1, 1, 100)    0           conv2d_21[0][0]                  \n",
      "__________________________________________________________________________________________________\n",
      "max_pooling2d_19 (MaxPooling2D) (None, 1, 1, 100)    0           conv2d_22[0][0]                  \n",
      "__________________________________________________________________________________________________\n",
      "max_pooling2d_20 (MaxPooling2D) (None, 1, 1, 100)    0           conv2d_23[0][0]                  \n",
      "__________________________________________________________________________________________________\n",
      "concatenate_5 (Concatenate)     (None, 3, 1, 100)    0           max_pooling2d_18[0][0]           \n",
      "                                                                 max_pooling2d_19[0][0]           \n",
      "                                                                 max_pooling2d_20[0][0]           \n",
      "__________________________________________________________________________________________________\n",
      "flatten_4 (Flatten)             (None, 300)          0           concatenate_5[0][0]              \n",
      "__________________________________________________________________________________________________\n",
      "dropout_4 (Dropout)             (None, 300)          0           flatten_4[0][0]                  \n",
      "__________________________________________________________________________________________________\n",
      "dense_4 (Dense)                 (None, 9)            2709        dropout_4[0][0]                  \n",
      "==================================================================================================\n",
      "Total params: 41,886,909\n",
      "Trainable params: 363,009\n",
      "Non-trainable params: 41,523,900\n",
      "__________________________________________________________________________________________________\n",
      "None\n"
     ]
    }
   ],
   "source": [
    "model = Model(inputs=inputs, outputs=output)\n",
    "model.compile(loss='categorical_crossentropy', optimizer='adam', metrics=['accuracy'])\n",
    "print(model.summary())"
   ]
  },
  {
   "cell_type": "code",
   "execution_count": 104,
   "metadata": {},
   "outputs": [
    {
     "name": "stdout",
     "output_type": "stream",
     "text": [
      "Epoch 1/30\n",
      "319/319 [==============================] - 2811s 9s/step - loss: 1.9512 - accuracy: 0.4066 - val_loss: 1.6639 - val_accuracy: 0.4116\n",
      "Epoch 2/30\n",
      "319/319 [==============================] - 2870s 9s/step - loss: 1.6250 - accuracy: 0.4834 - val_loss: 1.5712 - val_accuracy: 0.5504\n",
      "Epoch 3/30\n",
      "319/319 [==============================] - 2851s 9s/step - loss: 1.5473 - accuracy: 0.5485 - val_loss: 1.4934 - val_accuracy: 0.5843\n",
      "Epoch 4/30\n",
      "319/319 [==============================] - 2655s 8s/step - loss: 1.4971 - accuracy: 0.5758 - val_loss: 1.4570 - val_accuracy: 0.5812\n",
      "Epoch 5/30\n",
      "319/319 [==============================] - 2652s 8s/step - loss: 1.4585 - accuracy: 0.5898 - val_loss: 1.4409 - val_accuracy: 0.5831\n",
      "Epoch 6/30\n",
      "319/319 [==============================] - 2639s 8s/step - loss: 1.4398 - accuracy: 0.5978 - val_loss: 1.3768 - val_accuracy: 0.6260\n",
      "Epoch 7/30\n",
      "319/319 [==============================] - 2633s 8s/step - loss: 1.4074 - accuracy: 0.6047 - val_loss: 1.3562 - val_accuracy: 0.6159\n",
      "Epoch 8/30\n",
      "319/319 [==============================] - 2584s 8s/step - loss: 1.3966 - accuracy: 0.6095 - val_loss: 1.3265 - val_accuracy: 0.6365\n",
      "Epoch 9/30\n",
      "319/319 [==============================] - 2619s 8s/step - loss: 1.3759 - accuracy: 0.6154 - val_loss: 1.3334 - val_accuracy: 0.6190\n",
      "Epoch 10/30\n",
      "319/319 [==============================] - 2630s 8s/step - loss: 1.3580 - accuracy: 0.6227 - val_loss: 1.2848 - val_accuracy: 0.6508\n",
      "Epoch 11/30\n",
      "319/319 [==============================] - 2641s 8s/step - loss: 1.3485 - accuracy: 0.6276 - val_loss: 1.3101 - val_accuracy: 0.6672\n",
      "Epoch 12/30\n",
      "319/319 [==============================] - 2627s 8s/step - loss: 1.3334 - accuracy: 0.6337 - val_loss: 1.2741 - val_accuracy: 0.6543\n",
      "Epoch 13/30\n",
      "319/319 [==============================] - 2599s 8s/step - loss: 1.3265 - accuracy: 0.6376 - val_loss: 1.2876 - val_accuracy: 0.6691\n",
      "Epoch 14/30\n",
      "319/319 [==============================] - 2491s 8s/step - loss: 1.3176 - accuracy: 0.6425 - val_loss: 1.2754 - val_accuracy: 0.6643\n",
      "Epoch 15/30\n",
      "319/319 [==============================] - 2463s 8s/step - loss: 1.3036 - accuracy: 0.6470 - val_loss: 1.2420 - val_accuracy: 0.6550\n",
      "Epoch 16/30\n",
      "319/319 [==============================] - 2566s 8s/step - loss: 1.2929 - accuracy: 0.6498 - val_loss: 1.2308 - val_accuracy: 0.6598\n",
      "Epoch 17/30\n",
      "319/319 [==============================] - 2645s 8s/step - loss: 1.2909 - accuracy: 0.6515 - val_loss: 1.2289 - val_accuracy: 0.6666\n",
      "Epoch 18/30\n",
      "319/319 [==============================] - 2640s 8s/step - loss: 1.2921 - accuracy: 0.6533 - val_loss: 1.2297 - val_accuracy: 0.6857\n",
      "Epoch 19/30\n",
      "319/319 [==============================] - 2650s 8s/step - loss: 1.2729 - accuracy: 0.6577 - val_loss: 1.1922 - val_accuracy: 0.6999\n",
      "Epoch 20/30\n",
      "319/319 [==============================] - 2644s 8s/step - loss: 1.2735 - accuracy: 0.6582 - val_loss: 1.1796 - val_accuracy: 0.6930\n",
      "Epoch 21/30\n",
      "319/319 [==============================] - 2623s 8s/step - loss: 1.2620 - accuracy: 0.6609 - val_loss: 1.2170 - val_accuracy: 0.7037\n",
      "Epoch 22/30\n",
      "319/319 [==============================] - 2619s 8s/step - loss: 1.2694 - accuracy: 0.6603 - val_loss: 1.1717 - val_accuracy: 0.7015\n",
      "Epoch 23/30\n",
      "319/319 [==============================] - 2674s 8s/step - loss: 1.2546 - accuracy: 0.6626 - val_loss: 1.1824 - val_accuracy: 0.6979\n",
      "Epoch 24/30\n",
      "319/319 [==============================] - 2697s 8s/step - loss: 1.2520 - accuracy: 0.6634 - val_loss: 1.1736 - val_accuracy: 0.6955\n",
      "Epoch 25/30\n",
      "319/319 [==============================] - 2655s 8s/step - loss: 1.2475 - accuracy: 0.6642 - val_loss: 1.1830 - val_accuracy: 0.6993\n",
      "Epoch 26/30\n",
      "319/319 [==============================] - 2803s 9s/step - loss: 1.2442 - accuracy: 0.6640 - val_loss: 1.1892 - val_accuracy: 0.6981\n",
      "Epoch 27/30\n",
      "319/319 [==============================] - 2905s 9s/step - loss: 1.2388 - accuracy: 0.6670 - val_loss: 1.1414 - val_accuracy: 0.6966\n",
      "Epoch 28/30\n",
      "319/319 [==============================] - 2957s 9s/step - loss: 1.2347 - accuracy: 0.6673 - val_loss: 1.1635 - val_accuracy: 0.6919\n",
      "Epoch 29/30\n",
      "319/319 [==============================] - 2852s 9s/step - loss: 1.2360 - accuracy: 0.6695 - val_loss: 1.1988 - val_accuracy: 0.7076\n",
      "Epoch 30/30\n",
      "319/319 [==============================] - 2876s 9s/step - loss: 1.2356 - accuracy: 0.6687 - val_loss: 1.1806 - val_accuracy: 0.7037\n"
     ]
    }
   ],
   "source": [
    "batch_size = 1500 # Kim uses 50 here, I have a slightly smaller sample size than num\n",
    "history = model.fit(x_tr_seq, y_train, epochs=30, batch_size=batch_size, verbose=1,  \n",
    "                    validation_data=(x_val_seq, y_val))"
   ]
  },
  {
   "cell_type": "code",
   "execution_count": 115,
   "metadata": {},
   "outputs": [],
   "source": [
    "def save_hist(hist, json_name, csv_name):\n",
    "    # convert the history.history dict to a pandas DataFrame:     \n",
    "    hist_df = pd.DataFrame(hist.history) \n",
    "\n",
    "    # save to json:  \n",
    "    hist_json_file = json_name  \n",
    "    with open(hist_json_file, mode='w') as f:\n",
    "        hist_df.to_json(f)\n",
    "\n",
    "    # or save to csv: \n",
    "    hist_csv_file = csv_name \n",
    "    with open(hist_csv_file, mode='w') as f:\n",
    "        hist_df.to_csv(f)"
   ]
  },
  {
   "cell_type": "code",
   "execution_count": 117,
   "metadata": {},
   "outputs": [],
   "source": [
    "save_hist(history9, 'history9.json', 'history9.csv')"
   ]
  },
  {
   "cell_type": "code",
   "execution_count": 123,
   "metadata": {},
   "outputs": [],
   "source": [
    "# load json and create model\n",
    "import json\n",
    "history_dict = json.load(open('history9.json', 'r'))\n"
   ]
  },
  {
   "cell_type": "code",
   "execution_count": 124,
   "metadata": {},
   "outputs": [
    {
     "data": {
      "text/plain": [
       "{'loss': {'0': 0.6714661121,\n",
       "  '1': 0.5635042191,\n",
       "  '2': 0.5100016594,\n",
       "  '3': 0.4654912651,\n",
       "  '4': 0.4271643758,\n",
       "  '5': 0.3957315683,\n",
       "  '6': 0.3702034354},\n",
       " 'acc': {'0': 0.7846115828,\n",
       "  '1': 0.8185178638,\n",
       "  '2': 0.8342625499,\n",
       "  '3': 0.8472446799,\n",
       "  '4': 0.858869195,\n",
       "  '5': 0.8681074977,\n",
       "  '6': 0.8757261634},\n",
       " 'val_loss': {'0': 0.6088611484,\n",
       "  '1': 0.584184885,\n",
       "  '2': 0.5947144628,\n",
       "  '3': 0.6178187728,\n",
       "  '4': 0.6341908574,\n",
       "  '5': 0.6762247682,\n",
       "  '6': 0.6949911118},\n",
       " 'val_acc': {'0': 0.8117583394,\n",
       "  '1': 0.8147187829,\n",
       "  '2': 0.8149780631,\n",
       "  '3': 0.8132552505,\n",
       "  '4': 0.8100020885,\n",
       "  '5': 0.8101526499,\n",
       "  '6': 0.8073677421}}"
      ]
     },
     "execution_count": 124,
     "metadata": {},
     "output_type": "execute_result"
    }
   ],
   "source": [
    "history_dict"
   ]
  },
  {
   "cell_type": "code",
   "execution_count": 119,
   "metadata": {},
   "outputs": [
    {
     "data": {
      "text/html": [
       "<div>\n",
       "<style scoped>\n",
       "    .dataframe tbody tr th:only-of-type {\n",
       "        vertical-align: middle;\n",
       "    }\n",
       "\n",
       "    .dataframe tbody tr th {\n",
       "        vertical-align: top;\n",
       "    }\n",
       "\n",
       "    .dataframe thead th {\n",
       "        text-align: right;\n",
       "    }\n",
       "</style>\n",
       "<table border=\"1\" class=\"dataframe\">\n",
       "  <thead>\n",
       "    <tr style=\"text-align: right;\">\n",
       "      <th></th>\n",
       "      <th>Unnamed: 0</th>\n",
       "      <th>loss</th>\n",
       "      <th>acc</th>\n",
       "      <th>val_loss</th>\n",
       "      <th>val_acc</th>\n",
       "    </tr>\n",
       "  </thead>\n",
       "  <tbody>\n",
       "    <tr>\n",
       "      <th>0</th>\n",
       "      <td>0</td>\n",
       "      <td>0.671466</td>\n",
       "      <td>0.784612</td>\n",
       "      <td>0.608861</td>\n",
       "      <td>0.811758</td>\n",
       "    </tr>\n",
       "    <tr>\n",
       "      <th>1</th>\n",
       "      <td>1</td>\n",
       "      <td>0.563504</td>\n",
       "      <td>0.818518</td>\n",
       "      <td>0.584185</td>\n",
       "      <td>0.814719</td>\n",
       "    </tr>\n",
       "    <tr>\n",
       "      <th>2</th>\n",
       "      <td>2</td>\n",
       "      <td>0.510002</td>\n",
       "      <td>0.834263</td>\n",
       "      <td>0.594714</td>\n",
       "      <td>0.814978</td>\n",
       "    </tr>\n",
       "    <tr>\n",
       "      <th>3</th>\n",
       "      <td>3</td>\n",
       "      <td>0.465491</td>\n",
       "      <td>0.847245</td>\n",
       "      <td>0.617819</td>\n",
       "      <td>0.813255</td>\n",
       "    </tr>\n",
       "    <tr>\n",
       "      <th>4</th>\n",
       "      <td>4</td>\n",
       "      <td>0.427164</td>\n",
       "      <td>0.858869</td>\n",
       "      <td>0.634191</td>\n",
       "      <td>0.810002</td>\n",
       "    </tr>\n",
       "    <tr>\n",
       "      <th>5</th>\n",
       "      <td>5</td>\n",
       "      <td>0.395732</td>\n",
       "      <td>0.868107</td>\n",
       "      <td>0.676225</td>\n",
       "      <td>0.810153</td>\n",
       "    </tr>\n",
       "    <tr>\n",
       "      <th>6</th>\n",
       "      <td>6</td>\n",
       "      <td>0.370203</td>\n",
       "      <td>0.875726</td>\n",
       "      <td>0.694991</td>\n",
       "      <td>0.807368</td>\n",
       "    </tr>\n",
       "  </tbody>\n",
       "</table>\n",
       "</div>"
      ],
      "text/plain": [
       "   Unnamed: 0      loss       acc  val_loss   val_acc\n",
       "0           0  0.671466  0.784612  0.608861  0.811758\n",
       "1           1  0.563504  0.818518  0.584185  0.814719\n",
       "2           2  0.510002  0.834263  0.594714  0.814978\n",
       "3           3  0.465491  0.847245  0.617819  0.813255\n",
       "4           4  0.427164  0.858869  0.634191  0.810002\n",
       "5           5  0.395732  0.868107  0.676225  0.810153\n",
       "6           6  0.370203  0.875726  0.694991  0.807368"
      ]
     },
     "execution_count": 119,
     "metadata": {},
     "output_type": "execute_result"
    }
   ],
   "source": [
    "open_hist"
   ]
  },
  {
   "cell_type": "code",
   "execution_count": 96,
   "metadata": {},
   "outputs": [],
   "source": [
    "with open('trainHistoryDict_model_4_cnn_w2v', 'wb') as file_pi:\n",
    "        pickle.dump(history9.history, file_pi)"
   ]
  },
  {
   "cell_type": "code",
   "execution_count": 133,
   "metadata": {},
   "outputs": [],
   "source": [
    "history = pickle.load(open('trainHistoryDict_model_3_rnn_w2v', \"rb\"))"
   ]
  },
  {
   "cell_type": "code",
   "execution_count": 128,
   "metadata": {},
   "outputs": [
    {
     "data": {
      "text/plain": [
       "{'loss': [0.6714661121368408,\n",
       "  0.5635042190551758,\n",
       "  0.5100016593933105,\n",
       "  0.46549126505851746,\n",
       "  0.42716437578201294,\n",
       "  0.3957315683364868,\n",
       "  0.37020343542099],\n",
       " 'acc': [0.7846115827560425,\n",
       "  0.8185178637504578,\n",
       "  0.8342625498771667,\n",
       "  0.8472446799278259,\n",
       "  0.858869194984436,\n",
       "  0.8681074976921082,\n",
       "  0.8757261633872986],\n",
       " 'val_loss': [0.6088611483573914,\n",
       "  0.5841848850250244,\n",
       "  0.5947144627571106,\n",
       "  0.6178187727928162,\n",
       "  0.6341908574104309,\n",
       "  0.6762247681617737,\n",
       "  0.6949911117553711],\n",
       " 'val_acc': [0.8117583394050598,\n",
       "  0.8147187829017639,\n",
       "  0.8149780631065369,\n",
       "  0.813255250453949,\n",
       "  0.8100020885467529,\n",
       "  0.8101526498794556,\n",
       "  0.807367742061615]}"
      ]
     },
     "execution_count": 128,
     "metadata": {},
     "output_type": "execute_result"
    }
   ],
   "source": [
    "history"
   ]
  },
  {
   "cell_type": "code",
   "execution_count": 97,
   "metadata": {},
   "outputs": [
    {
     "name": "stdout",
     "output_type": "stream",
     "text": [
      "Saved model to disk\n"
     ]
    }
   ],
   "source": [
    "# serialize model to JSON\n",
    "model_4_cnn_w2v = cnn_w2v.to_json()\n",
    "with open(\"model_4_cnn_w2v.json\", \"w\") as json_file:\n",
    "    json_file.write(model_4_cnn_w2v)\n",
    "# serialize weights to HDF5\n",
    "cnn_w2v.save_weights(\"model_4_cnn_w2v.h5\")\n",
    "print(\"model saved\")"
   ]
  },
  {
   "cell_type": "code",
   "execution_count": 1,
   "metadata": {},
   "outputs": [],
   "source": [
    "from keras.models import model_from_json\n",
    "\n",
    "def evaluate_model(model_json, weight_h5):\n",
    "    json_file = open(model_json, 'r')\n",
    "    loaded_model_json = json_file.read()\n",
    "    json_file.close()\n",
    "    loaded_model = model_from_json(loaded_model_json)\n",
    "    # load weights into new model\n",
    "    loaded_model.load_weights(weight_h5)\n",
    "    print(\"Model loaded\")\n",
    "\n",
    "    # evaluate loaded model on test data\n",
    "    loaded_model.compile(loss='categorical_crossentropy', optimizer='adam', metrics=['accuracy'])\n",
    "    score = loaded_model.evaluate(X_test, y_test, verbose=1)\n",
    "    print(\"%s: %.2f%%\" % (loaded_model.metrics_names[1], score[1]*100))\n",
    "    \n",
    "    return score[1]*100\n"
   ]
  },
  {
   "cell_type": "code",
   "execution_count": 28,
   "metadata": {},
   "outputs": [
    {
     "name": "stdout",
     "output_type": "stream",
     "text": [
      "Model loaded\n",
      "3737/3737 [==============================] - 253s 68ms/step - loss: 0.4407 - accuracy: 0.8487\n",
      "accuracy: 84.87%\n",
      "Model loaded\n",
      "3737/3737 [==============================] - 100s 27ms/step - loss: 0.5294 - accuracy: 0.8312\n",
      "accuracy: 83.12%\n",
      "Model loaded\n",
      "3737/3737 [==============================] - 345s 92ms/step - loss: 0.4516 - accuracy: 0.8471\n",
      "accuracy: 84.71%\n",
      "Model loaded\n",
      "3737/3737 [==============================] - ETA: 0s - loss: 0.5849 - accuracy: 0.81 - 108s 29ms/step - loss: 0.5850 - accuracy: 0.8138\n",
      "accuracy: 81.38%\n"
     ]
    }
   ],
   "source": [
    "lstm = evaluate_model('model_1_rnn.json', 'model_1_rnn.h5')\n",
    "cnn = evaluate_model('model_2_cnn.json', 'model_2_cnn.h5')\n",
    "lstm_w2v = evaluate_model('model_3_rnn_w2v.json', 'model_3_rnn_w2v.h5')\n",
    "cnn_w2v = evaluate_model('model_4_cnn_w2v.json', 'model_4_cnn_w2v.h5')"
   ]
  },
  {
   "cell_type": "code",
   "execution_count": 29,
   "metadata": {},
   "outputs": [
    {
     "name": "stdout",
     "output_type": "stream",
     "text": [
      "\\begin{tabular}{ll}\n",
      "\\toprule\n",
      "         Model & Accuracy \\\\\n",
      "\\midrule\n",
      "          LSTM &    84.87 \\\\\n",
      " LSTM Word2Vec &    84.71 \\\\\n",
      "           CNN &    83.12 \\\\\n",
      "  CNN Word2Vec &    81.38 \\\\\n",
      "\\bottomrule\n",
      "\\end{tabular}\n",
      "\n"
     ]
    }
   ],
   "source": [
    "results = pd.DataFrame({'Model': ['LSTM', 'LSTM Word2Vec', 'CNN', 'CNN Word2Vec' ],\n",
    "                   'Accuracy': [str(round(lstm,2)), str(round(lstm_w2v,2)), \n",
    "                                str(round(cnn,2)), str(round(cnn_w2v,2))],\n",
    "                   })\n",
    "print(results.to_latex(index=False)) "
   ]
  },
  {
   "cell_type": "code",
   "execution_count": 162,
   "metadata": {},
   "outputs": [
    {
     "data": {
      "text/plain": [
       "array([2, 2, 2, ..., 3, 1, 6], dtype=int64)"
      ]
     },
     "execution_count": 162,
     "metadata": {},
     "output_type": "execute_result"
    }
   ],
   "source": [
    "np.argmax(y_test, axis=-1)"
   ]
  },
  {
   "cell_type": "code",
   "execution_count": 244,
   "metadata": {},
   "outputs": [],
   "source": [
    "def df_classification_report(pred_model, classifier):\n",
    "    report = classification_report(np.argmax(y_test, axis=-1),pred_model, \n",
    "                                   target_names=df['Product'].unique(), output_dict=True)\n",
    "    report = pd.DataFrame(report).transpose()\n",
    "    report['classifier'] = classifier\n",
    "    report.reset_index(inplace=True)\n",
    "    report = report.rename(columns = {'index':'categories'})\n",
    "    return report"
   ]
  },
  {
   "cell_type": "code",
   "execution_count": 245,
   "metadata": {},
   "outputs": [],
   "source": [
    "lstm_report = df_classification_report(lstm_pred, 'LSTM')\n",
    "lstm_w2v_report = df_classification_report(lstm_w2v_pred, 'LSTM W2V')\n",
    "cnn_report = df_classification_report(cnn_pred, 'CNN')\n",
    "cnn_w2v_report = df_classification_report(cnn_w2v_pred, 'CNN W2V')"
   ]
  },
  {
   "cell_type": "code",
   "execution_count": 249,
   "metadata": {},
   "outputs": [
    {
     "data": {
      "text/html": [
       "<div>\n",
       "<style scoped>\n",
       "    .dataframe tbody tr th:only-of-type {\n",
       "        vertical-align: middle;\n",
       "    }\n",
       "\n",
       "    .dataframe tbody tr th {\n",
       "        vertical-align: top;\n",
       "    }\n",
       "\n",
       "    .dataframe thead th {\n",
       "        text-align: right;\n",
       "    }\n",
       "</style>\n",
       "<table border=\"1\" class=\"dataframe\">\n",
       "  <thead>\n",
       "    <tr style=\"text-align: right;\">\n",
       "      <th></th>\n",
       "      <th>categories</th>\n",
       "      <th>precision</th>\n",
       "      <th>recall</th>\n",
       "      <th>f1-score</th>\n",
       "      <th>support</th>\n",
       "      <th>classifier</th>\n",
       "    </tr>\n",
       "  </thead>\n",
       "  <tbody>\n",
       "    <tr>\n",
       "      <th>0</th>\n",
       "      <td>Debt collection</td>\n",
       "      <td>0.759079</td>\n",
       "      <td>0.816319</td>\n",
       "      <td>0.786659</td>\n",
       "      <td>5172.000000</td>\n",
       "      <td>LSTM</td>\n",
       "    </tr>\n",
       "    <tr>\n",
       "      <th>1</th>\n",
       "      <td>Credit or consumer reporting, credit repair se...</td>\n",
       "      <td>0.811710</td>\n",
       "      <td>0.823816</td>\n",
       "      <td>0.817718</td>\n",
       "      <td>12941.000000</td>\n",
       "      <td>LSTM</td>\n",
       "    </tr>\n",
       "    <tr>\n",
       "      <th>2</th>\n",
       "      <td>Money transfer or service, virtual currency</td>\n",
       "      <td>0.895154</td>\n",
       "      <td>0.892920</td>\n",
       "      <td>0.894035</td>\n",
       "      <td>48487.000000</td>\n",
       "      <td>LSTM</td>\n",
       "    </tr>\n",
       "    <tr>\n",
       "      <th>3</th>\n",
       "      <td>Mortgage</td>\n",
       "      <td>0.819396</td>\n",
       "      <td>0.841096</td>\n",
       "      <td>0.830104</td>\n",
       "      <td>24883.000000</td>\n",
       "      <td>LSTM</td>\n",
       "    </tr>\n",
       "    <tr>\n",
       "      <th>4</th>\n",
       "      <td>Vehicle loan or lease</td>\n",
       "      <td>0.834035</td>\n",
       "      <td>0.696059</td>\n",
       "      <td>0.758826</td>\n",
       "      <td>2563.000000</td>\n",
       "      <td>LSTM</td>\n",
       "    </tr>\n",
       "    <tr>\n",
       "      <th>5</th>\n",
       "      <td>Student loan</td>\n",
       "      <td>0.920728</td>\n",
       "      <td>0.922820</td>\n",
       "      <td>0.921773</td>\n",
       "      <td>14084.000000</td>\n",
       "      <td>LSTM</td>\n",
       "    </tr>\n",
       "    <tr>\n",
       "      <th>6</th>\n",
       "      <td>Credit card or prepaid card</td>\n",
       "      <td>0.541820</td>\n",
       "      <td>0.531887</td>\n",
       "      <td>0.536808</td>\n",
       "      <td>3873.000000</td>\n",
       "      <td>LSTM</td>\n",
       "    </tr>\n",
       "    <tr>\n",
       "      <th>7</th>\n",
       "      <td>Checking or savings account</td>\n",
       "      <td>0.846058</td>\n",
       "      <td>0.877196</td>\n",
       "      <td>0.861346</td>\n",
       "      <td>5407.000000</td>\n",
       "      <td>LSTM</td>\n",
       "    </tr>\n",
       "    <tr>\n",
       "      <th>8</th>\n",
       "      <td>Personal loan</td>\n",
       "      <td>0.603211</td>\n",
       "      <td>0.364434</td>\n",
       "      <td>0.454362</td>\n",
       "      <td>2165.000000</td>\n",
       "      <td>LSTM</td>\n",
       "    </tr>\n",
       "    <tr>\n",
       "      <th>9</th>\n",
       "      <td>accuracy</td>\n",
       "      <td>0.848672</td>\n",
       "      <td>0.848672</td>\n",
       "      <td>0.848672</td>\n",
       "      <td>0.848672</td>\n",
       "      <td>LSTM</td>\n",
       "    </tr>\n",
       "    <tr>\n",
       "      <th>10</th>\n",
       "      <td>macro avg</td>\n",
       "      <td>0.781243</td>\n",
       "      <td>0.751839</td>\n",
       "      <td>0.762404</td>\n",
       "      <td>119575.000000</td>\n",
       "      <td>LSTM</td>\n",
       "    </tr>\n",
       "    <tr>\n",
       "      <th>11</th>\n",
       "      <td>weighted avg</td>\n",
       "      <td>0.847224</td>\n",
       "      <td>0.848672</td>\n",
       "      <td>0.847187</td>\n",
       "      <td>119575.000000</td>\n",
       "      <td>LSTM</td>\n",
       "    </tr>\n",
       "  </tbody>\n",
       "</table>\n",
       "</div>"
      ],
      "text/plain": [
       "                                           categories  precision    recall  \\\n",
       "0                                     Debt collection   0.759079  0.816319   \n",
       "1   Credit or consumer reporting, credit repair se...   0.811710  0.823816   \n",
       "2         Money transfer or service, virtual currency   0.895154  0.892920   \n",
       "3                                            Mortgage   0.819396  0.841096   \n",
       "4                               Vehicle loan or lease   0.834035  0.696059   \n",
       "5                                        Student loan   0.920728  0.922820   \n",
       "6                         Credit card or prepaid card   0.541820  0.531887   \n",
       "7                         Checking or savings account   0.846058  0.877196   \n",
       "8                                       Personal loan   0.603211  0.364434   \n",
       "9                                            accuracy   0.848672  0.848672   \n",
       "10                                          macro avg   0.781243  0.751839   \n",
       "11                                       weighted avg   0.847224  0.848672   \n",
       "\n",
       "    f1-score        support classifier  \n",
       "0   0.786659    5172.000000       LSTM  \n",
       "1   0.817718   12941.000000       LSTM  \n",
       "2   0.894035   48487.000000       LSTM  \n",
       "3   0.830104   24883.000000       LSTM  \n",
       "4   0.758826    2563.000000       LSTM  \n",
       "5   0.921773   14084.000000       LSTM  \n",
       "6   0.536808    3873.000000       LSTM  \n",
       "7   0.861346    5407.000000       LSTM  \n",
       "8   0.454362    2165.000000       LSTM  \n",
       "9   0.848672       0.848672       LSTM  \n",
       "10  0.762404  119575.000000       LSTM  \n",
       "11  0.847187  119575.000000       LSTM  "
      ]
     },
     "execution_count": 249,
     "metadata": {},
     "output_type": "execute_result"
    }
   ],
   "source": [
    "lstm_report"
   ]
  },
  {
   "cell_type": "code",
   "execution_count": 282,
   "metadata": {},
   "outputs": [],
   "source": [
    "frames = [lstm_report, lstm_w2v_report, cnn_report, cnn_w2v_report]"
   ]
  },
  {
   "cell_type": "code",
   "execution_count": 283,
   "metadata": {},
   "outputs": [],
   "source": [
    "merged_report = pd.concat(frames, axis=0)\n",
    "merged_report = merged_report[~merged_report['categories'].isin(['accuracy', 'macro avg', 'weighted avg'])]\n",
    "merged_report = merged_report.reset_index(inplace=False)\n",
    "merged_report = merged_report.drop(['index'], axis=1)"
   ]
  },
  {
   "cell_type": "code",
   "execution_count": 390,
   "metadata": {},
   "outputs": [],
   "source": [
    "merged_report[['precision','recall','f1-score']] = merged_report[['precision','recall','f1-score']].mul(100)"
   ]
  },
  {
   "cell_type": "code",
   "execution_count": 307,
   "metadata": {},
   "outputs": [],
   "source": [
    "merged_report.to_csv(r'merged_report.csv', index = False)"
   ]
  },
  {
   "cell_type": "code",
   "execution_count": 308,
   "metadata": {},
   "outputs": [],
   "source": [
    "test = pd.read_csv('merged_report.csv')"
   ]
  },
  {
   "cell_type": "code",
   "execution_count": 391,
   "metadata": {},
   "outputs": [
    {
     "data": {
      "text/html": [
       "<div>\n",
       "<style scoped>\n",
       "    .dataframe tbody tr th:only-of-type {\n",
       "        vertical-align: middle;\n",
       "    }\n",
       "\n",
       "    .dataframe tbody tr th {\n",
       "        vertical-align: top;\n",
       "    }\n",
       "\n",
       "    .dataframe thead th {\n",
       "        text-align: right;\n",
       "    }\n",
       "</style>\n",
       "<table border=\"1\" class=\"dataframe\">\n",
       "  <thead>\n",
       "    <tr style=\"text-align: right;\">\n",
       "      <th></th>\n",
       "      <th>categories</th>\n",
       "      <th>precision</th>\n",
       "      <th>recall</th>\n",
       "      <th>f1-score</th>\n",
       "      <th>support</th>\n",
       "      <th>classifier</th>\n",
       "    </tr>\n",
       "  </thead>\n",
       "  <tbody>\n",
       "    <tr>\n",
       "      <th>0</th>\n",
       "      <td>Debt collection</td>\n",
       "      <td>75.907947</td>\n",
       "      <td>81.631864</td>\n",
       "      <td>78.665921</td>\n",
       "      <td>5172.0</td>\n",
       "      <td>LSTM</td>\n",
       "    </tr>\n",
       "    <tr>\n",
       "      <th>1</th>\n",
       "      <td>Credit or consumer reporting, credit repair se...</td>\n",
       "      <td>81.171007</td>\n",
       "      <td>82.381578</td>\n",
       "      <td>81.771812</td>\n",
       "      <td>12941.0</td>\n",
       "      <td>LSTM</td>\n",
       "    </tr>\n",
       "    <tr>\n",
       "      <th>2</th>\n",
       "      <td>Money transfer or service, virtual currency</td>\n",
       "      <td>89.515362</td>\n",
       "      <td>89.291975</td>\n",
       "      <td>89.403529</td>\n",
       "      <td>48487.0</td>\n",
       "      <td>LSTM</td>\n",
       "    </tr>\n",
       "    <tr>\n",
       "      <th>3</th>\n",
       "      <td>Mortgage</td>\n",
       "      <td>81.939551</td>\n",
       "      <td>84.109633</td>\n",
       "      <td>83.010412</td>\n",
       "      <td>24883.0</td>\n",
       "      <td>LSTM</td>\n",
       "    </tr>\n",
       "    <tr>\n",
       "      <th>4</th>\n",
       "      <td>Vehicle loan or lease</td>\n",
       "      <td>83.403460</td>\n",
       "      <td>69.605931</td>\n",
       "      <td>75.882603</td>\n",
       "      <td>2563.0</td>\n",
       "      <td>LSTM</td>\n",
       "    </tr>\n",
       "    <tr>\n",
       "      <th>5</th>\n",
       "      <td>Student loan</td>\n",
       "      <td>92.072825</td>\n",
       "      <td>92.282022</td>\n",
       "      <td>92.177305</td>\n",
       "      <td>14084.0</td>\n",
       "      <td>LSTM</td>\n",
       "    </tr>\n",
       "    <tr>\n",
       "      <th>6</th>\n",
       "      <td>Credit card or prepaid card</td>\n",
       "      <td>54.182009</td>\n",
       "      <td>53.188743</td>\n",
       "      <td>53.680782</td>\n",
       "      <td>3873.0</td>\n",
       "      <td>LSTM</td>\n",
       "    </tr>\n",
       "    <tr>\n",
       "      <th>7</th>\n",
       "      <td>Checking or savings account</td>\n",
       "      <td>84.605780</td>\n",
       "      <td>87.719623</td>\n",
       "      <td>86.134568</td>\n",
       "      <td>5407.0</td>\n",
       "      <td>LSTM</td>\n",
       "    </tr>\n",
       "    <tr>\n",
       "      <th>8</th>\n",
       "      <td>Personal loan</td>\n",
       "      <td>60.321101</td>\n",
       "      <td>36.443418</td>\n",
       "      <td>45.436222</td>\n",
       "      <td>2165.0</td>\n",
       "      <td>LSTM</td>\n",
       "    </tr>\n",
       "    <tr>\n",
       "      <th>9</th>\n",
       "      <td>Debt collection</td>\n",
       "      <td>79.281603</td>\n",
       "      <td>77.242846</td>\n",
       "      <td>78.248947</td>\n",
       "      <td>5172.0</td>\n",
       "      <td>LSTM W2V</td>\n",
       "    </tr>\n",
       "    <tr>\n",
       "      <th>10</th>\n",
       "      <td>Credit or consumer reporting, credit repair se...</td>\n",
       "      <td>81.224363</td>\n",
       "      <td>81.098833</td>\n",
       "      <td>81.161550</td>\n",
       "      <td>12941.0</td>\n",
       "      <td>LSTM W2V</td>\n",
       "    </tr>\n",
       "    <tr>\n",
       "      <th>11</th>\n",
       "      <td>Money transfer or service, virtual currency</td>\n",
       "      <td>88.509592</td>\n",
       "      <td>90.585105</td>\n",
       "      <td>89.535322</td>\n",
       "      <td>48487.0</td>\n",
       "      <td>LSTM W2V</td>\n",
       "    </tr>\n",
       "    <tr>\n",
       "      <th>12</th>\n",
       "      <td>Mortgage</td>\n",
       "      <td>83.221805</td>\n",
       "      <td>81.967608</td>\n",
       "      <td>82.589946</td>\n",
       "      <td>24883.0</td>\n",
       "      <td>LSTM W2V</td>\n",
       "    </tr>\n",
       "    <tr>\n",
       "      <th>13</th>\n",
       "      <td>Vehicle loan or lease</td>\n",
       "      <td>74.980695</td>\n",
       "      <td>75.770581</td>\n",
       "      <td>75.373569</td>\n",
       "      <td>2563.0</td>\n",
       "      <td>LSTM W2V</td>\n",
       "    </tr>\n",
       "    <tr>\n",
       "      <th>14</th>\n",
       "      <td>Student loan</td>\n",
       "      <td>90.815546</td>\n",
       "      <td>92.743539</td>\n",
       "      <td>91.769417</td>\n",
       "      <td>14084.0</td>\n",
       "      <td>LSTM W2V</td>\n",
       "    </tr>\n",
       "    <tr>\n",
       "      <th>15</th>\n",
       "      <td>Credit card or prepaid card</td>\n",
       "      <td>63.423691</td>\n",
       "      <td>44.100181</td>\n",
       "      <td>52.025586</td>\n",
       "      <td>3873.0</td>\n",
       "      <td>LSTM W2V</td>\n",
       "    </tr>\n",
       "    <tr>\n",
       "      <th>16</th>\n",
       "      <td>Checking or savings account</td>\n",
       "      <td>79.872039</td>\n",
       "      <td>85.426299</td>\n",
       "      <td>82.555853</td>\n",
       "      <td>5407.0</td>\n",
       "      <td>LSTM W2V</td>\n",
       "    </tr>\n",
       "    <tr>\n",
       "      <th>17</th>\n",
       "      <td>Personal loan</td>\n",
       "      <td>56.833825</td>\n",
       "      <td>53.394919</td>\n",
       "      <td>55.060729</td>\n",
       "      <td>2165.0</td>\n",
       "      <td>LSTM W2V</td>\n",
       "    </tr>\n",
       "    <tr>\n",
       "      <th>18</th>\n",
       "      <td>Debt collection</td>\n",
       "      <td>76.935260</td>\n",
       "      <td>75.135344</td>\n",
       "      <td>76.024650</td>\n",
       "      <td>5172.0</td>\n",
       "      <td>CNN</td>\n",
       "    </tr>\n",
       "    <tr>\n",
       "      <th>19</th>\n",
       "      <td>Credit or consumer reporting, credit repair se...</td>\n",
       "      <td>77.929215</td>\n",
       "      <td>82.180666</td>\n",
       "      <td>79.998496</td>\n",
       "      <td>12941.0</td>\n",
       "      <td>CNN</td>\n",
       "    </tr>\n",
       "    <tr>\n",
       "      <th>20</th>\n",
       "      <td>Money transfer or service, virtual currency</td>\n",
       "      <td>86.253889</td>\n",
       "      <td>90.329367</td>\n",
       "      <td>88.244598</td>\n",
       "      <td>48487.0</td>\n",
       "      <td>CNN</td>\n",
       "    </tr>\n",
       "    <tr>\n",
       "      <th>21</th>\n",
       "      <td>Mortgage</td>\n",
       "      <td>81.250507</td>\n",
       "      <td>80.476631</td>\n",
       "      <td>80.861717</td>\n",
       "      <td>24883.0</td>\n",
       "      <td>CNN</td>\n",
       "    </tr>\n",
       "    <tr>\n",
       "      <th>22</th>\n",
       "      <td>Vehicle loan or lease</td>\n",
       "      <td>78.004338</td>\n",
       "      <td>70.152165</td>\n",
       "      <td>73.870173</td>\n",
       "      <td>2563.0</td>\n",
       "      <td>CNN</td>\n",
       "    </tr>\n",
       "    <tr>\n",
       "      <th>23</th>\n",
       "      <td>Student loan</td>\n",
       "      <td>91.862581</td>\n",
       "      <td>89.612326</td>\n",
       "      <td>90.723502</td>\n",
       "      <td>14084.0</td>\n",
       "      <td>CNN</td>\n",
       "    </tr>\n",
       "    <tr>\n",
       "      <th>24</th>\n",
       "      <td>Credit card or prepaid card</td>\n",
       "      <td>52.782765</td>\n",
       "      <td>45.546088</td>\n",
       "      <td>48.898129</td>\n",
       "      <td>3873.0</td>\n",
       "      <td>CNN</td>\n",
       "    </tr>\n",
       "    <tr>\n",
       "      <th>25</th>\n",
       "      <td>Checking or savings account</td>\n",
       "      <td>91.853035</td>\n",
       "      <td>74.440540</td>\n",
       "      <td>82.235162</td>\n",
       "      <td>5407.0</td>\n",
       "      <td>CNN</td>\n",
       "    </tr>\n",
       "    <tr>\n",
       "      <th>26</th>\n",
       "      <td>Personal loan</td>\n",
       "      <td>49.614243</td>\n",
       "      <td>38.614319</td>\n",
       "      <td>43.428571</td>\n",
       "      <td>2165.0</td>\n",
       "      <td>CNN</td>\n",
       "    </tr>\n",
       "    <tr>\n",
       "      <th>27</th>\n",
       "      <td>Debt collection</td>\n",
       "      <td>71.866448</td>\n",
       "      <td>76.160093</td>\n",
       "      <td>73.951000</td>\n",
       "      <td>5172.0</td>\n",
       "      <td>CNN W2V</td>\n",
       "    </tr>\n",
       "    <tr>\n",
       "      <th>28</th>\n",
       "      <td>Credit or consumer reporting, credit repair se...</td>\n",
       "      <td>78.411970</td>\n",
       "      <td>76.539680</td>\n",
       "      <td>77.464513</td>\n",
       "      <td>12941.0</td>\n",
       "      <td>CNN W2V</td>\n",
       "    </tr>\n",
       "    <tr>\n",
       "      <th>29</th>\n",
       "      <td>Money transfer or service, virtual currency</td>\n",
       "      <td>85.389437</td>\n",
       "      <td>89.063048</td>\n",
       "      <td>87.187563</td>\n",
       "      <td>48487.0</td>\n",
       "      <td>CNN W2V</td>\n",
       "    </tr>\n",
       "    <tr>\n",
       "      <th>30</th>\n",
       "      <td>Mortgage</td>\n",
       "      <td>78.478628</td>\n",
       "      <td>80.352048</td>\n",
       "      <td>79.404289</td>\n",
       "      <td>24883.0</td>\n",
       "      <td>CNN W2V</td>\n",
       "    </tr>\n",
       "    <tr>\n",
       "      <th>31</th>\n",
       "      <td>Vehicle loan or lease</td>\n",
       "      <td>80.846063</td>\n",
       "      <td>53.687085</td>\n",
       "      <td>64.525205</td>\n",
       "      <td>2563.0</td>\n",
       "      <td>CNN W2V</td>\n",
       "    </tr>\n",
       "    <tr>\n",
       "      <th>32</th>\n",
       "      <td>Student loan</td>\n",
       "      <td>91.861518</td>\n",
       "      <td>86.474013</td>\n",
       "      <td>89.086387</td>\n",
       "      <td>14084.0</td>\n",
       "      <td>CNN W2V</td>\n",
       "    </tr>\n",
       "    <tr>\n",
       "      <th>33</th>\n",
       "      <td>Credit card or prepaid card</td>\n",
       "      <td>47.696246</td>\n",
       "      <td>43.299768</td>\n",
       "      <td>45.391799</td>\n",
       "      <td>3873.0</td>\n",
       "      <td>CNN W2V</td>\n",
       "    </tr>\n",
       "    <tr>\n",
       "      <th>34</th>\n",
       "      <td>Checking or savings account</td>\n",
       "      <td>80.602883</td>\n",
       "      <td>79.619012</td>\n",
       "      <td>80.107927</td>\n",
       "      <td>5407.0</td>\n",
       "      <td>CNN W2V</td>\n",
       "    </tr>\n",
       "    <tr>\n",
       "      <th>35</th>\n",
       "      <td>Personal loan</td>\n",
       "      <td>46.959248</td>\n",
       "      <td>34.595843</td>\n",
       "      <td>39.840426</td>\n",
       "      <td>2165.0</td>\n",
       "      <td>CNN W2V</td>\n",
       "    </tr>\n",
       "  </tbody>\n",
       "</table>\n",
       "</div>"
      ],
      "text/plain": [
       "                                           categories  precision     recall  \\\n",
       "0                                     Debt collection  75.907947  81.631864   \n",
       "1   Credit or consumer reporting, credit repair se...  81.171007  82.381578   \n",
       "2         Money transfer or service, virtual currency  89.515362  89.291975   \n",
       "3                                            Mortgage  81.939551  84.109633   \n",
       "4                               Vehicle loan or lease  83.403460  69.605931   \n",
       "5                                        Student loan  92.072825  92.282022   \n",
       "6                         Credit card or prepaid card  54.182009  53.188743   \n",
       "7                         Checking or savings account  84.605780  87.719623   \n",
       "8                                       Personal loan  60.321101  36.443418   \n",
       "9                                     Debt collection  79.281603  77.242846   \n",
       "10  Credit or consumer reporting, credit repair se...  81.224363  81.098833   \n",
       "11        Money transfer or service, virtual currency  88.509592  90.585105   \n",
       "12                                           Mortgage  83.221805  81.967608   \n",
       "13                              Vehicle loan or lease  74.980695  75.770581   \n",
       "14                                       Student loan  90.815546  92.743539   \n",
       "15                        Credit card or prepaid card  63.423691  44.100181   \n",
       "16                        Checking or savings account  79.872039  85.426299   \n",
       "17                                      Personal loan  56.833825  53.394919   \n",
       "18                                    Debt collection  76.935260  75.135344   \n",
       "19  Credit or consumer reporting, credit repair se...  77.929215  82.180666   \n",
       "20        Money transfer or service, virtual currency  86.253889  90.329367   \n",
       "21                                           Mortgage  81.250507  80.476631   \n",
       "22                              Vehicle loan or lease  78.004338  70.152165   \n",
       "23                                       Student loan  91.862581  89.612326   \n",
       "24                        Credit card or prepaid card  52.782765  45.546088   \n",
       "25                        Checking or savings account  91.853035  74.440540   \n",
       "26                                      Personal loan  49.614243  38.614319   \n",
       "27                                    Debt collection  71.866448  76.160093   \n",
       "28  Credit or consumer reporting, credit repair se...  78.411970  76.539680   \n",
       "29        Money transfer or service, virtual currency  85.389437  89.063048   \n",
       "30                                           Mortgage  78.478628  80.352048   \n",
       "31                              Vehicle loan or lease  80.846063  53.687085   \n",
       "32                                       Student loan  91.861518  86.474013   \n",
       "33                        Credit card or prepaid card  47.696246  43.299768   \n",
       "34                        Checking or savings account  80.602883  79.619012   \n",
       "35                                      Personal loan  46.959248  34.595843   \n",
       "\n",
       "     f1-score  support classifier  \n",
       "0   78.665921   5172.0       LSTM  \n",
       "1   81.771812  12941.0       LSTM  \n",
       "2   89.403529  48487.0       LSTM  \n",
       "3   83.010412  24883.0       LSTM  \n",
       "4   75.882603   2563.0       LSTM  \n",
       "5   92.177305  14084.0       LSTM  \n",
       "6   53.680782   3873.0       LSTM  \n",
       "7   86.134568   5407.0       LSTM  \n",
       "8   45.436222   2165.0       LSTM  \n",
       "9   78.248947   5172.0   LSTM W2V  \n",
       "10  81.161550  12941.0   LSTM W2V  \n",
       "11  89.535322  48487.0   LSTM W2V  \n",
       "12  82.589946  24883.0   LSTM W2V  \n",
       "13  75.373569   2563.0   LSTM W2V  \n",
       "14  91.769417  14084.0   LSTM W2V  \n",
       "15  52.025586   3873.0   LSTM W2V  \n",
       "16  82.555853   5407.0   LSTM W2V  \n",
       "17  55.060729   2165.0   LSTM W2V  \n",
       "18  76.024650   5172.0        CNN  \n",
       "19  79.998496  12941.0        CNN  \n",
       "20  88.244598  48487.0        CNN  \n",
       "21  80.861717  24883.0        CNN  \n",
       "22  73.870173   2563.0        CNN  \n",
       "23  90.723502  14084.0        CNN  \n",
       "24  48.898129   3873.0        CNN  \n",
       "25  82.235162   5407.0        CNN  \n",
       "26  43.428571   2165.0        CNN  \n",
       "27  73.951000   5172.0    CNN W2V  \n",
       "28  77.464513  12941.0    CNN W2V  \n",
       "29  87.187563  48487.0    CNN W2V  \n",
       "30  79.404289  24883.0    CNN W2V  \n",
       "31  64.525205   2563.0    CNN W2V  \n",
       "32  89.086387  14084.0    CNN W2V  \n",
       "33  45.391799   3873.0    CNN W2V  \n",
       "34  80.107927   5407.0    CNN W2V  \n",
       "35  39.840426   2165.0    CNN W2V  "
      ]
     },
     "execution_count": 391,
     "metadata": {},
     "output_type": "execute_result"
    }
   ],
   "source": [
    "merged_report"
   ]
  },
  {
   "cell_type": "code",
   "execution_count": 314,
   "metadata": {},
   "outputs": [],
   "source": [
    "import seaborn as sns\n",
    "%matplotlib inline\n",
    "import matplotlib.pyplot as plt"
   ]
  },
  {
   "cell_type": "code",
   "execution_count": 435,
   "metadata": {},
   "outputs": [],
   "source": [
    "def result_plot(evaluation):\n",
    "    g = sns.catplot(x=\"classifier\", y=evaluation, col=\"categories\",\n",
    "                    col_wrap=3, hue=\"classifier\", dodge=False,\n",
    "                    data=merged_report, saturation=.9,\n",
    "                    kind=\"bar\", ci=None, aspect=.9)\n",
    "    (g.set_axis_labels(\"\", \"Score\")\n",
    "      .set_titles(\"{col_name}\", size=14)\n",
    "      .set(ylim=(0, 100), xticklabels=[])\n",
    "      .despine(left=True)  \n",
    "      .add_legend())\n",
    "    #plt.show()\n",
    "    #g.savefig(\"precision.png\",dpi=300, bbox_inches = \"tight\")\n",
    "    g.savefig(\"recall.pgf\",dpi=150, bbox_inches = \"tight\")"
   ]
  },
  {
   "cell_type": "code",
   "execution_count": 436,
   "metadata": {},
   "outputs": [
    {
     "data": {
      "image/png": "[encoded data removed]",
      "text/plain": [
       "<Figure size 1067.41x1080 with 9 Axes>"
      ]
     },
     "metadata": {},
     "output_type": "display_data"
    }
   ],
   "source": [
    "result_plot('recall')"
   ]
  },
  {
   "cell_type": "code",
   "execution_count": 394,
   "metadata": {},
   "outputs": [],
   "source": [
    "import matplotlib\n",
    "\n",
    "matplotlib.use(\"pgf\")\n",
    "matplotlib.rcParams.update({\n",
    "    \"pgf.texsystem\": \"pdflatex\",\n",
    "    'font.family': 'serif',\n",
    "    'text.usetex': True,\n",
    "    'pgf.rcfonts': False,\n",
    "})"
   ]
  },
  {
   "cell_type": "code",
   "execution_count": 395,
   "metadata": {},
   "outputs": [],
   "source": [
    "# Use tex for all labels globally in the plot\n",
    "sns.set(rc={'text.usetex': True})"
   ]
  },
  {
   "cell_type": "code",
   "execution_count": 51,
   "metadata": {},
   "outputs": [],
   "source": [
    "def return_prediction(model_json, weight_h5):\n",
    "    json_file = open(model_json, 'r')\n",
    "    loaded_model_json = json_file.read()\n",
    "    json_file.close()\n",
    "    loaded_model = model_from_json(loaded_model_json)\n",
    "    # load weights into new model\n",
    "    loaded_model.load_weights(weight_h5)\n",
    "    print(\"Model loaded\")\n",
    "    pred_model = np.argmax(loaded_model.predict(X_test), axis=-1)\n",
    "    return pred_model"
   ]
  },
  {
   "cell_type": "code",
   "execution_count": 90,
   "metadata": {},
   "outputs": [
    {
     "name": "stdout",
     "output_type": "stream",
     "text": [
      "Model loaded\n",
      "Model loaded\n",
      "Model loaded\n",
      "Model loaded\n"
     ]
    }
   ],
   "source": [
    "lstm_pred = return_prediction('model_1_rnn.json', 'model_1_rnn.h5')\n",
    "cnn_pred = return_prediction('model_2_cnn.json', 'model_2_cnn.h5')\n",
    "lstm_w2v_pred = return_prediction('model_3_rnn_w2v.json', 'model_3_rnn_w2v.h5')\n",
    "cnn_w2v_pred = return_prediction('model_4_cnn_w2v.json', 'model_4_cnn_w2v.h5')"
   ]
  },
  {
   "cell_type": "code",
   "execution_count": 84,
   "metadata": {},
   "outputs": [],
   "source": [
    "from sklearn.metrics import confusion_matrix\n",
    "import seaborn as sns\n",
    "\n",
    "def print_confusion_matrix(pred, true):\n",
    "    conf_mat = confusion_matrix((np.argmax(true, axis=-1)), pred)\n",
    "    fig, ax = plt.subplots(figsize=(5,3))\n",
    "    fig.set_size_inches(w=5, h=3)\n",
    "    sns.heatmap(conf_mat, annot=True, fmt=\"d\", cmap='Reds',xticklabels=df['Product'].unique(),\n",
    "                yticklabels=df['Product'].unique())\n",
    "    plt.ylabel('Actual')\n",
    "    plt.xlabel('Predicted')\n",
    "    #plt.show()\n",
    "    plt.savefig('cm.pgf',dpi=100, bbox_inches = \"tight\")\n",
    "    plt.savefig(\"cm.png\",dpi=100, bbox_inches = \"tight\")"
   ]
  },
  {
   "cell_type": "code",
   "execution_count": 85,
   "metadata": {},
   "outputs": [],
   "source": [
    "print_confusion_matrix(lstm_pred, y_test)"
   ]
  },
  {
   "cell_type": "code",
   "execution_count": 89,
   "metadata": {},
   "outputs": [
    {
     "name": "stdout",
     "output_type": "stream",
     "text": [
      "Loaded model from disk\n",
      "3737/3737 [==============================] - 276s 74ms/step - loss: 0.4516 - accuracy: 0.8471\n",
      "accuracy: 84.71%\n"
     ]
    }
   ],
   "source": [
    "from keras.models import model_from_json\n",
    "\n",
    "# load json and create model\n",
    "json_file = open('model_3_rnn_w2v.json', 'r')\n",
    "loaded_model_json = json_file.read()\n",
    "json_file.close()\n",
    "loaded_model = model_from_json(loaded_model_json)\n",
    "# load weights into new model\n",
    "loaded_model.load_weights(\"model_3_rnn_w2v.h5\")\n",
    "print(\"Loaded model from disk\")\n",
    " \n",
    "# evaluate loaded model on test data\n",
    "loaded_model.compile(loss='categorical_crossentropy', optimizer='adam', metrics=['accuracy'])\n",
    "score = loaded_model.evaluate(X_test, y_test, verbose=1)\n",
    "print(\"%s: %.2f%%\" % (loaded_model.metrics_names[1], score[1]*100))"
   ]
  },
  {
   "cell_type": "code",
   "execution_count": 135,
   "metadata": {},
   "outputs": [
    {
     "data": {
      "text/plain": [
       "<tensorflow.python.keras.engine.sequential.Sequential at 0x14e3981a3a0>"
      ]
     },
     "execution_count": 135,
     "metadata": {},
     "output_type": "execute_result"
    }
   ],
   "source": [
    "loaded_model"
   ]
  },
  {
   "cell_type": "code",
   "execution_count": null,
   "metadata": {},
   "outputs": [],
   "source": [
    "# load the whole embedding into memory\n",
    "embeddings_index = dict()\n",
    "f = open('glove.6B.300d.txt',  encoding=\"utf8\")\n",
    "\n",
    "for line in f:\n",
    "    values = line.split()\n",
    "    word = values[0]\n",
    "    coefs = np.asarray(values[1:], dtype='float32')\n",
    "    embeddings_index[word] = coefs\n",
    "\n",
    "f.close()\n",
    "print('Loaded %s word vectors.' % len(embeddings_index))"
   ]
  },
  {
   "cell_type": "code",
   "execution_count": 25,
   "metadata": {},
   "outputs": [],
   "source": [
    "# create a weight matrix for words in training docs\n",
    "embedding_matrix = np.zeros((size_of_vocabulary, 300))\n",
    "\n",
    "for word, i in tokenizer.word_index.items():\n",
    "    embedding_vector = model['word']\n",
    "    if embedding_vector is not None:\n",
    "        embedding_matrix[i] = embedding_vector"
   ]
  },
  {
   "cell_type": "code",
   "execution_count": 79,
   "metadata": {},
   "outputs": [
    {
     "data": {
      "text/plain": [
       "(138414, 300)"
      ]
     },
     "execution_count": 79,
     "metadata": {},
     "output_type": "execute_result"
    }
   ],
   "source": [
    "embedding_matrix.shape"
   ]
  },
  {
   "cell_type": "code",
   "execution_count": 120,
   "metadata": {},
   "outputs": [
    {
     "name": "stdout",
     "output_type": "stream",
     "text": [
      "Model: \"sequential_7\"\n",
      "_________________________________________________________________\n",
      "Layer (type)                 Output Shape              Param #   \n",
      "=================================================================\n",
      "embedding_6 (Embedding)      (None, 250, 300)          41524200  \n",
      "_________________________________________________________________\n",
      "global_max_pooling1d_6 (Glob (None, 300)               0         \n",
      "_________________________________________________________________\n",
      "dense_12 (Dense)             (None, 64)                19264     \n",
      "_________________________________________________________________\n",
      "dense_13 (Dense)             (None, 9)                 585       \n",
      "=================================================================\n",
      "Total params: 41,544,049\n",
      "Trainable params: 19,849\n",
      "Non-trainable params: 41,524,200\n",
      "_________________________________________________________________\n"
     ]
    }
   ],
   "source": [
    "model = Sequential()\n",
    "model.add(Embedding(size_of_vocabulary, 300, \n",
    "                           weights=[embedding_matrix], \n",
    "                           input_length=250, \n",
    "                           trainable=False))\n",
    "model.add(GlobalMaxPool1D())\n",
    "model.add(Dense(64, activation='relu'))\n",
    "model.add(Dense(9, activation='softmax'))\n",
    "model.compile(optimizer='adam',\n",
    "              loss='categorical_crossentropy',\n",
    "              metrics=['acc'])\n",
    "model.summary()"
   ]
  },
  {
   "cell_type": "code",
   "execution_count": 121,
   "metadata": {},
   "outputs": [
    {
     "name": "stdout",
     "output_type": "stream",
     "text": [
      "Epoch 1/25\n",
      "467/467 [==============================] - 91s 196ms/step - loss: 1.3450 - acc: 0.5519 - val_loss: 1.0538 - val_acc: 0.6597\n",
      "Epoch 2/25\n",
      "467/467 [==============================] - 84s 180ms/step - loss: 0.9789 - acc: 0.6767 - val_loss: 0.9331 - val_acc: 0.6936\n",
      "Epoch 3/25\n",
      "467/467 [==============================] - 84s 180ms/step - loss: 0.9064 - acc: 0.6971 - val_loss: 0.8885 - val_acc: 0.7043\n",
      "Epoch 4/25\n",
      "467/467 [==============================] - 85s 183ms/step - loss: 0.8764 - acc: 0.7061 - val_loss: 0.8615 - val_acc: 0.7110\n",
      "Epoch 5/25\n",
      "467/467 [==============================] - 86s 185ms/step - loss: 0.8577 - acc: 0.7115 - val_loss: 0.8516 - val_acc: 0.7135\n",
      "Epoch 6/25\n",
      "467/467 [==============================] - 85s 182ms/step - loss: 0.8452 - acc: 0.7151 - val_loss: 0.8400 - val_acc: 0.7167\n",
      "Epoch 7/25\n",
      "467/467 [==============================] - 88s 189ms/step - loss: 0.8370 - acc: 0.7175 - val_loss: 0.8369 - val_acc: 0.7153\n",
      "Epoch 8/25\n",
      "467/467 [==============================] - 85s 181ms/step - loss: 0.8299 - acc: 0.7195 - val_loss: 0.8273 - val_acc: 0.7205\n",
      "Epoch 9/25\n",
      "467/467 [==============================] - 82s 176ms/step - loss: 0.8261 - acc: 0.7211 - val_loss: 0.8264 - val_acc: 0.7206\n",
      "Epoch 10/25\n",
      "467/467 [==============================] - 83s 177ms/step - loss: 0.8211 - acc: 0.7224 - val_loss: 0.8216 - val_acc: 0.7232\n",
      "Epoch 11/25\n",
      "467/467 [==============================] - 82s 175ms/step - loss: 0.8184 - acc: 0.7232 - val_loss: 0.8192 - val_acc: 0.7232\n",
      "Epoch 12/25\n",
      "467/467 [==============================] - 83s 179ms/step - loss: 0.8159 - acc: 0.7240 - val_loss: 0.8138 - val_acc: 0.7261\n",
      "Epoch 13/25\n",
      "467/467 [==============================] - 85s 182ms/step - loss: 0.8142 - acc: 0.7245 - val_loss: 0.8114 - val_acc: 0.7268\n",
      "Epoch 14/25\n",
      "467/467 [==============================] - 88s 188ms/step - loss: 0.8113 - acc: 0.7253 - val_loss: 0.8116 - val_acc: 0.7261\n",
      "Epoch 15/25\n",
      "467/467 [==============================] - 83s 179ms/step - loss: 0.8102 - acc: 0.7258 - val_loss: 0.8093 - val_acc: 0.7268\n",
      "Epoch 16/25\n",
      "467/467 [==============================] - 84s 179ms/step - loss: 0.8086 - acc: 0.7266 - val_loss: 0.8118 - val_acc: 0.7250\n",
      "Epoch 17/25\n",
      "467/467 [==============================] - 89s 190ms/step - loss: 0.8063 - acc: 0.7273 - val_loss: 0.8039 - val_acc: 0.7292\n",
      "Epoch 18/25\n",
      "467/467 [==============================] - 82s 175ms/step - loss: 0.8058 - acc: 0.7274 - val_loss: 0.8067 - val_acc: 0.7283\n",
      "Epoch 19/25\n",
      "467/467 [==============================] - 84s 181ms/step - loss: 0.8041 - acc: 0.7275 - val_loss: 0.8029 - val_acc: 0.7281\n",
      "Epoch 20/25\n",
      "467/467 [==============================] - 83s 178ms/step - loss: 0.8027 - acc: 0.7279 - val_loss: 0.8043 - val_acc: 0.7269\n",
      "Epoch 21/25\n",
      "467/467 [==============================] - 86s 185ms/step - loss: 0.8015 - acc: 0.7282 - val_loss: 0.8009 - val_acc: 0.7282\n",
      "Epoch 22/25\n",
      "467/467 [==============================] - 83s 177ms/step - loss: 0.8002 - acc: 0.7287 - val_loss: 0.8020 - val_acc: 0.7279\n",
      "Epoch 23/25\n",
      "467/467 [==============================] - 83s 178ms/step - loss: 0.7987 - acc: 0.7292 - val_loss: 0.8019 - val_acc: 0.7287\n",
      "Epoch 24/25\n",
      "467/467 [==============================] - 82s 175ms/step - loss: 0.7974 - acc: 0.7295 - val_loss: 0.8027 - val_acc: 0.7268\n",
      "Epoch 25/25\n",
      "467/467 [==============================] - 81s 173ms/step - loss: 0.7967 - acc: 0.7297 - val_loss: 0.8045 - val_acc: 0.7288\n"
     ]
    }
   ],
   "source": [
    "history = model.fit(x_tr_seq, y_train, epochs=25, validation_data=(x_val_seq, y_val), batch_size=1025)"
   ]
  },
  {
   "cell_type": "code",
   "execution_count": 80,
   "metadata": {},
   "outputs": [],
   "source": [
    "from keras.models import *\n",
    "from keras.layers import *\n",
    "from keras.callbacks import *"
   ]
  },
  {
   "cell_type": "code",
   "execution_count": 85,
   "metadata": {},
   "outputs": [
    {
     "name": "stdout",
     "output_type": "stream",
     "text": [
      "Model: \"sequential_1\"\n",
      "_________________________________________________________________\n",
      "Layer (type)                 Output Shape              Param #   \n",
      "=================================================================\n",
      "embedding_1 (Embedding)      (None, 250, 300)          41524200  \n",
      "_________________________________________________________________\n",
      "lstm_1 (LSTM)                (None, 250, 128)          219648    \n",
      "_________________________________________________________________\n",
      "global_max_pooling1d_1 (Glob (None, 128)               0         \n",
      "_________________________________________________________________\n",
      "dense_2 (Dense)              (None, 64)                8256      \n",
      "_________________________________________________________________\n",
      "dense_3 (Dense)              (None, 9)                 585       \n",
      "=================================================================\n",
      "Total params: 41,752,689\n",
      "Trainable params: 228,489\n",
      "Non-trainable params: 41,524,200\n",
      "_________________________________________________________________\n",
      "None\n"
     ]
    }
   ],
   "source": [
    "model=Sequential()\n",
    "\n",
    "#embedding layer\n",
    "model.add(Embedding(size_of_vocabulary,300,weights=[embedding_matrix],input_length=250,trainable=False)) \n",
    "\n",
    "#lstm layer\n",
    "model.add(LSTM(128,return_sequences=True,dropout=0.2))\n",
    "\n",
    "#Global Maxpooling\n",
    "model.add(GlobalMaxPooling1D())\n",
    "\n",
    "#Dense Layer\n",
    "model.add(Dense(64,activation='relu')) \n",
    "model.add(Dense(9,activation='softmax')) \n",
    "\n",
    "#Add loss function, metrics, optimizer\n",
    "model.compile(optimizer='adam', loss='categorical_crossentropy',metrics=['acc']) \n",
    "\n",
    "#Adding callbacks\n",
    "es = EarlyStopping(monitor='val_loss', mode='min', verbose=1,patience=3)  \n",
    "mc=ModelCheckpoint('best_model.h5', monitor='val_acc', mode='max', save_best_only=True,verbose=1)  \n",
    "\n",
    "#Print summary of model\n",
    "print(model.summary())"
   ]
  },
  {
   "cell_type": "code",
   "execution_count": 86,
   "metadata": {},
   "outputs": [
    {
     "name": "stdout",
     "output_type": "stream",
     "text": [
      "Epoch 1/10\n",
      "467/467 [==============================] - 4323s 9s/step - loss: 0.8615 - acc: 0.7115 - val_loss: 0.6122 - val_acc: 0.7921\n",
      "Epoch 2/10\n",
      "467/467 [==============================] - 4308s 9s/step - loss: 0.5873 - acc: 0.7995 - val_loss: 0.5511 - val_acc: 0.8123\n",
      "Epoch 3/10\n",
      "467/467 [==============================] - 6148s 13s/step - loss: 0.5415 - acc: 0.8153 - val_loss: 0.5170 - val_acc: 0.8240\n",
      "Epoch 4/10\n",
      "467/467 [==============================] - 5154s 11s/step - loss: 0.5177 - acc: 0.8230 - val_loss: 0.4987 - val_acc: 0.8291\n",
      "Epoch 5/10\n",
      "467/467 [==============================] - 3986s 9s/step - loss: 0.4996 - acc: 0.8287 - val_loss: 0.4851 - val_acc: 0.8326\n",
      "Epoch 6/10\n",
      "467/467 [==============================] - 4827s 10s/step - loss: 0.4855 - acc: 0.8330 - val_loss: 0.4773 - val_acc: 0.8358\n",
      "Epoch 7/10\n",
      "467/467 [==============================] - 5377s 12s/step - loss: 0.4739 - acc: 0.8370 - val_loss: 0.4712 - val_acc: 0.8375\n",
      "Epoch 8/10\n",
      "467/467 [==============================] - 4478s 10s/step - loss: 0.4635 - acc: 0.8404 - val_loss: 0.4754 - val_acc: 0.8366\n",
      "Epoch 9/10\n",
      "467/467 [==============================] - 3828s 8s/step - loss: 0.4554 - acc: 0.8432 - val_loss: 0.4599 - val_acc: 0.8415\n",
      "Epoch 10/10\n",
      "467/467 [==============================] - 3821s 8s/step - loss: 0.4481 - acc: 0.8459 - val_loss: 0.4647 - val_acc: 0.8397\n"
     ]
    }
   ],
   "source": [
    "history = model.fit(np.array(x_tr_seq),np.array(y_train),batch_size=1025,epochs=10,\n",
    "                    validation_data=(np.array(x_val_seq),np.array(y_val)))"
   ]
  },
  {
   "cell_type": "code",
   "execution_count": null,
   "metadata": {},
   "outputs": [],
   "source": [
    "print(\"Accuracy %s\" % accuracy_score(pred_model, np.argmax(y_val, axis=-1)))\n",
    "print(classification_report(np.argmax(y_val, axis=-1),pred_model))"
   ]
  },
  {
   "cell_type": "code",
   "execution_count": 98,
   "metadata": {},
   "outputs": [
    {
     "name": "stdout",
     "output_type": "stream",
     "text": [
      "Accuracy 0.8396571189629939\n",
      "              precision    recall  f1-score   support\n",
      "\n",
      "           0       0.76      0.81      0.78      5172\n",
      "           1       0.80      0.81      0.81     12941\n",
      "           2       0.86      0.92      0.89     48487\n",
      "           3       0.86      0.77      0.81     24883\n",
      "           4       0.81      0.69      0.74      2563\n",
      "           5       0.90      0.92      0.91     14084\n",
      "           6       0.60      0.47      0.53      3873\n",
      "           7       0.82      0.82      0.82      5407\n",
      "           8       0.58      0.50      0.54      2165\n",
      "\n",
      "    accuracy                           0.84    119575\n",
      "   macro avg       0.78      0.75      0.76    119575\n",
      "weighted avg       0.84      0.84      0.84    119575\n",
      "\n"
     ]
    }
   ],
   "source": [
    "pred_model = np.argmax(model.predict(x_val_seq), axis=-1)\n",
    "print(\"Accuracy %s\" % accuracy_score(pred_model, np.argmax(y_val, axis=-1)))\n",
    "print(classification_report(np.argmax(y_val, axis=-1),pred_model))"
   ]
  },
  {
   "cell_type": "code",
   "execution_count": 4,
   "metadata": {},
   "outputs": [],
   "source": [
    "#load the dataset(X_data) and the label (y_data) \n",
    "X_data = df['new']\n",
    "y_data = df['Product']"
   ]
  },
  {
   "cell_type": "code",
   "execution_count": 5,
   "metadata": {},
   "outputs": [],
   "source": [
    "X = X_data.values\n",
    "y = y_data.values\n",
    "\n",
    "X_train, X_val, y_train, y_val = train_test_split(X, y, test_size=0.2, random_state=666, stratify=y)"
   ]
  },
  {
   "cell_type": "code",
   "execution_count": 6,
   "metadata": {},
   "outputs": [],
   "source": [
    "lb = LabelBinarizer()\n",
    "y_train = lb.fit_transform(y_train)\n",
    "y_val   = lb.transform(y_val)"
   ]
  },
  {
   "cell_type": "code",
   "execution_count": 7,
   "metadata": {},
   "outputs": [
    {
     "data": {
      "text/plain": [
       "CountVectorizer(lowercase=False, min_df=0)"
      ]
     },
     "execution_count": 7,
     "metadata": {},
     "output_type": "execute_result"
    }
   ],
   "source": [
    "vectorizer = CountVectorizer(min_df=0, lowercase=False)\n",
    "vectorizer.fit(X_train)"
   ]
  },
  {
   "cell_type": "code",
   "execution_count": 8,
   "metadata": {},
   "outputs": [],
   "source": [
    "X_train = vectorizer.transform(X_train)\n",
    "X_val  = vectorizer.transform(X_val)"
   ]
  },
  {
   "cell_type": "code",
   "execution_count": 63,
   "metadata": {},
   "outputs": [
    {
     "name": "stdout",
     "output_type": "stream",
     "text": [
      "Model: \"sequential\"\n",
      "_________________________________________________________________\n",
      "Layer (type)                 Output Shape              Param #   \n",
      "=================================================================\n",
      "dense (Dense)                (None, 128)               20261248  \n",
      "_________________________________________________________________\n",
      "dropout (Dropout)            (None, 128)               0         \n",
      "_________________________________________________________________\n",
      "dense_1 (Dense)              (None, 64)                8256      \n",
      "_________________________________________________________________\n",
      "dropout_1 (Dropout)          (None, 64)                0         \n",
      "_________________________________________________________________\n",
      "dense_2 (Dense)              (None, 10)                650       \n",
      "_________________________________________________________________\n",
      "dense_3 (Dense)              (None, 9)                 99        \n",
      "=================================================================\n",
      "Total params: 20,270,253\n",
      "Trainable params: 20,270,253\n",
      "Non-trainable params: 0\n",
      "_________________________________________________________________\n"
     ]
    }
   ],
   "source": [
    "input_dim = X_train.shape[1]  # Number of features\n",
    "\n",
    "model = Sequential()\n",
    "model.add(Dense(128, input_dim=input_dim, activation='relu', kernel_initializer='glorot_normal'))\n",
    "model.add(Dropout(0.5))\n",
    "model.add(Dense(64, activation='relu', kernel_initializer='glorot_normal'))\n",
    "model.add(Dropout(0.5))\n",
    "model.add(Dense(10, activation='relu', kernel_regularizer=regularizers.l2(0.01), kernel_initializer='glorot_normal'))\n",
    "model.add(Dense(9, activation='softmax', kernel_regularizer=regularizers.l2(0.01), kernel_initializer='glorot_uniform'))\n",
    "optimizer = Adam(lr=0.001)\n",
    "model.compile(loss='categorical_crossentropy', optimizer=optimizer, metrics=['acc'])\n",
    "model.summary()"
   ]
  },
  {
   "cell_type": "code",
   "execution_count": 9,
   "metadata": {},
   "outputs": [
    {
     "name": "stdout",
     "output_type": "stream",
     "text": [
      "Model: \"sequential\"\n",
      "_________________________________________________________________\n",
      "Layer (type)                 Output Shape              Param #   \n",
      "=================================================================\n",
      "dense (Dense)                (None, 64)                8843264   \n",
      "_________________________________________________________________\n",
      "dense_1 (Dense)              (None, 10)                650       \n",
      "_________________________________________________________________\n",
      "dense_2 (Dense)              (None, 9)                 99        \n",
      "=================================================================\n",
      "Total params: 8,844,013\n",
      "Trainable params: 8,844,013\n",
      "Non-trainable params: 0\n",
      "_________________________________________________________________\n"
     ]
    }
   ],
   "source": [
    "input_dim = X_train.shape[1]  # Number of features\n",
    "\n",
    "model = Sequential()\n",
    "model.add(Dense(64, input_dim=input_dim, activation='relu'))\n",
    "model.add(Dense(10, activation='relu'))\n",
    "model.add(Dense(9, activation='softmax'))\n",
    "optimizer = Adam(lr=0.001)\n",
    "model.compile(loss='categorical_crossentropy', optimizer=optimizer, metrics=['acc'])\n",
    "model.summary()"
   ]
  },
  {
   "cell_type": "code",
   "execution_count": 10,
   "metadata": {},
   "outputs": [
    {
     "name": "stdout",
     "output_type": "stream",
     "text": [
      "Epoch 1/5\n",
      "467/467 [==============================] - 29s 61ms/step - loss: 0.7395 - acc: 0.7966 - val_loss: 0.5425 - val_acc: 0.8374\n",
      "Epoch 2/5\n",
      "467/467 [==============================] - 28s 61ms/step - loss: 0.4547 - acc: 0.8566 - val_loss: 0.4918 - val_acc: 0.8453\n",
      "Epoch 3/5\n",
      "467/467 [==============================] - 30s 65ms/step - loss: 0.3707 - acc: 0.8787 - val_loss: 0.4752 - val_acc: 0.8501\n",
      "Epoch 4/5\n",
      "467/467 [==============================] - 33s 70ms/step - loss: 0.3153 - acc: 0.8958 - val_loss: 0.4856 - val_acc: 0.8507\n",
      "Epoch 5/5\n",
      "467/467 [==============================] - 32s 69ms/step - loss: 0.2723 - acc: 0.9098 - val_loss: 0.4937 - val_acc: 0.8518\n"
     ]
    }
   ],
   "source": [
    "history = model.fit(X_train, y_train, epochs=5, validation_data=(X_val, y_val), batch_size=1025)"
   ]
  },
  {
   "cell_type": "code",
   "execution_count": 11,
   "metadata": {},
   "outputs": [
    {
     "name": "stdout",
     "output_type": "stream",
     "text": [
      "Accuracy 0.8517666736357934\n",
      "              precision    recall  f1-score   support\n",
      "\n",
      "           0       0.78      0.79      0.78      5172\n",
      "           1       0.82      0.80      0.81     12941\n",
      "           2       0.89      0.91      0.90     48487\n",
      "           3       0.82      0.84      0.83     24883\n",
      "           4       0.79      0.73      0.76      2563\n",
      "           5       0.91      0.93      0.92     14084\n",
      "           6       0.58      0.48      0.52      3873\n",
      "           7       0.87      0.87      0.87      5407\n",
      "           8       0.60      0.37      0.46      2165\n",
      "\n",
      "    accuracy                           0.85    119575\n",
      "   macro avg       0.78      0.75      0.76    119575\n",
      "weighted avg       0.85      0.85      0.85    119575\n",
      "\n"
     ]
    }
   ],
   "source": [
    "pred_model = np.argmax(model.predict(X_val), axis=-1)\n",
    "print(\"Accuracy %s\" % accuracy_score(pred_model, np.argmax(y_val, axis=-1)))\n",
    "print(classification_report(np.argmax(y_val, axis=-1),pred_model))"
   ]
  },
  {
   "cell_type": "code",
   "execution_count": 79,
   "metadata": {},
   "outputs": [],
   "source": [
    " from keras.preprocessing.text import Tokenizer"
   ]
  },
  {
   "cell_type": "code",
   "execution_count": 81,
   "metadata": {},
   "outputs": [
    {
     "name": "stdout",
     "output_type": "stream",
     "text": [
      "Found 179260 unique tokens.\n"
     ]
    }
   ],
   "source": [
    "# The maximum number of words to be used. (most frequent)\n",
    "MAX_NB_WORDS = 50000\n",
    "# Max number of words in each complaint.\n",
    "MAX_SEQUENCE_LENGTH = 250\n",
    "# This is fixed.\n",
    "EMBEDDING_DIM = 100\n",
    "tokenizer = Tokenizer(num_words=MAX_NB_WORDS, filters='!\"#$%&()*+,-./:;<=>?@[\\]^_`{|}~', lower=True)\n",
    "tokenizer.fit_on_texts(df['narrative'].values)\n",
    "word_index = tokenizer.word_index\n",
    "print('Found %s unique tokens.' % len(word_index))"
   ]
  },
  {
   "cell_type": "code",
   "execution_count": 85,
   "metadata": {},
   "outputs": [
    {
     "ename": "NameError",
     "evalue": "name 'pad_sequences' is not defined",
     "output_type": "error",
     "traceback": [
      "\u001b[1;31m---------------------------------------------------------------------------\u001b[0m",
      "\u001b[1;31mNameError\u001b[0m                                 Traceback (most recent call last)",
      "\u001b[1;32m<ipython-input-85-6ca0645d986c>\u001b[0m in \u001b[0;36m<module>\u001b[1;34m\u001b[0m\n\u001b[0;32m      1\u001b[0m \u001b[0mX\u001b[0m \u001b[1;33m=\u001b[0m \u001b[0mtokenizer\u001b[0m\u001b[1;33m.\u001b[0m\u001b[0mtexts_to_sequences\u001b[0m\u001b[1;33m(\u001b[0m\u001b[0mdf\u001b[0m\u001b[1;33m[\u001b[0m\u001b[1;34m'narrative'\u001b[0m\u001b[1;33m]\u001b[0m\u001b[1;33m.\u001b[0m\u001b[0mvalues\u001b[0m\u001b[1;33m)\u001b[0m\u001b[1;33m\u001b[0m\u001b[1;33m\u001b[0m\u001b[0m\n\u001b[1;32m----> 2\u001b[1;33m \u001b[0mX\u001b[0m \u001b[1;33m=\u001b[0m \u001b[0mpad_sequences\u001b[0m\u001b[1;33m(\u001b[0m\u001b[0mX\u001b[0m\u001b[1;33m,\u001b[0m \u001b[0mmaxlen\u001b[0m\u001b[1;33m=\u001b[0m\u001b[0mMAX_SEQUENCE_LENGTH\u001b[0m\u001b[1;33m)\u001b[0m\u001b[1;33m\u001b[0m\u001b[1;33m\u001b[0m\u001b[0m\n\u001b[0m\u001b[0;32m      3\u001b[0m \u001b[0mprint\u001b[0m\u001b[1;33m(\u001b[0m\u001b[1;34m'Shape of data tensor:'\u001b[0m\u001b[1;33m,\u001b[0m \u001b[0mX\u001b[0m\u001b[1;33m.\u001b[0m\u001b[0mshape\u001b[0m\u001b[1;33m)\u001b[0m\u001b[1;33m\u001b[0m\u001b[1;33m\u001b[0m\u001b[0m\n",
      "\u001b[1;31mNameError\u001b[0m: name 'pad_sequences' is not defined"
     ]
    }
   ],
   "source": [
    "X = tokenizer.texts_to_sequences(df['narrative'].values)\n",
    "X = pad_sequences(X, maxlen=MAX_SEQUENCE_LENGTH)\n",
    "print('Shape of data tensor:', X.shape)"
   ]
  },
  {
   "cell_type": "code",
   "execution_count": null,
   "metadata": {},
   "outputs": [],
   "source": [
    "Y = pd.get_dummies(df['Product']).values\n",
    "print('Shape of label tensor:', Y.shape)"
   ]
  },
  {
   "cell_type": "code",
   "execution_count": null,
   "metadata": {},
   "outputs": [],
   "source": [
    "X_train, X_test, Y_train, Y_test = train_test_split(X,Y, test_size = 0.10, random_state = 42)\n",
    "print(X_train.shape,Y_train.shape)\n",
    "print(X_test.shape,Y_test.shape)"
   ]
  },
  {
   "cell_type": "code",
   "execution_count": 83,
   "metadata": {},
   "outputs": [],
   "source": [
    "from keras.layers import Embedding\n"
   ]
  },
  {
   "cell_type": "code",
   "execution_count": null,
   "metadata": {},
   "outputs": [],
   "source": [
    "model2 = Sequential()\n",
    "model2.add(Embedding(MAX_NB_WORDS, EMBEDDING_DIM, input_length=X.shape[1]))\n",
    "model2.add(SpatialDropout1D(0.2))\n",
    "model2.add(LSTM(100, dropout=0.2, recurrent_dropout=0.2))\n",
    "model2.add(Dense(13, activation='softmax'))\n",
    "model2.compile(loss='categorical_crossentropy', optimizer='adam', metrics=['accuracy'])\n",
    "\n",
    "epochs = 5\n",
    "batch_size = 64\n",
    "\n",
    "history = model.fit(X_train, Y_train, epochs=epochs, batch_size=batch_size,validation_split=0.1,callbacks=[EarlyStopping(monitor='val_loss', patience=3, min_delta=0.0001)])\n"
   ]
  },
  {
   "cell_type": "code",
   "execution_count": 162,
   "metadata": {},
   "outputs": [
    {
     "data": {
      "text/plain": [
       "<119575x85471 sparse matrix of type '<class 'numpy.int64'>'\n",
       "\twith 6529261 stored elements in Compressed Sparse Row format>"
      ]
     },
     "execution_count": 162,
     "metadata": {},
     "output_type": "execute_result"
    }
   ],
   "source": [
    "X_val"
   ]
  },
  {
   "cell_type": "code",
   "execution_count": 149,
   "metadata": {},
   "outputs": [
    {
     "data": {
      "text/plain": [
       "array([[2.1068112e-04, 6.5074964e-05, 1.1395631e-01, ..., 3.2094610e-03,\n",
       "        2.7522133e-04, 9.6498424e-04],\n",
       "       [3.6948888e-05, 9.3445033e-06, 1.9738725e-03, ..., 1.3473543e-03,\n",
       "        6.9955429e-05, 6.3340244e-04],\n",
       "       [9.5675557e-07, 5.4205211e-05, 9.9896431e-01, ..., 9.0579044e-07,\n",
       "        7.1399825e-07, 5.1870991e-08],\n",
       "       ...,\n",
       "       [1.4687306e-05, 6.4322440e-04, 6.2166578e-03, ..., 1.3471496e-03,\n",
       "        1.4947487e-04, 9.1205431e-05],\n",
       "       [1.0232003e-08, 7.6825409e-06, 9.9998629e-01, ..., 9.0880432e-09,\n",
       "        7.1876329e-08, 3.2951439e-10],\n",
       "       [1.9863099e-04, 3.4326483e-03, 1.7260011e-01, ..., 2.5184050e-03,\n",
       "        7.0130843e-04, 3.0174191e-04]], dtype=float32)"
      ]
     },
     "execution_count": 149,
     "metadata": {},
     "output_type": "execute_result"
    }
   ],
   "source": [
    "pred_model"
   ]
  },
  {
   "cell_type": "code",
   "execution_count": 32,
   "metadata": {},
   "outputs": [
    {
     "data": {
      "text/html": [
       "<div>\n",
       "<style scoped>\n",
       "    .dataframe tbody tr th:only-of-type {\n",
       "        vertical-align: middle;\n",
       "    }\n",
       "\n",
       "    .dataframe tbody tr th {\n",
       "        vertical-align: top;\n",
       "    }\n",
       "\n",
       "    .dataframe thead th {\n",
       "        text-align: right;\n",
       "    }\n",
       "</style>\n",
       "<table border=\"1\" class=\"dataframe\">\n",
       "  <thead>\n",
       "    <tr style=\"text-align: right;\">\n",
       "      <th></th>\n",
       "      <th>narrative</th>\n",
       "      <th>Product</th>\n",
       "      <th>word_count</th>\n",
       "    </tr>\n",
       "  </thead>\n",
       "  <tbody>\n",
       "    <tr>\n",
       "      <th>1</th>\n",
       "      <td>transworld systems inc. \\nis trying to collect...</td>\n",
       "      <td>Debt collection</td>\n",
       "      <td>18</td>\n",
       "    </tr>\n",
       "    <tr>\n",
       "      <th>3</th>\n",
       "      <td>Over the past 2 weeks, I have been receiving e...</td>\n",
       "      <td>Debt collection</td>\n",
       "      <td>78</td>\n",
       "    </tr>\n",
       "    <tr>\n",
       "      <th>6</th>\n",
       "      <td>Pioneer has committed several federal violatio...</td>\n",
       "      <td>Debt collection</td>\n",
       "      <td>152</td>\n",
       "    </tr>\n",
       "    <tr>\n",
       "      <th>8</th>\n",
       "      <td>Previously, on XX/XX/XXXX, XX/XX/XXXX, and XX/...</td>\n",
       "      <td>Credit or consumer reporting, credit repair se...</td>\n",
       "      <td>171</td>\n",
       "    </tr>\n",
       "    <tr>\n",
       "      <th>9</th>\n",
       "      <td>Hello This complaint is against the three cred...</td>\n",
       "      <td>Credit or consumer reporting, credit repair se...</td>\n",
       "      <td>428</td>\n",
       "    </tr>\n",
       "    <tr>\n",
       "      <th>...</th>\n",
       "      <td>...</td>\n",
       "      <td>...</td>\n",
       "      <td>...</td>\n",
       "    </tr>\n",
       "    <tr>\n",
       "      <th>1823677</th>\n",
       "      <td>I made a purchase of {$500.00} on XXXX XXXX, 2...</td>\n",
       "      <td>Credit card or prepaid card</td>\n",
       "      <td>44</td>\n",
       "    </tr>\n",
       "    <tr>\n",
       "      <th>1823679</th>\n",
       "      <td>I have been a victim if inquiry issue,</td>\n",
       "      <td>Credit or consumer reporting, credit repair se...</td>\n",
       "      <td>8</td>\n",
       "    </tr>\n",
       "    <tr>\n",
       "      <th>1823680</th>\n",
       "      <td>On XXXX XXXX, 2015, I contacted XXXX XXXX, who...</td>\n",
       "      <td>Mortgage</td>\n",
       "      <td>331</td>\n",
       "    </tr>\n",
       "    <tr>\n",
       "      <th>1823681</th>\n",
       "      <td>I can not get from chase who services my mortg...</td>\n",
       "      <td>Mortgage</td>\n",
       "      <td>21</td>\n",
       "    </tr>\n",
       "    <tr>\n",
       "      <th>1823682</th>\n",
       "      <td>cfbp i would Like to file a complaint on Exper...</td>\n",
       "      <td>Credit or consumer reporting, credit repair se...</td>\n",
       "      <td>150</td>\n",
       "    </tr>\n",
       "  </tbody>\n",
       "</table>\n",
       "<p>605163 rows × 3 columns</p>\n",
       "</div>"
      ],
      "text/plain": [
       "                                                 narrative  \\\n",
       "1        transworld systems inc. \\nis trying to collect...   \n",
       "3        Over the past 2 weeks, I have been receiving e...   \n",
       "6        Pioneer has committed several federal violatio...   \n",
       "8        Previously, on XX/XX/XXXX, XX/XX/XXXX, and XX/...   \n",
       "9        Hello This complaint is against the three cred...   \n",
       "...                                                    ...   \n",
       "1823677  I made a purchase of {$500.00} on XXXX XXXX, 2...   \n",
       "1823679             I have been a victim if inquiry issue,   \n",
       "1823680  On XXXX XXXX, 2015, I contacted XXXX XXXX, who...   \n",
       "1823681  I can not get from chase who services my mortg...   \n",
       "1823682  cfbp i would Like to file a complaint on Exper...   \n",
       "\n",
       "                                                   Product  word_count  \n",
       "1                                          Debt collection          18  \n",
       "3                                          Debt collection          78  \n",
       "6                                          Debt collection         152  \n",
       "8        Credit or consumer reporting, credit repair se...         171  \n",
       "9        Credit or consumer reporting, credit repair se...         428  \n",
       "...                                                    ...         ...  \n",
       "1823677                        Credit card or prepaid card          44  \n",
       "1823679  Credit or consumer reporting, credit repair se...           8  \n",
       "1823680                                           Mortgage         331  \n",
       "1823681                                           Mortgage          21  \n",
       "1823682  Credit or consumer reporting, credit repair se...         150  \n",
       "\n",
       "[605163 rows x 3 columns]"
      ]
     },
     "execution_count": 32,
     "metadata": {},
     "output_type": "execute_result"
    }
   ],
   "source": [
    "df"
   ]
  },
  {
   "cell_type": "code",
   "execution_count": null,
   "metadata": {},
   "outputs": [],
   "source": []
  },
  {
   "cell_type": "code",
   "execution_count": 64,
   "metadata": {},
   "outputs": [],
   "source": [
    "import matplotlib.pyplot as plt\n",
    "plt.style.use('ggplot')\n",
    "\n",
    "def plot_history(history):\n",
    "    acc = history.history['acc']\n",
    "    val_acc = history.history['val_acc']\n",
    "    loss = history.history['loss']\n",
    "    val_loss = history.history['val_loss']\n",
    "    x = range(1, len(acc) + 1)\n",
    "\n",
    "    plt.figure(figsize=(12, 5))\n",
    "    plt.subplot(1, 2, 1)\n",
    "    plt.plot(x, acc, 'b', label='Training acc')\n",
    "    plt.plot(x, val_acc, 'r', label='Validation acc')\n",
    "    plt.title('Training and validation accuracy')\n",
    "    plt.legend()\n",
    "    plt.subplot(1, 2, 2)\n",
    "    plt.plot(x, loss, 'b', label='Training loss')\n",
    "    plt.plot(x, val_loss, 'r', label='Validation loss')\n",
    "    plt.title('Training and validation loss')\n",
    "    plt.legend()\n",
    "    #plt.savefig(\"plot.png\")"
   ]
  },
  {
   "cell_type": "code",
   "execution_count": 131,
   "metadata": {},
   "outputs": [],
   "source": [
    "import matplotlib.pyplot as plt\n",
    "plt.style.use('ggplot')\n",
    "\n",
    "def plot_history(history):\n",
    "    acc = history['acc']\n",
    "    val_acc = history['val_acc']\n",
    "    loss = history['loss']\n",
    "    val_loss = history['val_loss']\n",
    "    x = range(1, len(acc) + 1)\n",
    "\n",
    "    plt.figure(figsize=(12, 5))\n",
    "    plt.subplot(1, 2, 1)\n",
    "    plt.plot(x, acc, 'b', label='Training acc')\n",
    "    plt.plot(x, val_acc, 'r', label='Validation acc')\n",
    "    plt.title('Training and validation accuracy')\n",
    "    plt.legend()\n",
    "    plt.subplot(1, 2, 2)\n",
    "    plt.plot(x, loss, 'b', label='Training loss')\n",
    "    plt.plot(x, val_loss, 'r', label='Validation loss')\n",
    "    plt.title('Training and validation loss')\n",
    "    plt.legend()\n",
    "    #plt.savefig(\"plot.png\")"
   ]
  },
  {
   "cell_type": "code",
   "execution_count": 132,
   "metadata": {},
   "outputs": [
    {
     "data": {
      "image/png": "[encoded data removed]",
      "text/plain": [
       "<Figure size 864x360 with 2 Axes>"
      ]
     },
     "metadata": {},
     "output_type": "display_data"
    }
   ],
   "source": [
    "plot_history(history)"
   ]
  },
  {
   "cell_type": "code",
   "execution_count": 134,
   "metadata": {},
   "outputs": [
    {
     "data": {
      "image/png": "[encoded data removed]",
      "text/plain": [
       "<Figure size 864x360 with 2 Axes>"
      ]
     },
     "metadata": {},
     "output_type": "display_data"
    }
   ],
   "source": [
    "plot_history(history)"
   ]
  },
  {
   "cell_type": "code",
   "execution_count": 132,
   "metadata": {},
   "outputs": [],
   "source": [
    "from sklearn.compose import ColumnTransformer\n",
    "from sklearn.preprocessing import OneHotEncoder\n",
    "from sklearn.feature_extraction.text import TfidfVectorizer\n"
   ]
  },
  {
   "cell_type": "code",
   "execution_count": 135,
   "metadata": {},
   "outputs": [],
   "source": [
    "before_vect = df[['narrative']]\n",
    "columnTransformer = ColumnTransformer( [('tfidf',TfidfVectorizer(stop_words=None, max_features=100000),'narrative')],\n",
    "remainder='drop')\n",
    "vector_transformer = columnTransformer.fit(before_vect)\n",
    "vectorized_df = vector_transformer.transform(before_vect)"
   ]
  },
  {
   "cell_type": "code",
   "execution_count": 79,
   "metadata": {},
   "outputs": [
    {
     "data": {
      "text/plain": [
       "<592935x99272 sparse matrix of type '<class 'numpy.float64'>'\n",
       "\twith 32223236 stored elements in Compressed Sparse Row format>"
      ]
     },
     "execution_count": 79,
     "metadata": {},
     "output_type": "execute_result"
    }
   ],
   "source": [
    "vectorized_df"
   ]
  },
  {
   "cell_type": "code",
   "execution_count": 137,
   "metadata": {},
   "outputs": [],
   "source": [
    "targetTransformer = ColumnTransformer( [('E',OneHotEncoder(dtype='int'))])"
   ]
  },
  {
   "cell_type": "code",
   "execution_count": 144,
   "metadata": {},
   "outputs": [],
   "source": [
    "y=df['Product'].to_frame()"
   ]
  },
  {
   "cell_type": "code",
   "execution_count": 42,
   "metadata": {},
   "outputs": [
    {
     "data": {
      "text/html": [
       "<div>\n",
       "<style scoped>\n",
       "    .dataframe tbody tr th:only-of-type {\n",
       "        vertical-align: middle;\n",
       "    }\n",
       "\n",
       "    .dataframe tbody tr th {\n",
       "        vertical-align: top;\n",
       "    }\n",
       "\n",
       "    .dataframe thead th {\n",
       "        text-align: right;\n",
       "    }\n",
       "</style>\n",
       "<table border=\"1\" class=\"dataframe\">\n",
       "  <thead>\n",
       "    <tr style=\"text-align: right;\">\n",
       "      <th></th>\n",
       "      <th>Product</th>\n",
       "    </tr>\n",
       "  </thead>\n",
       "  <tbody>\n",
       "    <tr>\n",
       "      <th>0</th>\n",
       "      <td>Credit reporting, credit repair services, or o...</td>\n",
       "    </tr>\n",
       "    <tr>\n",
       "      <th>1</th>\n",
       "      <td>Debt collection</td>\n",
       "    </tr>\n",
       "    <tr>\n",
       "      <th>2</th>\n",
       "      <td>Credit reporting, credit repair services, or o...</td>\n",
       "    </tr>\n",
       "    <tr>\n",
       "      <th>3</th>\n",
       "      <td>Debt collection</td>\n",
       "    </tr>\n",
       "    <tr>\n",
       "      <th>4</th>\n",
       "      <td>Credit reporting, credit repair services, or o...</td>\n",
       "    </tr>\n",
       "    <tr>\n",
       "      <th>...</th>\n",
       "      <td>...</td>\n",
       "    </tr>\n",
       "    <tr>\n",
       "      <th>1823678</th>\n",
       "      <td>Bank account or service</td>\n",
       "    </tr>\n",
       "    <tr>\n",
       "      <th>1823679</th>\n",
       "      <td>Credit reporting</td>\n",
       "    </tr>\n",
       "    <tr>\n",
       "      <th>1823680</th>\n",
       "      <td>Mortgage</td>\n",
       "    </tr>\n",
       "    <tr>\n",
       "      <th>1823681</th>\n",
       "      <td>Mortgage</td>\n",
       "    </tr>\n",
       "    <tr>\n",
       "      <th>1823682</th>\n",
       "      <td>Credit reporting</td>\n",
       "    </tr>\n",
       "  </tbody>\n",
       "</table>\n",
       "<p>1823683 rows × 1 columns</p>\n",
       "</div>"
      ],
      "text/plain": [
       "                                                   Product\n",
       "0        Credit reporting, credit repair services, or o...\n",
       "1                                          Debt collection\n",
       "2        Credit reporting, credit repair services, or o...\n",
       "3                                          Debt collection\n",
       "4        Credit reporting, credit repair services, or o...\n",
       "...                                                    ...\n",
       "1823678                            Bank account or service\n",
       "1823679                                   Credit reporting\n",
       "1823680                                           Mortgage\n",
       "1823681                                           Mortgage\n",
       "1823682                                   Credit reporting\n",
       "\n",
       "[1823683 rows x 1 columns]"
      ]
     },
     "execution_count": 42,
     "metadata": {},
     "output_type": "execute_result"
    }
   ],
   "source": [
    "y"
   ]
  },
  {
   "cell_type": "code",
   "execution_count": 141,
   "metadata": {},
   "outputs": [],
   "source": [
    "from imblearn.over_sampling import RandomOverSampler\n",
    "from sklearn.model_selection import train_test_split\n",
    "from sklearn.linear_model import SGDClassifier\n",
    "from sklearn.metrics import accuracy_score\n",
    "from sklearn.metrics import classification_report"
   ]
  },
  {
   "cell_type": "code",
   "execution_count": 142,
   "metadata": {},
   "outputs": [
    {
     "name": "stdout",
     "output_type": "stream",
     "text": [
      "Accuracy 0.7989275484092732\n",
      "                                                      precision    recall  f1-score   support\n",
      "\n",
      "                         Checking or savings account       0.78      0.82      0.80     72885\n",
      "                         Credit card or prepaid card       0.78      0.82      0.80     73008\n",
      "Credit or consumer reporting, credit repair services       0.76      0.76      0.76     72446\n",
      "                                     Debt collection       0.75      0.79      0.77     72432\n",
      "         Money transfer or service, virtual currency       0.85      0.84      0.84     73035\n",
      "                                            Mortgage       0.89      0.95      0.92     72579\n",
      "                                       Personal loan       0.81      0.42      0.56     72688\n",
      "                                        Student loan       0.91      0.93      0.92     72801\n",
      "                               Vehicle loan or lease       0.69      0.85      0.76     72701\n",
      "\n",
      "                                            accuracy                           0.80    654575\n",
      "                                           macro avg       0.80      0.80      0.79    654575\n",
      "                                        weighted avg       0.80      0.80      0.79    654575\n",
      "\n"
     ]
    }
   ],
   "source": [
    "ros = RandomOverSampler(random_state=777)\n",
    "X_ROS, y_ROS = ros.fit_sample(vectorized_df, y)\n",
    "X_train, x_test, Y_train, y_test = train_test_split(X_ROS,y_ROS,test_size=0.3,random_state=42)\n",
    "sgd = SGDClassifier(max_iter=1000, tol=1e-3)\n",
    "sgd.fit(X_train, Y_train)\n",
    "pred_sgd = sgd.predict(x_test)\n",
    "print(\"Accuracy %s\" % accuracy_score(pred_sgd,y_test))\n",
    "print(classification_report(y_test,pred_sgd))"
   ]
  },
  {
   "cell_type": "code",
   "execution_count": 139,
   "metadata": {},
   "outputs": [],
   "source": [
    "from imblearn.over_sampling import SMOTE\n",
    "from sklearn.feature_extraction.text import TfidfVectorizer\n",
    "from sklearn.model_selection import train_test_split\n",
    "from sklearn.linear_model import SGDClassifier\n",
    "from sklearn.metrics import accuracy_score\n",
    "from sklearn.metrics import classification_report"
   ]
  },
  {
   "cell_type": "code",
   "execution_count": 140,
   "metadata": {},
   "outputs": [
    {
     "name": "stderr",
     "output_type": "stream",
     "text": [
      "C:\\Users\\virah\\anaconda3\\lib\\site-packages\\sklearn\\utils\\validation.py:73: DataConversionWarning: A column-vector y was passed when a 1d array was expected. Please change the shape of y to (n_samples, ), for example using ravel().\n",
      "  return f(**kwargs)\n"
     ]
    },
    {
     "name": "stdout",
     "output_type": "stream",
     "text": [
      "Accuracy 0.8304777909330482\n",
      "                                                      precision    recall  f1-score   support\n",
      "\n",
      "                         Checking or savings account       0.83      0.86      0.84     72885\n",
      "                         Credit card or prepaid card       0.82      0.86      0.84     73008\n",
      "Credit or consumer reporting, credit repair services       0.78      0.76      0.77     72446\n",
      "                                     Debt collection       0.79      0.82      0.80     72432\n",
      "         Money transfer or service, virtual currency       0.88      0.88      0.88     73035\n",
      "                                            Mortgage       0.92      0.96      0.94     72579\n",
      "                                       Personal loan       0.84      0.50      0.62     72688\n",
      "                                        Student loan       0.94      0.95      0.94     72801\n",
      "                               Vehicle loan or lease       0.71      0.89      0.79     72701\n",
      "\n",
      "                                            accuracy                           0.83    654575\n",
      "                                           macro avg       0.83      0.83      0.83    654575\n",
      "                                        weighted avg       0.83      0.83      0.83    654575\n",
      "\n"
     ]
    }
   ],
   "source": [
    "smote = SMOTE(random_state=777,k_neighbors=18)\n",
    "X_smote,y_smote = smote.fit_sample(vectorized_df,y)\n",
    "X_train, x_test, Y_train, y_test = train_test_split(X_smote,y_smote,test_size=0.3,random_state=42)\n",
    "sgd = SGDClassifier(max_iter=1000, tol=1e-3)\n",
    "sgd.fit(X_train, Y_train)\n",
    "pred_sgd = sgd.predict(x_test)\n",
    "print(\"Accuracy %s\" % accuracy_score(pred_sgd,y_test))\n",
    "print(classification_report(y_test,pred_sgd))"
   ]
  },
  {
   "cell_type": "code",
   "execution_count": 103,
   "metadata": {},
   "outputs": [
    {
     "name": "stdout",
     "output_type": "stream",
     "text": [
      "test\n"
     ]
    }
   ],
   "source": [
    "print(\"test\")"
   ]
  }
 ],
 "metadata": {
  "kernelspec": {
   "display_name": "Python 3",
   "language": "python",
   "name": "python3"
  },
  "language_info": {
   "codemirror_mode": {
    "name": "ipython",
    "version": 3
   },
   "file_extension": ".py",
   "mimetype": "text/x-python",
   "name": "python",
   "nbconvert_exporter": "python",
   "pygments_lexer": "ipython3",
   "version": "3.8.3"
  }
 },
 "nbformat": 4,
 "nbformat_minor": 4
}
